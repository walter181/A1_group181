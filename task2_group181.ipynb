{
 "cells": [
  {
   "cell_type": "markdown",
   "metadata": {
    "id": "S8tinZOUlDER"
   },
   "source": [
    "<div class=\"alert alert-block alert-danger\">\n",
    "\n",
    "# FIT5196 Task 2 in Assessment 1\n",
    "    \n",
    "#### Student Name: Deshui Yu\n",
    "#### Student ID: 34253599\n",
    "\n",
    "Date: 24/08/2024\n",
    "\n",
    "Environment: xxxxxx\n",
    "\n",
    "Libraries used:\n",
    "* os (for interacting with the operating system, included in Python xxxx) \n",
    "* pandas 1.1.0 (for dataframe, installed and imported) \n",
    "* multiprocessing (for performing processes on multi cores, included in Python 3.6.9 package) \n",
    "* itertools (for performing operations on iterables)\n",
    "* nltk 3.5 (Natural Language Toolkit, installed and imported)\n",
    "* nltk.tokenize (for tokenization, installed and imported)\n",
    "* nltk.stem (for stemming the tokens, installed and imported)\n",
    "\n",
    "    </div>"
   ]
  },
  {
   "cell_type": "markdown",
   "metadata": {
    "id": "xnnLnFnLlDEU"
   },
   "source": [
    "<div class=\"alert alert-block alert-info\">\n",
    "    \n",
    "## Table of Contents\n",
    "\n",
    "</div>\n",
    "\n",
    "[1. Introduction](#Intro) <br>\n",
    "[2. Importing Libraries](#libs) <br>\n",
    "[3. Examining Input File](#examine) <br>\n",
    "[4. Loading and Parsing Files](#load) <br>\n",
    "$\\;\\;\\;\\;$[4.1. Tokenization](#tokenize) <br>\n",
    "$\\;\\;\\;\\;$[4.2. Whatever else](#whetev) <br>\n",
    "$\\;\\;\\;\\;$[4.3. Genegrate numerical representation](#whetev1) <br>\n",
    "[5. Writing Output Files](#write) <br>\n",
    "$\\;\\;\\;\\;$[5.1. Vocabulary List](#write-vocab) <br>\n",
    "$\\;\\;\\;\\;$[5.2. Sparse Matrix](#write-sparseMat) <br>\n",
    "[6. Summary](#summary) <br>\n",
    "[7. References](#Ref) <br>"
   ]
  },
  {
   "cell_type": "markdown",
   "metadata": {
    "id": "z8mo6PPRlDEU"
   },
   "source": [
    "<div class=\"alert alert-block alert-success\">\n",
    "    \n",
    "## 1.  Introduction  <a class=\"anchor\" name=\"Intro\"></a>"
   ]
  },
  {
   "cell_type": "markdown",
   "metadata": {
    "id": "ewZrff73lDEV"
   },
   "source": [
    "This assessment concerns textual data and the aim is to extract data, process them, and transform them into a proper format. The dataset provided is in the format of a PDF file containing ...."
   ]
  },
  {
   "cell_type": "markdown",
   "metadata": {
    "id": "bSr_kwKclDEV"
   },
   "source": [
    "<div class=\"alert alert-block alert-success\">\n",
    "    \n",
    "## 2.  Importing Libraries  <a class=\"anchor\" name=\"libs\"></a>"
   ]
  },
  {
   "cell_type": "markdown",
   "metadata": {
    "id": "acwZw2NklDEW"
   },
   "source": [
    "In this assessment, any python packages is permitted to be used. The following packages were used to accomplish the related tasks:\n",
    "\n",
    "* **os:** to interact with the operating system, e.g. navigate through folders to read files\n",
    "* **re:** to define and use regular expressions\n",
    "* **pandas:** to work with dataframes\n",
    "* **multiprocessing:** to perform processes on multi cores for fast performance \n",
    "* **langid:** to detect the language of the text data, ensuring it is in English.\n",
    "* **itertools.chain:** to flatten lists or iterate over multiple lists consecutively.\n",
    "* **nltk (Natural Language Toolkit):** a comprehensive library for natural language processing tasks.\n",
    "* **sklearn.feature_extraction.text.CountVectorizer:** to convert a collection of text documents into a matrix of token counts.\n",
    "* **collections.defaultdict:** to create dictionaries with default values for missing keys."
   ]
  },
  {
   "cell_type": "code",
   "execution_count": 1,
   "metadata": {
    "id": "qgmGWs8HlDEW"
   },
   "outputs": [],
   "source": [
    "import os\n",
    "import re\n",
    "import langid\n",
    "import pandas as pd\n",
    "import multiprocessing\n",
    "from itertools import chain\n",
    "import nltk\n",
    "from nltk.probability import *\n",
    "from nltk.tokenize import RegexpTokenizer\n",
    "from nltk.tokenize import MWETokenizer\n",
    "from nltk.stem import PorterStemmer\n",
    "from nltk.util import ngrams\n",
    "import json\n",
    "from nltk.probability import FreqDist\n",
    "from nltk.collocations import BigramAssocMeasures, BigramCollocationFinder\n",
    "from sklearn.feature_extraction.text import CountVectorizer\n",
    "from collections import defaultdict"
   ]
  },
  {
   "cell_type": "markdown",
   "metadata": {
    "id": "lwNp0KnWlDEX"
   },
   "source": [
    "-------------------------------------"
   ]
  },
  {
   "cell_type": "markdown",
   "metadata": {
    "collapsed": true,
    "id": "SA7fSJiRlDEY"
   },
   "source": [
    "<div class=\"alert alert-block alert-success\">\n",
    "    \n",
    "## 3.  Examining Input File <a class=\"anchor\" name=\"examine\"></a>"
   ]
  },
  {
   "cell_type": "code",
   "execution_count": 2,
   "metadata": {
    "id": "bPCuEl8smTHW"
   },
   "outputs": [],
   "source": [
    "# from google.colab import drive\n",
    "# drive.mount('/content/drive')"
   ]
  },
  {
   "cell_type": "markdown",
   "metadata": {
    "id": "7CJDLDI6lDEY"
   },
   "source": [
    "Let's examine what is the content of the file. For this purpose, i need open the json file.In the previous assignment, it was required to convert all review comments in the JSON file to lowercase and remove any emojis."
   ]
  },
  {
   "cell_type": "markdown",
   "metadata": {
    "id": "OpDVyW4YlDEZ"
   },
   "source": [
    "It is noticed that the file contains several reviews associated with various businesses. These reviews are in the form of JSON objects, where each review includes fields such as review_text, review_rating, user_id, and others. The goal is to preprocess this textual data by performing specific operations like lowercasing, removing emojis, tokenization, and filtering, to ultimately create a vocabulary list and a sparse numerical representation of the text."
   ]
  },
  {
   "cell_type": "markdown",
   "metadata": {
    "id": "Z7c1-c3olDEa"
   },
   "source": [
    "Having parsed the pdf file, the following observations can be made:\n",
    "\n",
    "Review Text Characteristics:\n",
    "The review_text field must be normalized to lowercase and stripped of emojis.\n",
    "Tokenization should handle punctuation, special characters, and numeric values appropriately.\n",
    "\n",
    "Business Review Count:\n",
    "Only businesses with at least 70 text reviews will be processed to ensure robust vocabulary generation.\n",
    "\n",
    "Preprocessing Requirements:\n",
    "Validate that the text is in English, convert it to lowercase, and remove emojis.\n",
    "Perform tokenization, stemming, stopword removal, and filter out rare and short tokens.\n",
    "\n",
    "Vocabulary and Count Vector Generation:\n",
    "Generate both unigrams and meaningful bigrams, selecting the top 200 bigrams based on the PMI measure.\n",
    "Output a sorted vocabulary list and a sparse numerical representation mapping business IDs to token frequencies."
   ]
  },
  {
   "cell_type": "markdown",
   "metadata": {
    "collapsed": true,
    "id": "ENnHWjoXlDEc"
   },
   "source": [
    "<div class=\"alert alert-block alert-success\">\n",
    "    \n",
    "## 4.  Loading and Parsing File <a class=\"anchor\" name=\"load\"></a>"
   ]
  },
  {
   "cell_type": "markdown",
   "metadata": {
    "id": "N9esGMx8lDEc"
   },
   "source": [
    "In this section, I read the business review-related data from task1_181.json and initialized an empty dictionary called Temp_review_dictionary to store qualifying review_text entries. For each valid dictionary entry, the code retrieves the list of reviews associated with the business. It then extracts the review_text from each review, ensuring the text is not None or an empty string, and stores it in a temporary list for that business. After processing all reviews for the business, the code checks if the number of reviews meets or exceeds 70. If this threshold is met, the reviews are added to Temp_review_dictionary under the corresponding business key."
   ]
  },
  {
   "cell_type": "code",
   "execution_count": 3,
   "metadata": {},
   "outputs": [],
   "source": [
    "# Open and load the JSON file\n",
    "with open('task1_181.json', 'r', encoding='utf-8') as file:\n",
    "    all_data = json.load(file)\n",
    "\n",
    "# Initialize a dictionary to store qualifying review_text\n",
    "Temp_review_dictionary = {}\n",
    "\n",
    "# Iterate over all items in the data\n",
    "for key, value in all_data.items():\n",
    "    if isinstance(value, dict):\n",
    "        reviews = value.get(\"reviews\", [])\n",
    "        if isinstance(reviews, list):\n",
    "            business_reviews = []  # To store all review_text for the current business\n",
    "            for review in reviews:\n",
    "                # Get the review_text\n",
    "                row_review_text = review.get(\"review_text\")\n",
    "                if row_review_text:  # Ensure review_text is not None or an empty string\n",
    "                    row_review_text = str(row_review_text)\n",
    "                    business_reviews.append(row_review_text)\n",
    "            # If the number of reviews for the current business is 70 or more, save the reviews\n",
    "            if len(business_reviews) >= 70:\n",
    "                Temp_review_dictionary[key] = business_reviews"
   ]
  },
  {
   "cell_type": "markdown",
   "metadata": {
    "id": "-uh9oUXAlDEd"
   },
   "source": [
    "Let's examine the dictionary generated. For counting the total number of reviews extracted ...."
   ]
  },
  {
   "cell_type": "code",
   "execution_count": 4,
   "metadata": {},
   "outputs": [
    {
     "name": "stdout",
     "output_type": "stream",
     "text": [
      "21132\n"
     ]
    }
   ],
   "source": [
    "total_reviews = sum(len(reviews) for reviews in Temp_review_dictionary.values())\n",
    "print(total_reviews)"
   ]
  },
  {
   "cell_type": "markdown",
   "metadata": {
    "collapsed": true,
    "id": "VIfQCD1VlDEe"
   },
   "source": [
    "<div class=\"alert alert-block alert-warning\">\n",
    "    \n",
    "### 4.1. Tokenization and Generate numerical representatio<a class=\"anchor\" name=\"tokenize\"></a>"
   ]
  },
  {
   "cell_type": "markdown",
   "metadata": {
    "id": "gchByyjolDEf"
   },
   "source": [
    "Tokenization is a principal step in text processing and producing unigrams. In this section, I first tokenize the review text into words using a regular expression, then store the tokenized reviews back into the dictionary. Next, it flattens the tokenized word lists and removes both context-independent and context-dependent stopwords. The code then stems the words using the Porter stemmer and removes rare words that appear in less than 5% of the reviews. Finally, it filters out any tokens that are shorter than 3 characters."
   ]
  },
  {
   "cell_type": "code",
   "execution_count": 5,
   "metadata": {
    "id": "p8zT4N0RlDEf"
   },
   "outputs": [
    {
     "name": "stdout",
     "output_type": "stream",
     "text": [
      "['don', 'great', 'nice', 'service', 've', 'back', 'love', 'excellent', 'friendly', 'amazing', 'good', 'place', 'staff', 'time']\n",
      "['newbi', 'immers', 'den', 'brain', 'crime', 'freebi', 'ypu', 'sequenc', 'beginn', 'unforeseen', 'allot', 'ro', 'magnet', 'addict', 'optim', 'uncov', 'riddl', 'bond', 'countrysid', 'knight', 'neon', 'anniversari', 'intric', 'grandkid', 'rancheria', 'jailbreak', 'puzzl', 'heck', 'idiot', 'brightli', 'plot', 'hilltop', 'moseley', 'amus', 'boggl', 'jt', 'prop', 'beep', 'voupl', 'actor', 'exercis', 'januari', 'ashley', 'prison', 'versu', 'impact', 'these', 'powerpoint', 'old', 'jail', 'tinker', 'teas', 'media', 'doabl', 'unsur', 'thrive', 'roommat', 'definet', 'captur', 'fasten', 'shasta', 'cousin', 'teambuild', 'script', 'het', 'joseph', 'businessman', 'soin', 'cab', 'exterior', 'camper', 'shenanigan', 'shi', 'egr', 'rv', 'carolyn', 'glenn', 'ounc', 'rust', 'phil', 'spark', 'negit', 'rewir', 'johnson', 'curteou', 'fluid', 'vandal', 'enuff', 'smoge', 'dui', 'cantact', 'duck', 'glen', 'cruis', 'redicul', 'fortuna', 'fog', 'apprehens', 'satisfactori', 'goin', 'incompit', 'goug', 'wd', 'splash', 'certif', 'randi', 'isuzu', 'sixti', 'mama', 'brake', 'disconnect', 'cabl', 'litter', 'smog', 'eureka', 'cirtainli', 'jae', 'gg', 'greedi', 'humboldt', 'wholeheartedli', 'brownish', 'apoint', 'gasket', 'employess', 'percent', 'trolley', 'aa', 'cultur', 'charges', 'diagnost', 'anough', 'stoke', 'sincerli', 'rig', 'serfvic', 'emiss', 'eficient', 'offroad', 'defentyli', 'taylor', 'akway', 'trooper', 'retract', 'entrust', 'thir', 'amaaaaazzzziiiinnngggg', 'june', 'eclect', 'chorizo', 'grumpi', 'artwork', 'thirsti', 'suuuuper', 'jamba', 'meatless', 'intoler', 'expans', 'mayonnais', 'tumer', 'sanitari', 'dijon', 'smithi', 'monser', 'vertic', 'mocha', 'dank', 'soooooo', 'onelov', 'bagel', 'ight', 'nutriti', 'croissant', 'hulk', 'cure', 'careless', 'depress', 'trendi', 'intersect', 'carb', 'unsatisfi', 'kale', 'ace', 'dice', 'concentr', 'ughhh', 'unassum', 'abras', 'pound', 'fluke', 'turmer', 'ketogen', 'pastri', 'savori', 'right', 'avacado', 'thr', 'probabl', 'yuuummmm', 'dens', 'lactos', 'cheeseburg', 'cow', 'doug', 'strike', 'fastfood', 'pine', 'connoisseur', 'nutrient', 'chai', 'cbd', 'chico', 'thinli', 'diasapoint', 'jusr', 'relief', 'ordederd', 'lttle', 'propan', 'hippi', 'woot', 'pesto', 'filthi', 'diet', 'dietari', 'lavend', 'loooooov', 'fed', 'outta', 'cocoa', 'leomad', 'mustard', 'intrigu', 'sacrific', 'fund', 'aswel', 'forlorn', 'peppercini', 'breakfest', 'bratti', 'cucumb', 'lotion', 'zucchini', 'substanti', 'buger', 'baffl', 'snd', 'carrot', 'gambl', 'tooooo', 'obstacl', 'ketchup', 'masterpiec', 'raini', 'monster', 'atroci', 'lump', 'bounti', 'hangov', 'crusti', 'nit', 'chipotl', 'holi', 'smothi', 'healthiest', 'truffl', 'dumpster', 'homey', 'xtra', 'yolk', 'mouthwat', 'someday', 'grass', 'slim', 'fesh', 'content', 'remaind', 'oili', 'sonoma', 'windsor', 'mein', 'chief', 'mien', 'powder', 'diamond', 'accomod', 'spongi', 'kung', 'ainokea', 'maki', 'japan', 'wonton', 'chow', 'hardwork', 'washington', 'rapidli', 'conclus', 'remeb', 'cloverdal', 'freshest', 'petaluma', 'wound', 'valcano', 'dough', 'gluey', 'vietnames', 'tian', 'mei', 'een', 'pho', 'thailand', 'waitstaff', 'absolutli', 'yellowtail', 'warmest', 'wasabi', 'steekah', 'yuen', 'vietnam', 'conquer', 'nonetheless', 'rita', 'extraordinari', 'wholesom', 'msg', 'lion', 'foa', 'kha', 'ftrsh', 'cornerston', 'blossom', 'pao', 'luff', 'dragon', 'suspici', 'wiater', 'dem', 'variti', 'shushe', 'scallop', 'prettiest', 'gravi', 'denni', 'seevic', 'stall', 'tait', 'fulltim', 'desayuno', 'serbian', 'maker', 'justifi', 'pasteri', 'llega', 'fifteen', 'wooo', 'primera', 'visual', 'primarili', 'hostil', 'submit', 'hawaii', 'om', 'racista', 'serveus', 'napavalley', 'gret', 'claw', 'tint', 'thruway', 'bragg', 'visuel', 'quina', 'kay', 'pendient', 'hambr', 'rachel', 'disput', 'retaliatori', 'disord', 'tummi', 'fico', 'graveyard', 'estuvo', 'acu', 'bedr', 'mesera', 'inhospit', 'pase', 'peu', 'orderotak', 'imperd', 'looong', 'urin', 'adskillig', 'jut', 'persist', 'lunchtim', 'ello', 'pasar', 'bon', 'duh', 'angl', 'serbisio', 'platillo', 'coin', 'restless', 'pesimo', 'skillet', 'burgeren', 'fort', 'ty', 'coffer', 'desayunar', 'fiance', 'americano', 'layer', 'seriv', 'emot', 'tan', 'borderlin', 'esperando', 'ikk', 'avoir', 'napa', 'song', 'cocinan', 'xweek', 'stear', 'antoj', 'yummmm', 'ungri', 'sirviera', 'og', 'inattent', 'matar', 'kunn', 'stair', 'vakker', 'necesit', 'typhoid', 'grei', 'quarantin', 'sunken', 'tina', 'outwardli', 'dissatisfi', 'hora', 'regina', 'lenni', 'kjapp', 'pecan', 'beaiti', 'platter', 'wet', 'plush', 'stinki', 'ay', 'abierto', 'spill', 'ila', 'stack', 'blah', 'brag', 'definitli', 'path', 'gringa', 'bourbon', 'hadd', 'susi', 'nadama', 'skimpi', 'unorgan', 'amiabl', 'quirki', 'soscol', 'hashbrown', 'hostess', 'dio', 'proof', 'mesero', 'peluch', 'pierc', 'leopard', 'superbird', 'accent', 'uck', 'zero', 'plusieur', 'entryway', 'gordan', 'fluffi', 'avaibl', 'dia', 'manuev', 'omelett', 'download', 'pancak', 'agr', 'amtrak', 'ja', 'thrm', 'fica', 'orden', 'tr', 'omelet', 'lukewarm', 'ti', 'aarp', 'lauranc', 'blister', 'experiencia', 'jo', 'pact', 'amanda', 'crayon', 'esa', 'douch', 'stekt', 'fin', 'pritti', 'ci', 'atento', 'llegamo', 'esper', 'appal', 'br', 'ramsay', 'adjoin', 'sheet', 'platicando', 'porsjon', 'espec', 'jessica', 'drug', 'celui', 'fairground', 'unwelcom', 'behav', 'amway', 'clasic', 'breakfastallday', 'boil', 'uhg', 'motorcycl', 'tratan', 'ar', 'compens', 'jukebox', 'martinez', 'novemb', 'berger', 'retrofit', 'lent', 'playlist', 'portapotti', 'abysm', 'ain', 'circumst', 'ceci', 'buffalo', 'contamin', 'rene', 'thevallejo', 'dennyyyyi', 'amigo', 'uncook', 'shiti', 'magn', 'butt', 'kokt', 'essay', 'igual', 'inept', 'quiero', 'como', 'meilleur', 'maten', 'haka', 'tastey', 'printer', 'trim', 'ave', 'puedo', 'quier', 'anita', 'ven', 'wage', 'ihop', 'rt', 'keith', 'cam', 'radiat', 'sleev', 'tracktechduramax', 'spec', 'compressor', 'charger', 'cummin', 'billet', 'keychain', 'seri', 'manifold', 'couldnot', 'fleet', 'sticker', 'obsolet', 'youtub', 'movement', 'sheesh', 'thankyou', 'proffesion', 'fritz', 'quieter', 'weld', 'ore', 'andrew', 'bind', 'lmr', 'blade', 'randal', 'biggi', 'discret', 'solenoid', 'tienda', 'coozi', 'vain', 'accumul', 'hpop', 'stroke', 'falt', 'fallow', 'bypass', 'buiness', 'diesal', 'backord', 'verif', 'cac', 'streamlin', 'rebuilt', 'turbo', 'arp', 'erika', 'duramax', 'brisk', 'adapt', 'termin', 'bo', 'espanol', 'stud', 'zibbx', 'turbin', 'sprinter', 'dodg', 'diesel', 'ide', 'user', 'tighten', 'paypal', 'powerstrok', 'oem', 'intercool', 'doghous', 'bridg', 'craftsmanship', 'cord', 'ebpv', 'underneath', 'pk', 'nore', 'orderd', 'everth', 'supersport', 'imo', 'servicec', 'powerstok', 'worthless', 'cooler', 'defonitli', 'gripe', 'steel', 'cud', 'postag', 'chra', 'resistor', 'psd', 'prodourc', 'icp', 'supplier', 'headstud', 'inclin', 'donut', 'browser', 'rod', 'fifti', 'dosent', 'spoolig', 'fedex', 'delet', 'fitment', 'spool', 'breakag', 'crankshaft', 'swear', 'intak', 'voila', 'hadnt', 'har', 'randomli', 'prosourc', 'mejora', 'oder', 'gen', 'ram', 'suspos', 'pli', 'prosourcediesel', 'trump', 'delt', 'concis', 'idl', 'lookin', 'ebp', 'actuat', 'crank', 'honeybunni', 'heep', 'boost', 'aluminum', 'responsibl', 'freeli', 'ebv', 'koozi', 'soot', 'bolt', 'bellow', 'incas', 'convect', 'alterc', 'epb', 'cartridg', 'distributor', 'shore', 'gtp', 'jake', 'ob', 'knowleag', 'gun', 'lli', 'cuss', 'recomendado', 'ip', 'mightili', 'predict', 'alaska', 'vote', 'instagram', 'airdog', 'motor', 'pigtail', 'mustang', 'thermal', 'cussi', 'moral', 'garrett', 'crankcas', 'staf', 'valv', 'shipment', 'weaseld', 'corona', 'inlet', 'manor', 'neatli', 'elimin', 'deisel', 'logic', 'ora', 'eighth', 'kenworth', 'prouct', 'carolina', 'sportsmobil', 'bent', 'runaround', 'throttl', 'diffrent', 'kit', 'defect', 'injector', 'loctit', 'spoolog', 'dei', 'reorder', 'jagaloon', 'hardwar', 'thx', 'forgotten', 'clamp', 'lmm', 'lube', 'pig', 'lbz', 'ipr', 'gavem', 'reffer', 'stainless', 'pushrod', 'modif', 'length', 'dieselog', 'bled', 'remanufactur', 'sip', 'connector', 'brandon', 'shutoff', 'gete', 'camineta', 'doorstep', 'pedest', 'ramp', 'dummi', 'prosouc', 'lever', 'undersid', 'muffl', 'xdp', 'trac', 'reciv', 'tact', 'delphi', 'coolant', 'unopen', 'outcom', 'raton', 'earica', 'riffraff', 'underestim', 'thicker', 'hardest', 'kdp', 'sl', 'ol', 'po', 'horsepow', 'lml', 'expedi', 'swap', 'wat', 'clip', 'romero', 'tore', 'fabric', 'gladli', 'silicon', 'ventil', 'headgasket', 'jodi', 'shaft', 'agav', 'oe', 'budg', 'invoic', 'aftermarket', 'insul', 'hscac', 'shouldnt', 'turbocharg', 'glitch', 'woke', 'styrofoam', 'vclamp', 'restock', 'ceram', 'differenti', 'motorcraft', 'schedual', 'uppip', 'loc', 'threy', 'zibbix', 'deffinatli', 'inject', 'excurs', 'dieseltechron', 'tsee', 'exhaust', 'solder', 'neck', 'bookmark', 'plead', 'placement', 'bi', 'golli', 'referr', 'chapstick', 'anxiou', 'netflix', 'biannual', 'regim', 'calmli', 'nuri', 'suffici', 'floss', 'dynam', 'decay', 'margaret', 'extractionwhich', 'whiten', 'veneer', 'horrifi', 'plagu', 'conscious', 'headphon', 'desensit', 'cathi', 'obsess', 'pyle', 'caviti', 'centric', 'superl', 'whisper', 'concord', 'transpar', 'golden', 'spoil', 'maximum', 'delta', 'confort', 'discomfort', 'numb', 'habit', 'pearli', 'reflex', 'rescu', 'extract', 'safer', 'flight', 'dentaphob', 'unbear', 'lana', 'wisdom', 'dentistri', 'purifi', 'achiev', 'hygentist', 'dynamit', 'british', 'deathli', 'wang', 'toothach', 'see', 'bart', 'wild', 'pun', 'exam', 'throat', 'wong', 'problemat', 'profesion', 'bullet', 'twin', 'strain', 'hygienist', 'botch', 'carla', 'hepa', 'loudli', 'outdo', 'smoother', 'tancreto', 'partial', 'deck', 'betsi', 'imag', 'perfectionist', 'gentler', 'dd', 'creek', 'occupi', 'effeci', 'intimid', 'ear', 'chairsid', 'vitamix', 'dear', 'xray', 'cubicl', 'stream', 'canal', 'cancer', 'yonder', 'messur', 'laura', 'healthcar', 'endodontist', 'reschedul', 'medic', 'lara', 'acquaint', 'miseri', 'intrus', 'supposedli', 'homophob', 'bestow', 'biz', 'hipster', 'bliss', 'mancia', 'thug', 'slimi', 'fate', 'skye', 'irrespons', 'intens', 'sidewalk', 'sober', 'disturb', 'dive', 'bollywood', 'weed', 'fave', 'thumderdom', 'endup', 'chic', 'molli', 'looooov', 'african', 'underground', 'empieza', 'unwind', 'beau', 'sarah', 'someplac', 'swept', 'pursuit', 'discrimin', 'defens', 'shangrila', 'pool', 'llenars', 'closeeeee', 'disast', 'nightclub', 'dishearten', 'sun', 'aka', 'doldrum', 'disco', 'await', 'afterhour', 'shittiest', 'crackin', 'kindr', 'planer', 'choo', 'entireti', 'frighten', 'vin', 'enteri', 'sketch', 'wack', 'original', 'rubish', 'entiti', 'ing', 'rockin', 'peculiar', 'prefac', 'pl', 'recal', 'grungi', 'genr', 'nothin', 'discrep', 'immin', 'oct', 'rum', 'somth', 'nightshin', 'rubi', 'floja', 'refut', 'bankrupt', 'awak', 'notori', 'payam', 'clarif', 'monument', 'dancer', 'freakin', 'leader', 'waterfal', 'nyc', 'facebook', 'regga', 'soundsystem', 'sweat', 'civil', 'nativ', 'abus', 'femm', 'ruben', 'liberti', 'gin', 'noch', 'glide', 'mashup', 'owe', 'dancefloor', 'sweati', 'restrain', 'eccentr', 'hazi', 'announc', 'infus', 'bouncer', 'institut', 'dura', 'downhil', 'drum', 'omit', 'boogi', 'oasi', 'electro', 'porch', 'bullshit', 'discriminatori', 'fireplac', 'sf', 'wake', 'violent', 'homeless', 'lineup', 'coolest', 'techno', 'tonic', 'lat', 'hardcor', 'balconi', 'lone', 'reb', 'mecca', 'hefti', 'diseas', 'bull', 'shadi', 'wooden', 'peddl', 'eckankar', 'etern', 'gay', 'principio', 'hum', 'etch', 'ricki', 'hop', 'pill', 'toooo', 'miracl', 'restrom', 'seedi', 'primal', 'dj', 'harri', 'eventbrit', 'pennisula', 'newest', 'jehovah', 'hypocrisi', 'pretend', 'lawyer', 'reggaeton', 'gloriou', 'pharmacist', 'afterparti', 'goer', 'inclus', 'tropic', 'clutch', 'vibrant', 'tenderloin', 'vocal', 'swim', 'contrari', 'dump', 'badland', 'franciscan', 'clubber', 'wee', 'lavo', 'argument', 'disapoint', 'moni', 'pose', 'posey', 'reli', 'cambiado', 'obe', 'ba', 'vegi', 'oen', 'sucurs', 'winga', 'miriam', 'hella', 'quit', 'tattoo', 'sabrosa', 'mano', 'formula', 'pizaa', 'snobbi', 'expier', 'cambio', 'ensalada', 'lanc', 'barbecu', 'entro', 'kicker', 'donot', 'wur', 'printout', 'asco', 'unexcit', 'seca', 'dispenc', 'televis', 'empleado', 'piza', 'jeez', 'scotch', 'wanda', 'manegador', 'uno', 'griev', 'funer', 'laptop', 'decaf', 'boo', 'rooster', 'steamer', 'friendlier', 'pumkin', 'remad', 'misus', 'devot', 'pete', 'lingo', 'cappuccino', 'fantas', 'eselent', 'espresso', 'quainter', 'havanah', 'waster', 'il', 'huf', 'loooov', 'hyatt', 'java', 'childishli', 'teagan', 'badg', 'drought', 'pasarla', 'caramel', 'london', 'latt', 'slammin', 'scorch', 'vey', 'scooteria', 'arrog', 'stun', 'bitter', 'sloppili', 'commonli', 'stubborn', 'barrista', 'peetnik', 'courag', 'constip', 'kevin', 'peet', 'acoust', 'deciph', 'pee', 'adopt', 'bantam', 'barista', 'infinit', 'subway', 'befor', 'sandwhich', 'estat', 'monterey', 'alotta', 'clover', 'jar', 'yall', 'scott', 'squash', 'wheat', 'dub', 'atil', 'anthoni', 'speedwagon', 'beed', 'salina', 'bisqu', 'appeal', 'slo', 'rage', 'shatter', 'heavenli', 'erick', 'lunchroom', 'erik', 'firsr', 'wagon', 'colorado', 'pilgrim', 'reo', 'swifter', 'butternut', 'rio', 'debat', 'swift', 'qrong', 'arizona', 'an', 'whoa', 'sergerg', 'salari', 'tequila', 'cuervo', 'manuel', 'jasmin', 'medicin', 'nutrit', 'bambino', 'grr', 'uga', 'doesnt', 'producto', 'eselet', 'ewe', 'gmo', 'shelf', 'daycar', 'tj', 'nifti', 'alway', 'iroiro', 'ut', 'groc', 'wasat', 'cracker', 'picnic', 'georg', 'congrat', 'egotist', 'wore', 'mediero', 'greek', 'lap', 'farther', 'caraf', 'calori', 'nourish', 'obnoxi', 'convent', 'frantic', 'pitch', 'nick', 'disinfect', 'gourmet', 'syrup', 'sempr', 'sniff', 'vegetai', 'dervic', 'errand', 'watermelon', 'freezer', 'veriti', 'arrow', 'lager', 'stoe', 'unusu', 'rhubarb', 'hustl', 'culo', 'chicago', 'usa', 'turkish', 'nuff', 'circular', 'santiz', 'veg', 'kansa', 'romain', 'german', 'propos', 'campbel', 'souvenir', 'beri', 'bem', 'european', 'cosur', 'cosi', 'occup', 'nich', 'rearrang', 'checker', 'vegiterian', 'unspoken', 'swipe', 'wholefood', 'copiou', 'limpo', 'wietn', 'belgium', 'gnome', 'nicknam', 'meditteranian', 'fresco', 'tofurki', 'strict', 'na', 'micro', 'sargent', 'dica', 'brst', 'disregard', 'sponsorship', 'visibl', 'zaopatrzeni', 'almaeden', 'carnita', 'organizado', 'indonesian', 'isl', 'expressway', 'cdc', 'cheerio', 'ube', 'courtsi', 'uk', 'brie', 'relleno', 'ethnic', 'marin', 'goddi', 'circu', 'cabinet', 'complement', 'shortcom', 'articl', 'precook', 'uncal', 'nack', 'planter', 'chuck', 'spectrum', 'sanitis', 'needi', 'ginger', 'applaud', 'unkind', 'trader', 'proxim', 'rehab', 'internacional', 'almaden', 'wheelchair', 'sausg', 'vitamin', 'vegtabl', 'rarr', 'floral', 'exclus', 'strategi', 'frendli', 'almond', 'brew', 'descent', 'cereal', 'candac', 'bicycl', 'showroom', 'mateo', 'stupend', 'interrupt', 'marlin', 'fs', 'freerid', 'demon', 'kickstand', 'coastlin', 'hank', 'unawar', 'boardwalk', 'pumptrack', 'bummer', 'biker', 'forest', 'bluff', 'dumb', 'slash', 'squeak', 'spade', 'tweak', 'expos', 'incompet', 'mtb', 'mtn', 'cruiser', 'carbon', 'hybrid', 'pogonip', 'rut', 'doman', 'cliff', 'absurd', 'donat', 'curti', 'dual', 'epicent', 'overjoy', 'tighter', 'shawn', 'aveni', 'flaw', 'zach', 'propon', 'lifestyl', 'beta', 'helmet', 'wharf', 'fyi', 'apto', 'themself', 'approx', 'zack', 'bumpi', 'rail', 'cruz', 'unprepar', 'elys', 'embellish', 'argueabl', 'rode', 'demo', 'ebay', 'seatpost', 'davenport', 'uppiti', 'sol', 'westsid', 'dang', 'toe', 'joker', 'nonprofit', 'rider', 'canada', 'europ', 'privileg', 'sir', 'shimano', 'andrea', 'swamp', 'abbey', 'flawless', 'cyclist', 'petit', 'powerfli', 'maneuv', 'seabright', 'hector', 'ebik', 'ocean', 'cassett', 'matin', 'foremost', 'sift', 'sean', 'wilson', 'towni', 'footbal', 'pannier', 'benito', 'tailor', 'deor', 'ironman', 'lowstep', 'quinn', 'unbox', 'lin', 'cutoff', 'trek', 'lb', 'verv', 'nah', 'novic', 'wilder', 'deeper', 'scheme', 'lend', 'trex', 'sibl', 'blix', 'treck', 'trail', 'tuneup', 'sag', 'electra', 'deposit', 'flaki', 'clara', 'cycl', 'remedi', 'jame', 'dropper', 'gavin', 'salesperson', 'flair', 'instat', 'squishi', 'friction', 'blocker', 'stiff', 'babysit', 'suitabl', 'tower', 'bloom', 'playground', 'walkway', 'ceanothu', 'buri', 'rubber', 'ft', 'sandbox', 'gymnasium', 'pooch', 'aser', 'playscap', 'crosstown', 'playgroup', 'tenni', 'swing', 'lindo', 'leash', 'cancha', 'lacklust', 'sucker', 'landscap', 'platform', 'sltructur', 'target', 'faux', 'spae', 'totter', 'basketbal', 'badketbal', 'rec', 'urban', 'avatar', 'echium', 'futsal', 'bonita', 'beard', 'supervis', 'bernalhieght', 'infant', 'ladder', 'cushion', 'recreat', 'audienc', 'alemani', 'deport', 'enclos', 'boll', 'portabl', 'irirueu', 'yarrow', 'oldet', 'drainag', 'fenc', 'fremontodendron', 'perimet', 'basebal', 'kickbal', 'sano', 'jungl', 'grasscom', 'slope', 'schooler', 'matilija', 'pkaygroubx', 'seguro', 'merri', 'circl', 'poppi', 'teeter', 'speciou', 'kiddo', 'rope', 'baskebal', 'pole', 'mantra', 'lamb', 'hearti', 'potero', 'burito', 'kebob', 'chase', 'frisco', 'scarf', 'undecid', 'flame', 'mouthgasm', 'cpl', 'william', 'powerbal', 'dishonesti', 'heartwarm', 'frill', 'unpretenti', 'yessssssss', 'reuben', 'kino', 'jess', 'potrero', 'wowzer', 'exagger', 'hilari', 'burgerand', 'sinc', 'jewel', 'illeg', 'megamillion', 'juiciest', 'burguer', 'payout', 'photograph', 'kabob', 'hiatu', 'kebab', 'aoac', 'gyro', 'ganim', 'restaraunt', 'ucsf', 'relay', 'mere', 'sfpd', 'collar', 'lotteri', 'charismat', 'snow', 'mariposa', 'quicki', 'turf', 'pretens', 'seclud', 'macro', 'batter', 'yoursssssss', 'mediterranean', 'peninsula', 'gigant', 'mistaken', 'ina', 'childhood', 'falaf', 'postmat', 'gamin', 'simplic', 'inhal', 'smoothest', 'repond', 'farhad', 'armoir', 'nextdoor', 'overs', 'hero', 'unanticip', 'oleg', 'unpack', 'cardboard', 'sj', 'stepan', 'depot', 'sp', 'hourli', 'pavel', 'dimash', 'matt', 'unders', 'tim', 'descend', 'dresser', 'bookcas', 'greg', 'chin', 'zalkan', 'venc', 'alex', 'adilet', 'forman', 'disassembl', 'helper', 'toughest', 'novelti', 'safeguard', 'spiral', 'outer', 'zorik', 'dusti', 'cleanup', 'unlabel', 'kitti', 'ajay', 'energ', 'danvil', 'expeti', 'clincher', 'jim', 'walter', 'tt', 'expertli', 'studio', 'exhibit', 'brainer', 'amir', 'iggi', 'instanc', 'utmost', 'screenshot', 'dec', 'bek', 'bust', 'urgenc', 'mak', 'hitch', 'bodybuild', 'berkeley', 'vinc', 'antoni', 'mishap', 'exceedingli', 'petti', 'unload', 'dillon', 'ontim', 'steadi', 'logist', 'dishat', 'ne', 'bedroom', 'loft', 'seedless', 'botor', 'oakland', 'davit', 'kindest', 'recalcul', 'ivan', 'zalkar', 'swat', 'ag', 'raf', 'tegi', 'champion', 'rick', 'swiftli', 'bdrm', 'erzhan', 'sasha', 'eta', 'baglan', 'curvi', 'arkadi', 'intact', 'stephan', 'serg', 'ruslan', 'repeatedli', 'trifold', 'deliber', 'roger', 'apt', 'mattress', 'andrey', 'artur', 'tetri', 'dolli', 'belov', 'thanksgiv', 'quietli', 'worldli', 'lifesav', 'sturdi', 'vazha', 'ding', 'ilya', 'valentin', 'breakabl', 'hardwood', 'georgia', 'permiss', 'reassembl', 'arthur', 'vlad', 'reconstruct', 'applianc', 'shockingli', 'misquot', 'stairwel', 'carlo', 'naim', 'deconstruct', 'daunt', 'alto', 'russel', 'shrink', 'stefan', 'shortest', 'paul', 'ersin', 'flip', 'anton', 'peter', 'mover', 'narcissist', 'retrospect', 'di', 'effortless', 'bearabl', 'dissembl', 'kerri', 'flop', 'reader', 'gabit', 'ruthlessli', 'aj', 'beck', 'multi', 'vadim', 'georgian', 'denis', 'eileen', 'faruh', 'otir', 'sergey', 'jj', 'transport', 'nori', 'flatter', 'accus', 'diman', 'queen', 'landlord', 'wrack', 'bd', 'dailon', 'vanc', 'dmitri', 'staircas', 'prep', 'cautiou', 'dean', 'foreman', 'dismantl', 'careful', 'sergei', 'congeni', 'borrow', 'radiu', 'vaniti', 'triniti', 'walkthrough', 'expediti', 'rafael', 'adject', 'dima', 'dimitri', 'abdul', 'tirelessli', 'independ', 'rmp', 'dilon', 'durat', 'solver', 'sofa', 'akai', 'calcul', 'bf', 'backstair', 'rattl', 'frank', 'isla', 'wardrob', 'unwrap', 'callout', 'eadi', 'punch', 'gaba', 'whew', 'steph', 'trio', 'glasswar', 'thorough', 'lightn', 'dylan', 'wrought', 'heartili', 'otar', 'zak', 'menlo', 'destin', 'serviv', 'fella', 'shax', 'redwood', 'gm', 'mirror', 'dent', 'readili', 'possess', 'determin', 'protoc', 'blink', 'palo', 'leon', 'condo', 'fragil', 'prescript', 'yaroslov', 'unrel', 'surcharg', 'unaccept', 'sunset', 'setback', 'tackl', 'bulki', 'stride', 'ali', 'intrast', 'infantil', 'evert', 'caution', 'townhous', 'ikea', 'arkadiy', 'robot', 'nolan', 'upstair', 'porki', 'hitchcock', 'flour', 'sternli', 'verdadero', 'howvev', 'abid', 'onesingl', 'flare', 'brisket', 'agua', 'riko', 'dieron', 'hotter', 'ingrrdient', 'duper', 'rellano', 'gentrifi', 'cafeteria', 'refri', 'underwhelm', 'guacamol', 'louder', 'plantain', 'mega', 'bench', 'flan', 'deadli', 'hong', 'tomatillo', 'cilantro', 'churro', 'evenli', 'constitut', 'pinto', 'dar', 'bourgsi', 'reataur', 'moist', 'illustr', 'bismol', 'vampir', 'fricken', 'verd', 'mezico', 'parec', 'vapiro', 'creama', 'nopal', 'guac', 'cantaloup', 'chickenburrito', 'mussel', 'frijol', 'sigh', 'prder', 'palet', 'born', 'pecado', 'cyst', 'wrrokay', 'witt', 'festiv', 'width', 'xolo', 'sopa', 'worthwhil', 'contribut', 'meter', 'uptown', 'warmer', 'suiza', 'nenu', 'wider', 'regalan', 'copi', 'soak', 'your', 'pesima', 'crescenta', 'courtyard', 'limey', 'meantim', 'fresca', 'jalap', 'mala', 'mortal', 'telegraph', 'timet', 'devour', 'mexico', 'mule', 'tuck', 'scour', 'element', 'liquidi', 'click', 'pacifico', 'saut', 'camaron', 'frio', 'tostada', 'taqueria', 'ingreedi', 'rolleno', 'provencal', 'sauci', 'lousi', 'thaw', 'lick', 'spicier', 'bitten', 'bird', 'caviar', 'machaca', 'oscil', 'lardi', 'qu', 'chucki', 'bustl', 'alan', 'whim', 'powderi', 'interject', 'cebolla', 'upsid', 'juju', 'alfr', 'untrain', 'pollo', 'olla', 'delicia', 'concret', 'disclosur', 'conessor', 'montros', 'posol', 'pozol', 'hongo', 'oaxaca', 'stomach', 'copia', 'downstair', 'failur', 'tomando', 'tamp', 'seed', 'camaro', 'demoran', 'lima', 'sinaloa', 'quasi', 'shred', 'shirmp', 'poster', 'exponenti', 'tacubaya', 'cruelli', 'preggo', 'cabbag', 'gusano', 'frankli', 'paramount', 'honga', 'plural', 'finest', 'theyr', 'restraunt', 'buttiro', 'grayhound', 'cactu', 'terf', 'senorita', 'horchata', 'serrano', 'greas', 'bougi', 'fuera', 'conesedor', 'vampiro', 'yucki', 'smother', 'over', 'rave', 'tangi', 'pepto', 'pastor', 'jejej', 'takeaway', 'bessssssttttt', 'takeout', 'tge', 'cho', 'thrown', 'moet', 'forewarn', 'booz', 'boast', 'buffeet', 'chatti', 'pleac', 'retriev', 'cua', 'tastu', 'sigb', 'spit', 'meno', 'griddl', 'chinatown', 'recommen', 'sentiment', 'wouldnt', 'ofer', 'encontr', 'chino', 'atendi', 'filet', 'falta', 'macaroon', 'heinz', 'postr', 'khg', 'nhieu', 'khan', 'chopstick', 'everyon', 'maaaayb', 'thuc', 'gia', 'busqu', 'ju', 'cheeri', 'flounder', 'duoc', 'exquisit', 'hark', 'genghi', 'alameda', 'becoz', 'vege', 'reheat', 'score', 'bufet', 'yoooo', 'cone', 'pereti', 'fork', 'ngoai', 'khach', 'broadway', 'sasabi', 'thia', 'satay', 'amabilidad', 'foreign', 'chon', 'salvag', 'robata', 'packet', 'fabuloso', 'especi', 'unapp', 'imdeietli', 'insurmount', 'pow', 'mildli', 'nt', 'flavorless', 'wallpap', 'cheep', 'shrivel', 'chu', 'asain', 'urself', 'trrble', 'pud', 'crinkl', 'articul', 'benicia', 'mon', 'tam', 'barbequ', 'yoy', 'halfway', 'ella', 'willow', 'cube', 'shellfish', 'celeri', 'yumm', 'gkb', 'habibi', 'slosh', 'mistakenli', 'silent', 'shrimpso', 'hayward', 'sacan', 'ninth', 'tempt', 'fusion', 'pan', 'fryer', 'veriati', 'woukd', 'tso', 'sriracha', 'stir', 'limon', 'mongolian', 'steam', 'fantasi', 'sesam', 'modest', 'sidelin', 'investig', 'auditor', 'sponsor', 'shoplift', 'puerto', 'magnolia', 'encuento', 'puertorriqu', 'aisl', 'promo', 'korean', 'cuentro', 'butcher', 'lado', 'tougher', 'tank', 'supermarket', 'temper', 'dung', 'rican', 'reluctantli', 'russet', 'anerican', 'thiev', 'refurbish', 'safeway', 'dumpl', 'eastern', 'angrili', 'jackfruit', 'asia', 'ful', 'advers', 'reddiwhip', 'detract', 'choco', 'unprocess', 'cheat', 'uber', 'forse', 'wander', 'yep', 'nov', 'ralph', 'concoct', 'niec', 'disini', 'ahh', 'kompisar', 'rocki', 'yea', 'harganya', 'tl', 'fatti', 'sudden', 'entic', 'soften', 'creamfetti', 'storefront', 'geocach', 'equat', 'crumb', 'gimmicki', 'andersson', 'waft', 'hej', 'juga', 'thicken', 'bias', 'diminut', 'variat', 'av', 'mhmm', 'choc', 'cling', 'overhyp', 'snickerdoodl', 'overtak', 'alley', 'oreo', 'gong', 'embrac', 'toffe', 'chew', 'flash', 'queue', 'agent', 'cloy', 'enak', 'pina', 'declar', 'mina', 'colada', 'infact', 'irresist', 'gra', 'aroma', 'sekali', 'melti', 'pilihan', 'sammi', 'bucket', 'freez', 'wrapper', 'rite', 'parlor', 'foster', 'cin', 'overfil', 'int', 'turtl', 'skrivit', 'counterpart', 'marshmallow', 'icecream', 'magnu', 'gummi', 'characterist', 'cha', 'krim', 'confetti', 'chisel', 'fudgin', 'sunda', 'gimicki', 'banyak', 'scent', 'refin', 'murah', 'rasanya', 'coscto', 'sceptic', 'insol', 'rhe', 'rim', 'josh', 'kia', 'fruad', 'zoo', 'leisur', 'goodyear', 'bravo', 'costcotireappoint', 'legend', 'sorento', 'award', 'membership', 'chronic', 'coincid', 'unrepair', 'twenti', 'interst', 'ouch', 'warehous', 'earliest', 'apppint', 'down', 'albert', 'firstli', 'hazard', 'crow', 'revert', 'nonrefund', 'disinterest', 'incid', 'mantain', 'gase', 'impli', 'reject', 'atleast', 'revers', 'desktop', 'legal', 'backlog', 'automat', 'nitrogen', 'nook', 'isol', 'unreach', 'neil', 'pilot', 'faulti', 'tyre', 'sunnyval', 'sicken', 'xclnt', 'levi', 'mortar', 'spree', 'swallow', 'squaw', 'came', 'revisit', 'scout', 'northstar', 'axl', 'jefferi', 'reel', 'incent', 'compon', 'salespeopl', 'outdoorsi', 'jare', 'territori', 'rob', 'modestli', 'pt', 'tnn', 'svc', 'crankset', 'bruis', 'crampon', 'standalon', 'edc', 'unrecogn', 'skii', 'wjnter', 'incident', 'seeb', 'gap', 'nordstrom', 'pilat', 'indic', 'tel', 'albeit', 'redo', 'derail', 'thread', 'footwear', 'thirdli', 'keeper', 'anti', 'stake', 'trot', 'ski', 'trial', 'chalk', 'yosemit', 'gel', 'simpler', 'renta', 'behalf', 'salesmen', 'consign', 'hindsight', 'apperrel', 'chide', 'noexcus', 'coop', 'wtf', 'letter', 'stitch', 'tick', 'simul', 'reciept', 'resort', 'therapist', 'junki', 'underr', 'renter', 'granit', 'stalk', 'triathlon', 'kayak', 'dividend', 'workout', 'abidjan', 'atendent', 'blair', 'veronica', 'rhyme', 'mural', 'rolando', 'firearm', 'insight', 'guaranti', 'preston', 'calibr', 'wholli', 'clu', 'expwi', 'basement', 'wen', 'registr', 'retribut', 'kyle', 'alpin', 'followup', 'preload', 'xxxl', 'axe', 'markdown', 'haphazardli', 'snooti', 'sportsbas', 'emphasi', 'googler', 'apr', 'runner', 'overstock', 'rigid', 'huh', 'ibi', 'kate', 'handlebar', 'inbox', 'compat', 'portal', 'flawlessli', 'quicker', 'varaiti', 'easter', 'spars', 'agon', 'dabbl', 'yike', 'backpack', 'emphas', 'lace', 'fsa', 'brett', 'undamag', 'busco', 'cleaness', 'ronaldo', 'yoga', 'trackpant', 'brick', 'extremli', 'kim', 'ambassador', 'komperdel', 'activewear', 'memo', 'sync', 'sporti', 'attir', 'clearanc', 'wax', 'workshop', 'inn', 'chariti', 'irrir', 'spite', 'wrongli', 'default', 'snowboard', 'campground', 'stove', 'buildout', 'defacto', 'foodstuff', 'expenc', 'rei', 'trad', 'poop', 'sportgear', 'endeavor', 'instructor', 'seminar', 'ld', 'rethread', 'buse', 'wetsuit', 'matix', 'gopro', 'graat', 'plethora', 'teacher', 'burton', 'hoka', 'junction', 'frameset', 'crappi', 'skier', 'apparel', 'signag', 'pedal', 'sprinkl', 'nr', 'abnorm', 'hydrat', 'india', 'primari', 'unnecessarili', 'breadth', 'chaotic', 'xs', 'overdu', 'roth', 'hiram', 'spider', 'henley', 'honer', 'dim', 'brian', 'athlet', 'closeout', 'nacski', 'do', 'everyt', 'ke', 'greatand', 'forgiv', 'particip', 'pray', 'scatter', 'wobbl', 'hansen', 'warrior', 'bib', 'unsaf', 'mutter', 'cordelett', 'goto', 'helfp', 'charli', 'doh', 'outreach', 'sb', 'lawrenc', 'paddl', 'sharpen', 'acronym', 'feetur', 'cleat', 'zumba', 'mattix', 'op', 'out', 'intuit', 'databas', 'mathew', 'paraphernalia', 'pouco', 'dick', 'jean', 'disorgan', 'gripper', 'meadow', 'recycl', 'buttermilk', 'everrrrrr', 'anna', 'congratul', 'mojito', 'uh', 'kalamata', 'unlimit', 'highchair', 'hehe', 'fluoresc', 'overhead', 'proactiv', 'exorbit', 'backflippingli', 'char', 'panini', 'lentil', 'healti', 'eggplant', 'horatia', 'els', 'poke', 'substanc', 'cathedr', 'sweetgreen', 'fret', 'alexand', 'loveee', 'ripe', 'ahi', 'goooood', 'miracul', 'feta', 'du', 'togo', 'lemonda', 'beet', 'stamp', 'ithi', 'spotlessli', 'rapese', 'sizabl', 'oregano', 'poultri', 'steakhous', 'herb', 'scrumptiou', 'doordash', 'glori', 'realllli', 'straw', 'maaaaan', 'subpar', 'cobb', 'busboy', 'cob', 'pastrami', 'delux', 'thermostat', 'evaristo', 'dishwash', 'osh', 'hvac', 'dial', 'duet', 'increasingli', 'xlnt', 'warp', 'sheryl', 'furnac', 'friendiy', 'commod', 'lockdown', 'maytag', 'knowiedg', 'immagin', 'esi', 'hurray', 'diy', 'premis', 'kenmor', 'pulley', 'organizedorgan', 'drawer', 'ge', 'squeez', 'oftentim', 'lg', 'obscur', 'seemingli', 'sear', 'needl', 'agit', 'exceiient', 'knob', 'condition', 'uncommon', 'dug', 'scrap', 'midwest', 'capacitor', 'alanti', 'keef', 'cottl', 'merritt', 'timer', 'compacitor', 'grant', 'reincarn', 'bookshop', 'fuse', 'whirlpool', 'onhand', 'pleasanton', 'infrequ', 'pretzel', 'format', 'mah', 'global', 'oppos', 'rose', 'wuickli', 'cougar', 'bouquet', 'sux', 'sep', 'horizon', 'tradar', 'abism', 'madhous', 'whine', 'curat', 'misfortun', 'yumyum', 'verbag', 'rotten', 'bolling', 'cheezi', 'icon', 'boe', 'canon', 'stabl', 'condem', 'nuf', 'ab', 'cv', 'koehn', 'shope', 'accid', 'perish', 'alicia', 'kefir', 'ofcours', 'stacker', 'ev', 'exot', 'ooh', 'pretenti', 'vacant', 'tissu', 'traci', 'folsom', 'ler', 'struck', 'landfil', 'downfal', 'smallish', 'esvin', 'scanner', 'disbl', 'livermor', 'breeder', 'shield', 'rational', 'yogurt', 'laughabl', 'deutchland', 'montana', 'pistacho', 'suburb', 'jerri', 'tri', 'wean', 'diff', 'peev', 'graet', 'alcosta', 'aldi', 'unsweeten', 'eu', 'brioch', 'cell', 'lathrop', 'bestest', 'ramon', 'bulk', 'nord', 'horn', 'wfm', 'cust', 'stonestown', 'bebida', 'bre', 'feozen', 'orchid', 'chime', 'becuas', 'liber', 'hwi', 'array', 'manteca', 'thinner', 'jangl', 'raisin', 'ether', 'germ', 'pavilion', 'yoghurt', 'bakeri', 'elf', 'brim', 'tiger', 'goid', 'cmon', 'plimco', 'organaz', 'whiskey', 'misunderstand', 'sazon', 'estrella', 'treasur', 'slurg', 'roberto', 'acabarla', 'doy', 'cadillac', 'banquet', 'javier', 'joaquin', 'eh', 'purpl', 'sword', 'queso', 'margi', 'casa', 'sing', 'midori', 'fajita', 'jorg', 'tapatio', 'daiquiri', 'rockefel', 'villa', 'enchilada', 'halibut', 'marg', 'fron', 'diabla', 'seleccion', 'eith', 'breezeway', 'hooter', 'galor', 'vert', 'risk', 'lightli', 'confront', 'schwab', 'locak', 'geno', 'peep', 'gheto', 'forsur', 'thnx', 'blew', 'crv', 'vino', 'flick', 'trailer', 'lug', 'trataron', 'cane', 'torqu', 'nike', 'psi', 'tar', 'tamtin', 'amablement', 'edison', 'qick', 'saver', 'punk', 'scenario', 'passeng', 'nuestra', 'thee', 'valuat', 'reduct', 'strateg', 'guesswork', 'broker', 'drg', 'sercic', 'calavera', 'ig', 'advoc', 'intrust', 'videograph', 'leadership', 'videographi', 'extenu', 'crucial', 'contagi', 'homebuy', 'ornament', 'fha', 'fluent', 'perspect', 'theather', 'techniqu', 'ayudado', 'jenni', 'pend', 'understat', 'stallcup', 'atley', 'extent', 'repairmen', 'photographi', 'uncertainti', 'jonathan', 'urg', 'stanislau', 'interfer', 'teamwork', 'endless', 'northern', 'envis', 'modesto', 'bounc', 'hecho', 'inquiri', 'bat', 'unreason', 'servinmartinez', 'formul', 'constant', 'contend', 'twitter', 'servin', 'texa', 'tactic', 'bombard', 'maxim', 'empow', 'fourteenth', 'entrepreneur', 'film', 'chosen', 'rodeo', 'paramet', 'tenac', 'burner', 'simultan', 'battl', 'ongo', 'jon', 'christmastim', 'recruit', 'entitl', 'rank', 'fore', 'changer', 'delreal', 'micheal', 'instil', 'outset', 'friendship', 'realtor', 'assuag', 'enriqu', 'shark', 'sher', 'grind', 'postcard', 'goal', 'physician', 'motiv', 'wright', 'salida', 'timeli', 'burden', 'andi', 'knowlegebl', 'defiantli', 'nathan', 'drpatricktran', 'titl', 'phoenix', 'familythat', 'analysi', 'pmz', 'howel', 'definent', 'grupo', 'agenda', 'guerrero', 'gratitud', 'weav', 'jacki', 'jennif', 'nez', 'cider', 'organiz', 'mart', 'unturn', 'absenc', 'loan', 'cakewalk', 'hasti', 'fb', 'benefici', 'hgtv', 'yate', 'patricia', 'influenc', 'keen', 'horror', 'thoma', 'seamlessli', 'loyalti', 'matthew', 'bow', 'sail', 'deepli', 'menes', 'md', 'forthright', 'taught', 'juggl', 'backup', 'lender', 'comp', 'he', 'hogan', 'residenti', 'barrier', 'tiktok', 'ovat', 'cervant', 'mitzi', 'collabor', 'tran', 'indalecio', 'divorc', 'footag', 'steven', 'gordon', 'network', 'recess', 'elp', 'analyt', 'homeown', 'discourag', 'myriad', 'peer', 'facilit', 'spous', 'interview', 'patrick', 'channel', 'frazzl', 'forefront', 'with', 'flinch', 'copilot', 'patt', 'oak', 'clariti', 'crisi', 'succeed', 'elli', 'vall', 'economi', 'graph', 'drone', 'ambiti', 'vece', 'fist', 'realti', 'onset', 'recomendamo', 'reinvent', 'enabl', 'tenant', 'kickoff', 'tiffani', 'guti', 'scenic', 'processo', 'realist', 'profess', 'handyman', 'realiti', 'fruition', 'acumen', 'linkedin', 'prospect', 'probat', 'calley', 'hardship', 'superstar', 'depth', 'sondra', 'outgrown', 'dubiou', 'pointer', 'nate', 'brochur', 'rrez', 'escrow', 'shutdown', 'verri', 'contractor', 'magnifi', 'bid', 'fernando', 'coverag', 'turlock', 'touchi', 'hiccup', 'overlook', 'monkey', 'va', 'unflapp', 'overse', 'epidem', 'tear', 'galaxi', 'gutierrez', 'antonio', 'data', 'jennaph', 'conting', 'agenc', 'ramsey', 'leap', 'infront', 'poppin', 'fragment', 'garth', 'cynthia', 'cheesecak', 'sweep', 'cu', 'rendezv', 'wohooo', 'lid', 'brook', 'holla', 'lava', 'croc', 'lash', 'meltdown', 'leep', 'ruder', 'chatter', 'cotton', 'rees', 'bogo', 'pink', 'fece', 'rudest', 'candl', 'robin', 'nonslip', 'coldbutmeltedchees', 'freindli', 'nutrual', 'ng', 'connor', 'stain', 'baskin', 'rockstar', 'pistachio', 'opit', 'oozi', 'aromat', 'tandoori', 'ratatouil', 'singh', 'tap', 'pizzeria', 'shahi', 'upload', 'visalia', 'delisci', 'grubhub', 'restuar', 'sequoia', 'tikka', 'samosa', 'distribut', 'singhji', 'mooney', 'waz', 'tika', 'pallet', 'boneless', 'marinara', 'paneer', 'pen', 'naan', 'pepperoni', 'halal', 'unenthusiast', 'rp', 'manchurian', 'chess', 'belli', 'protion', 'ord', 'tequlia', 'indian', 'kiss', 'umph', 'colder', 'geniu', 'wilti', 'masala', 'huuug', 'enigmatico', 'haciendo', 'renew', 'hone', 'pup', 'ugh', 'grid', 'closur', 'cervicio', 'tengo', 'busiest', 'mayorista', 'redesign', 'parfait', 'nico', 'paramed', 'visa', 'btime', 'lean', 'esp', 'cranki', 'facetim', 'kelli', 'favorita', 'busier', 'chao', 'seam', 'econ', 'blinder', 'esto', 'nugget', 'overli', 'tag', 'convient', 'necess', 'goong', 'fillet', 'blender', 'valeri', 'pg', 'ebt', 'ahorrar', 'rot', 'bargin', 'proporcion', 'upto', 'definatli', 'lss', 'temporari', 'ditto', 'marshal', 'sweatpant', 'florida', 'ahorran', 'daddi', 'phoni', 'stripe', 'maloqu', 'biweekli', 'cadeia', 'breast', 'intro', 'hmmm', 'dismal', 'ruff', 'diaper', 'drastic', 'spell', 'hir', 'belittl', 'rival', 'ribey', 'newcom', 'recibo', 'venden', 'guadalup', 'necesita', 'encanto', 'dmv', 'khi', 'alyway', 'chihuahua', 'shorter', 'muito', 'capac', 'reson', 'hotdog', 'conveyor', 'membershio', 'usda', 'radiou', 'apocalyps', 'soundbar', 'ticna', 'etiquett', 'hacer', 'tarjeta', 'rotisseri', 'permit', 'oooo', 'petrol', 'alwi', 'iop', 'buggi', 'lloammi', 'hijack', 'kk', 'titk', 'troop', 'states', 'mayoreo', 'duda', 'moldi', 'clueless', 'expressit', 'interv', 'ph', 'todooo', 'posibl', 'obama', 'quaniti', 'rebecca', 'infuri', 'almacen', 'bharat', 'tbh', 'apas', 'zombi', 'calif', 'indiffer', 'perfecto', 'radio', 'solar', 'boycot', 'mico', 'servant', 'phong', 'sta', 'prepaid', 'everith', 'sq', 'elementari', 'suddenli', 'vanessa', 'pinesol', 'ind', 'thi', 'fart', 'vest', 'expo', 'idioma', 'bumper', 'overbit', 'metropolitan', 'encuentro', 'gustan', 'ordenado', 'encuentran', 'cuentra', 'badd', 'irrit', 'liver', 'brinda', 'placard', 'hqve', 'bikken', 'salir', 'defici', 'minuto', 'dam', 'lens', 'timo', 'toothbrush', 'amo', 'calexpo', 'centro', 'janitori', 'clorox', 'astound', 'parecio', 'four', 'fraudul', 'burst', 'ropa', 'wonderland', 'particar', 'serbiu', 'rocklin', 'stereotyp', 'escort', 'testament', 'trap', 'autom', 'taist', 'cal', 'ordenar', 'hagan', 'melhor', 'tropicana', 'sky', 'llevarm', 'taiwan', 'luncheon', 'vui', 'attende', 'cajero', 'incres', 'grear', 'sixth', 'approxim', 'nhu', 'overwhelmingli', 'fono', 'blurt', 'empmoye', 'anothe', 'venir', 'casi', 'hahahaha', 'abruptli', 'elitist', 'grandma', 'ass', 'pasando', 'snowstorm', 'housewar', 'semana', 'hasta', 'produto', 'pagar', 'arden', 'unison', 'franklin', 'jami', 'strength', 'todito', 'needlessli', 'xma', 'ofresen', 'elderli', 'molesta', 'hoo', 'buttt', 'muebl', 'oblivi', 'durabl', 'tio', 'easygo', 'farato', 'quickest', 'custum', 'surtido', 'vallejo', 'cantidad', 'vi', 'len', 'optimologist', 'haul', 'gosto', 'enigmat', 'luxuri', 'esperar', 'rm', 'hind', 'wal', 'raclett', 'beast', 'centr', 'winco', 'woodland', 'bom', 'swirl', 'offend', 'drizzl', 'jolli', 'gasolin', 'axelent', 'unavail', 'nonexist', 'compra', 'mua', 'shini', 'seizur', 'unpredict', 'weelki', 'busca', 'mayhem', 'tha', 'mambership', 'elkgrov', 'pleasent', 'brucevil', 'resel', 'predio', 'hom', 'li', 'asta', 'luve', 'neater', 'felicidad', 'karen', 'loveit', 'despensa', 'necklac', 'shergil', 'stor', 'foul', 'euyyyi', 'longlin', 'congest', 'menac', 'jai', 'circumnavig', 'redid', 'overspend', 'cosco', 'shopperz', 'wetland', 'preserv', 'kool', 'grest', 'perfum', 'identif', 'theft', 'kirkland', 'supplement', 'longest', 'eyeglass', 'aight', 'necesito', 'contestan', 'deaf', 'momma', 'unpolit', 'whateva', 'quiliti', 'chulada', 'xin', 'laundri', 'tote', 'beautiful', 'proport', 'gent', 'mignon', 'crowdi', 'clan', 'piss', 'hotpocket', 'acai', 'clase', 'fond', 'toppl', 'blowout', 'especial', 'stephani', 'piden', 'quisiera', 'mayor', 'blare', 'bald', 'wad', 'lodi', 'camino', 'nearest', 'foodstamp', 'teller', 'upholsteri', 'lab', 'fierc', 'whichev', 'iol', 'saben', 'boulevard', 'ch', 'volum', 'optometrist', 'doorbel', 'inconsider', 'pura', 'cada', 'lare', 'persson', 'rethink', 'preorder', 'foodcourt', 'um', 'wireless', 'paquet', 'ahorro', 'mu', 'pajama', 'caranteen', 'pepsi', 'hablan', 'kmow', 'buenay', 'seldom', 'cosumn', 'demonstr', 'nh', 'mara', 'kiosk', 'entrar', 'lysol', 'cutter', 'descuento', 'bla', 'optic', 'dinero', 'pantri', 'christi', 'oral', 'pharmaci', 'comparen', 'desd', 'pleeeeas', 'uninform', 'reconsid', 'beg', 'fisrt', 'sfter', 'stupit', 'widen', 'presupuesto', 'ugli', 'adelant', 'overboard', 'producr', 'sigan', 'tp', 'degrad', 'demean', 'michel', 'overcrowd', 'thumak', 'bureau', 'sum', 'shrug', 'mickey', 'atm', 'sketcher', 'rebat', 'inferi', 'stockton', 'sunris', 'consistantli', 'gatorad', 'nuclear', 'diversifi', 'elk', 'clientel', 'optometri', 'bleed', 'pepol', 'plexiglass', 'shorten', 'woo', 'corridor', 'crash', 'entrada', 'leerdamm', 'servicethru', 'departamento', 'bifoc', 'jaw', 'sweater', 'blazer', 'velvet', 'puppi', 'brass', 'trench', 'ot', 'wrinkl', 'alter', 'couteou', 'handi', 'dissolv', 'unsatisfactori', 'launder', 'glanc', 'sstaff', 'pillow', 'kati', 'chemic', 'garment', 'moor', 'ink', 'midtown', 'pitbul', 'loooong', 'capitol', 'swanson', 'harsh', 'poc', 'fluorid', 'instrument', 'evalu', 'admin', 'marina', 'valuabl', 'conserv', 'flag', 'rdh', 'certifi', 'castro', 'saturdaybi', 'lee', 'fallen', 'surgeon', 'breana', 'evid', 'austen', 'loup', 'fullest', 'asleep', 'steril', 'orthodontist', 'destroy', 'minuscul', 'untouch', 'copay', 'shove', 'specialist', 'peski', 'adriana', 'suction', 'liar', 'midst', 'grip', 'ss', 'exemplari', 'tegan', 'caravan', 'religi', 'wimp', 'lisa', 'placervil', 'affili', 'bbb', 'densiti', 'lip', 'phobia', 'marjoori', 'waiv', 'amend', 'merci', 'chilli', 'thnk', 'tongu', 'jigsaw', 'affair', 'karavan', 'guerro', 'compass', 'dishonest', 'gentlest', 'ramirez', 'freida', 'agoni', 'sdg', 'doc', 'blatant', 'graft', 'denistri', 'infect', 'laser', 'marjori', 'brianna', 'attack', 'heed', 'mercado', 'frie', 'molar', 'inexperienc', 'invisalign', 'guerra', 'cavitron', 'sonia', 'palat', 'recept', 'pragmat', 'calculu', 'abandon', 'jewelleri', 'russian', 'wan', 'nicol', 'museum', 'csh', 'pawn', 'facet', 'brooch', 'proprietor', 'legaci', 'riversid', 'hobbi', 'refreshingli', 'sterl', 'preciou', 'disadvantag', 'cuffl', 'exhang', 'rad', 'piggi', 'dissappoint', 'gram', 'grandmoth', 'excelsi', 'knoligalbl', 'commemor', 'grt', 'expiri', 'generos', 'silverwar', 'lowbal', 'muss', 'shooter', 'fistful', 'sliver', 'craigslist', 'chap', 'vik', 'clearlak', 'misc', 'freind', 'token', 'reccommend', 'curio', 'freivald', 'bollo', 'uncircul', 'unus', 'nickl', 'convert', 'ha', 'coinstar', 'smarter', 'aback', 'miscellan', 'silver', 'flatwar', 'curt', 'bullion', 'tester', 'fairest', 'roughli', 'baubl', 'rancho', 'cordova', 'grandfath', 'rosevil', 'mate', 'yuba', 'lincon', 'jeweleri', 'ambul', 'eagl', 'nagoti', 'jewleri', 'nickel', 'costom', 'compromis', 'memorabilia', 'collector', 'olg', 'olag', 'cervis', 'intend', 'iphon', 'inherit', 'shelter', 'sleez', 'dime', 'antiqu', 'scumbag', 'obtain', 'didint', 'medal', 'chock', 'morgan', 'encouag', 'bracelet', 'palc', 'unwant', 'carat', 'overvalu', 'olaf', 'jewerli', 'apprais', 'chaser', 'knive', 'talker', 'reasan', 'higli', 'tangl', 'kickback', 'claustrophob', 'provok', 'hoot', 'pregnant', 'everynow', 'sec', 'dani', 'fidget', 'funnest', 'cement', 'movin', 'kota', 'laboratori', 'countdown', 'nikki', 'victorian', 'hahaha', 'exorc', 'unclear', 'haunt', 'wh', 'math', 'death', 'clever', 'enchamb', 'introduct', 'unparallel', 'theresa', 'curiou', 'koya', 'crop', 'aloud', 'witch', 'crossov', 'teleport', 'outright', 'auditori', 'peppi', 'exhilar', 'notalmost', 'stump', 'goof', 'hanna', 'tomb', 'audio', 'norcal', 'releas', 'indiana', 'helpless', 'assuredli', 'nudg', 'invent', 'jumpscar', 'twilight', 'arc', 'legitim', 'centuri', 'interor', 'flew', 'boiiiiiiiiiiiiiiiiiiiiiiiiiiiiiiiiiiiiiiiiiiiiiiiiiiiiiiiiiiiiiiiiiii', 'skull', 'acces', 'adrenalin', 'hootin', 'esacp', 'orgin', 'just', 'disney', 'coleen', 'valid', 'conni', 'sherlock', 'crawl', 'bossi', 'exampl', 'tey', 'tactil', 'luster', 'cram', 'trophi', 'bottleneck', 'sheer', 'brief', 'bookshelf', 'drew', 'backstori', 'gameplay', 'fright', 'mannnn', 'amaaaazzzz', 'timeslot', 'engross', 'excap', 'unrealist', 'greeet', 'fifteenth', 'bayou', 'conceiv', 'squeal', 'scape', 'che', 'outgo', 'unsolicit', 'solvabl', 'incorpor', 'howe', 'jade', 'zephru', 'laughter', 'sensori', 'grandchildren', 'dazzl', 'zeph', 'creepili', 'nerd', 'phenomenali', 'werent', 'barley', 'dome', 'staffer', 'teammat', 'quarterli', 'lag', 'scaveng', 'partook', 'damper', 'soundtrack', 'passag', 'caviat', 'disneyland', 'withni', 'mansion', 'virgin', 'housem', 'caitlyn', 'vagu', 'flesh', 'panick', 'scientist', 'cabin', 'poll', 'escal', 'enrich', 'tile', 'elabor', 'walkin', 'terror', 'colbi', 'moreless', 'breakout', 'chrome', 'hanah', 'maze', 'elegantli', 'buzzer', 'longtim', 'minuet', 'reluct', 'tonit', 'breakaway', 'context', 'lottttt', 'liam', 'ourself', 'mite', 'parallel', 'escape', 'voodoo', 'yvonn', 'exce', 'envi', 'conduc', 'believ', 'gothic', 'spoiler', 'sixteenth', 'portug', 'say', 'ercent', 'aros', 'sofia', 'storytel', 'skullwitch', 'colbey', 'unknown', 'emaz', 'giver', 'rowdi', 'intellig', 'comed', 'raider', 'intensifi', 'paranorm', 'guesser', 'administr', 'cleari', 'propel', 'unsuspect', 'holm', 'scrambl', 'reaction', 'resembl', 'envolv', 'replay', 'intricaci', 'intermedi', 'episod', 'gosh', 'architectur', 'wil', 'exposit', 'dollhous', 'hamnah', 'clebrat', 'devolv', 'granddaught', 'echamb', 'handsanit', 'likewis', 'empress', 'thor', 'compel', 'lighter', 'foresur', 'manipul', 'other', 'interconnect', 'spooki', 'fab', 'retreat', 'masteri', 'speechless', 'zeb', 'jenif', 'difin', 'cipher', 'breach', 'halloween', 'pale', 'teresa', 'breech', 'brilliantli', 'hollywood', 'debrief', 'gamemast', 'knowingli', 'colleen', 'leaderboard', 'hannah', 'fundament', 'untrust', 'intrins', 'sophia', 'crabtre', 'yooooooo', 'ghost', 'chamber', 'baudrillard', 'whoop', 'freaken', 'mytholog', 'kaitlin', 'malfunct', 'lauxrhen', 'eyesight', 'scienc', 'viabl', 'uniti', 'unknowingli', 'passageway', 'kink', 'polish', 'shoutout', 'swampi', 'immerg', 'locker', 'smitten', 'loooooooooooooov', 'moder', 'enchanb', 'prefect', 'condemn', 'ami', 'bldg', 'qpuzzl', 'choleen', 'waaaaay', 'jen', 'nicki', 'shere', 'badass', 'occur', 'enhanc', 'bachelor', 'unforgiv', 'unexpectedli', 'multipart', 'fasin', 'lantern', 'surpass', 'jone', 'builder', 'reminisc', 'kanai', 'shriek', 'unforgett', 'troublesom', 'nuanc', 'gwt', 'refinish', 'mellow', 'weakest', 'dimli', 'groupon', 'offsit', 'kana', 'mode', 'scarier', 'themat', 'tickl', 'phenomenon', 'fascin', 'militari', 'theatric', 'storylin', 'creator', 'holler', 'rundown', 'quirk', 'gasp', 'koi', 'fumbl', 'animatron', 'terresa', 'extran', 'closet', 'calib', 'gush', 'fasic', 'thsnk', 'doll', 'seventeenth', 'ole', 'squad', 'stranger', 'altogeth', 'confer', 'assumpt', 'assault', 'sue', 'threaten', 'precionan', 'charlatan', 'sentra', 'wfi', 'volkswagen', 'friendl', 'interceptor', 'escalad', 'conpani', 'agrada', 'govern', 'suburban', 'compr', 'auction', 'deviou', 'acura', 'hel', 'accord', 'duty', 'suv', 'nevada', 'cayenn', 'gover', 'dart', 'buick', 'unthink', 'iam', 'marshallautosal', 'wreck', 'robert', 'vic', 'agradecido', 'marc', 'clog', 'bougt', 'dudeswil', 'tammi', 'carfax', 'proceso', 'ssi', 'camri', 'famil', 'fax', 'homework', 'victoria', 'impala', 'bait', 'headrest', 'civic', 'porsch', 'alyssia', 'divid', 'reset', 'mvp', 'aquir', 'tupilo', 'protector', 'meadl', 'trhi', 'musti', 'personel', 'unemploy', 'rodent', 'devon', 'ez', 'abraham', 'curtiou', 'earlean', 'propeti', 'trickl', 'flatten', 'oblig', 'adam', 'departur', 'district', 'jelli', 'lacey', 'tupelo', 'coco', 'ordeal', 'deanna', 'frettlen', 'victim', 'happiest', 'coo', 'inpress', 'pak', 'onsit', 'alysa', 'moistur', 'ashli', 'natoma', 'disgrac', 'assign', 'scissor', 'allysa', 'broom', 'huband', 'backward', 'pc', 'ineffect', 'asset', 'ala', 'uplift', 'span', 'password', 'prize', 'ant', 'breas', 'seattl', 'flood', 'nake', 'tub', 'accuman', 'petra', 'alyssa', 'log', 'proffession', 'felicia', 'defianet', 'societi', 'moveout', 'ineffici', 'couol', 'shanidra', 'highki', 'peronalan', 'faculti', 'consensu', 'smith', 'ontop', 'ransack', 'nelann', 'daimond', 'rag', 'jill', 'faulkner', 'trigger', 'tupleo', 'illumin', 'orangeval', 'andcindi', 'wounder', 'convien', 'roach', 'attribut', 'allyssa', 'skid', 'flouresc', 'motel', 'geneva', 'ahold', 'richard', 'isaah', 'collin', 'shed', 'ashl', 'alycia', 'andth', 'amid', 'lizzi', 'brilliant', 'aaaaaa', 'blueberri', 'haag', 'crean', 'priorit', 'robbin', 'waistlin', 'gunther', 'float', 'wafer', 'hurrican', 'payoff', 'carlsbad', 'graham', 'scruffi', 'sorbet', 'tin', 'encinita', 'clinic', 'chocahol', 'fruiti', 'rippl', 'england', 'besttttt', 'medusa', 'echo', 'lovee', 'yummiest', 'can', 'fudg', 'gunter', 'unlaw', 'colli', 'blizzard', 'ea', 'rainbow', 'downright', 'youngstown', 'diari', 'sampler', 'dq', 'fabulousishess', 'qt', 'yaasssss', 'weeknight', 'creameri', 'kindergartn', 'pickiest', 'snook', 'daz', 'creamiest', 'leatherbi', 'quart', 'gravit', 'handel', 'malt', 'sooooooo', 'unmask', 'mitchel', 'yummmmmmi', 'skate', 'wowza', 'prove', 'ohio', 'boston', 'tall', 'twister', 'paw', 'lauren', 'dasher', 'dutch', 'buckey', 'congreg', 'stinkin', 'mixer', 'cobbler', 'subaru', 'eli', 'misfir', 'cylind', 'fccc', 'overbook', 'avid', 'bulletin', 'invari', 'urgent', 'writer', 'corvett', 'pattern', 'carlomagno', 'rover', 'beater', 'avalanch', 'symptom', 'limp', 'samina', 'postpon', 'deed', 'flush', 'someon', 'compart', 'passat', 'acceler', 'elton', 'aamir', 'shannon', 'clair', 'jaim', 'mahesh', 'castrol', 'cracket', 'outfit', 'digniti', 'strut', 'coil', 'harmon', 'smudg', 'rotor', 'fcc', 'gentli', 'recharg', 'dashboard', 'jiffi', 'gmc', 'priu', 'diagnos', 'truth', 'timefram', 'outback', 'biscotti', 'silverado', 'odyssey', 'byway', 'deplor', 'pinion', 'freon', 'vibrat', 'advisor', 'reman', 'bulb', 'socket', 'condens', 'shank', 'curv', 'oregon', 'wedg', 'pluma', 'horrif', 'anaesthesia', 'arif', 'antibiot', 'oldest', 'dosag', 'bout', 'miguel', 'turnov', 'terrifi', 'callend', 'karina', 'yassa', 'andher', 'hygeienist', 'quuckli', 'altura', 'liz', 'allway', 'lectur', 'nathali', 'secretari', 'atendieron', 'unheard', 'olni', 'cativit', 'yellowston', 'guardian', 'calendar', 'dramat', 'orthodont', 'prescrib', 'lodg', 'retrain', 'ceas', 'alexia', 'traumat', 'miranda', 'ortho', 'hani', 'miscommun', 'friendi', 'mireya', 'dentista', 'injuri', 'jocelyn', 'abrupt', 'patuent', 'arguement', 'hersamin', 'abscess', 'interpret', 'overpaid', 'explican', 'nurs', 'whe', 'cleans', 'worm', 'deffint', 'craftsman', 'lancast', 'enviro', 'slop', 'slipperi', 'diabet', 'gobbl', 'asperagu', 'becau', 'slimey', 'cj', 'edamam', 'rancid', 'tuesdayproblem', 'agadashi', 'bimi', 'disspoint', 'goldfish', 'soju', 'seawe', 'sapporo', 'induc', 'taste', 'plave', 'philadelphia', 'tole', 'gooey', 'nauseou', 'shusi', 'tripadvisor', 'saki', 'champ', 'tonkatsu', 'joel', 'jamaica', 'humid', 'tranquil', 'recomen', 'geat', 'bk', 'okami', 'nigiri', 'quaint', 'tai', 'thaichilada', 'rangoon', 'discoveri', 'youth', 'linguini', 'tamarind', 'taquito', 'guilti', 'sirven', 'imit', 'jacksonvil', 'thailandesa', 'utterli', 'decal', 'cevich', 'tastili', 'sicament', 'malo', 'carnivor', 'pi', 'omgahhhhh', 'stickler', 'chupars', 'praus', 'insipid', 'swell', 'skinni', 'girlangel', 'pika', 'preparada', 'lemongrass', 'matern', 'abt', 'plater', 'deben', 'mex', 'dedo', 'phrase', 'foodi', 'flavorful', 'guatemalteco', 'hangri', 'salud', 'fuego', 'echa', 'fathom', 'boba', 'explos', 'riddanc', 'horrend', 'thirti', 'mexicana', 'servici', 'cobran', 'guatemalan', 'partak', 'siracha', 'fea', 'rubberi', 'marea', 'trashi', 'nuy', 'checkin', 'horrenda', 'arroz', 'udon', 'porci', 'geo', 'picka', 'ooey', 'impression', 'jarrito', 'cajera', 'anyon', 'amiga', 'border', 'idont', 'torta', 'piquanc', 'savor', 'latino', 'drunken', 'actitud', 'ayi', 'disfrutarla', 'jummi', 'defus', 'powerad', 'macaroni', 'yummmmm', 'deceiv', 'piece', 'qauliti', 'pet', 'leavung', 'doesent', 'mill', 'crispier', 'jesusli', 'cfa', 'bombdotcom', 'bombay', 'cnt', 'puni', 'dood', 'drivethru', 'recommendy', 'diferent', 'popey', 'torranc', 'orderli', 'but', 'chick', 'courteous', 'fil', 'zigzag', 'organizacion', 'fila', 'suboptim', 'opt', 'manhattan', 'icedream', 'barbara', 'slowest', 'peach', 'sweeti', 'com', 'franchise', 'krunch', 'segundo', 'plea', 'reassess', 'veri', 'sceneri', 'thur', 'efeci', 'mapl', 'kno', 'compactor', 'sabroso', 'compair', 'humong', 'adecuadament', 'scarc', 'matine', 'evreon', 'exptet', 'bridal', 'smdh', 'ettiquett', 'nonchal', 'js', 'brow', 'consumer', 'diversi', 'canmot', 'kan', 'activaron', 'ws', 'hermoso', 'sexual', 'cleam', 'sephora', 'coool', 'hollyday', 'baldwin', 'moderna', 'bello', 'destul', 'treater', 'scooter', 'partli', 'fountain', 'seguido', 'hv', 'peek', 'ta', 'wid', 'thst', 'granni', 'resto', 'galeria', 'tutt', 'rickman', 'videogam', 'lke', 'mientra', 'oo', 'mixtur', 'vacanc', 'fr', 'quegusta', 'linen', 'tement', 'teatro', 'mondo', 'tgi', 'theey', 'outter', 'statham', 'stub', 'carousel', 'sch', 'cierran', 'redevelop', 'reviv', 'lite', 'neithet', 'sitio', 'congratulacion', 'dumpi', 'brit', 'justic', 'varia', 'primer', 'codi', 'westfield', 'pena', 'rocket', 'andal', 'bofa', 'ferrari', 'placc', 'parcar', 'miglior', 'cibo', 'apuro', 'felu', 'volunt', 'siguieron', 'einkaufszentrum', 'wahoo', 'galleri', 'vida', 'iffi', 'stico', 'zale', 'righ', 'monica', 'errday', 'repetit', 'sandal', 'hollywoodlif', 'bendicion', 'hobbyist', 'carmel', 'dif', 'zumi', 'overhaul', 'gang', 'looov', 'warrant', 'acogedor', 'var', 'ranchera', 'recov', 'mcdonald', 'koool', 'beuti', 'galler', 'perders', 'hustler', 'alli', 'alegr', 'aveng', 'foy', 'distinct', 'asphalt', 'forevermor', 'ash', 'simc', 'artesia', 'perk', 'sauber', 'pequ', 'cinemark', 'poepl', 'negozi', 'abercrombi', 'uneven', 'revis', 'enjoyedth', 'moviego', 'genero', 'holland', 'pointless', 'siimmenso', 'maci', 'nena', 'divertimento', 'ayudan', 'segido', 'sproit', 'alguna', 'dinosaur', 'mota', 'grrat', 'siwa', 'unkept', 'orher', 'cirtual', 'sneaker', 'seventi', 'emcanta', 'aunqu', 'gut', 'magnif', 'vicin', 'spiritualist', 'ufer', 'mingl', 'tomt', 'cuba', 'supris', 'flea', 'alongsid', 'modo', 'broskeez', 'helg', 'bajo', 'princess', 'hanger', 'facina', 'cosmet', 'cerrar', 'menin', 'navi', 'cop', 'ine', 'princesa', 'relarx', 'tmobil', 'miu', 'feah', 'festivo', 'acceess', 'mcdowel', 'sobretodo', 'swarovski', 'weri', 'godiva', 'quiera', 'widow', 'wss', 'southern', 'openz', 'fte', 'clesn', 'paseo', 'fragranc', 'evereth', 'strangest', 'muchoir', 'incompar', 'roller', 'bebe', 'sind', 'convini', 'flagship', 'exllent', 'trespass', 'huuuuuuug', 'gp', 'cerrado', 'lawndal', 'ltimo', 'princ', 'rudeee', 'rekommendera', 'divierten', 'bumbl', 'disfrutar', 'visitarlo', 'vayan', 'qhheel', 'brussel', 'stess', 'elect', 'patrol', 'panther', 'beverli', 'parodi', 'conpra', 'bigelow', 'gesch', 'ste', 'abu', 'spa', 'distancia', 'vr', 'cerrito', 'therapi', 'agusto', 'estacionamiento', 'dsligt', 'genial', 'radiohost', 'remodelado', 'tard', 'toda', 'desmedidament', 'melissa', 'escog', 'napoli', 'evacu', 'empfehlenswert', 'awe', 'popcorn', 'distraers', 'confeccion', 'quisin', 'jumper', 'calabasa', 'tacki', 'spencer', 'culver', 'wooooooooooow', 'pe', 'cil', 'dolbi', 'roam', 'decur', 'aqu', 'und', 'bilingu', 'dwayn', 'dommag', 'mainstream', 'kmart', 'punto', 'suncoast', 'ish', 'stroller', 'cualquier', 'buscaba', 'bunni', 'hnm', 'darm', 'zapato', 'gust', 'landmark', 'donita', 'impuls', 'tiempo', 'econtrar', 'disfruta', 'tranquilo', 'compris', 'homi', 'piti', 'loui', 'loja', 'gana', 'spam', 'southernmost', 'threat', 'plein', 'fancier', 'principal', 'southbay', 'sehe', 'terabl', 'glosno', 'dunn', 'lavand', 'facilidad', 'enliven', 'kiddi', 'chrisma', 'verdad', 'arcad', 'mant', 'plesant', 'zu', 'jc', 'blain', 'alittl', 'rumor', 'beaucoup', 'tanto', 'cine', 'eww', 'ms', 'vorallem', 'tablet', 'ainsi', 'cronu', 'vexati', 'jason', 'contento', 'cinema', 'glamor', 'creo', 'servicii', 'bulli', 'hut', 'sympa', 'det', 'ragnarok', 'eyebrow', 'convieni', 'abren', 'paradis', 'donald', 'mare', 'deber', 'habe', 'throught', 'grandbabi', 'contemporari', 'stort', 'seguridad', 'acceso', 'gymbore', 'whit', 'piso', 'momento', 'revamp', 'kole', 'cerca', 'padrisimo', 'emmanuel', 'voy', 'mc', 'uferinnen', 'multipurpos', 'berlaufen', 'delamo', 'ridabl', 'khol', 'sige', 'costo', 'harrass', 'redondo', 'simplement', 'faint', 'loooot', 'war', 'asust', 'visitar', 'mt', 'karaok', 'gustaria', 'playstor', 'amc', 'perfecta', 'palac', 'tre', 'buenisimo', 'temprano', 'famou', 'alta', 'haciento', 'aseado', 'makeov', 'vallan', 'croud', 'sapato', 'permeat', 'frrom', 'hilfsbereit', 'freundlich', 'deperdido', 'skecher', 'regla', 'comun', 'tilli', 'moll', 'diversa', 'sill', 'babywith', 'crape', 'america', 'emptiest', 'stole', 'forbidden', 'prom', 'wilbert', 'verk', 'aceptaci', 'jojo', 'hab', 'snazzi', 'hoarder', 'mock', 'hermosa', 'gettho', 'ecxept', 'cain', 'buscar', 'khole', 'panera', 'voucher', 'ribbon', 'kohl', 'sbg', 'gamestop', 'fantastico', 'stegosauru', 'hoodi', 'gepflegt', 'chocolati', 'ehhhh', 'perman', 'negocio', 'anchor', 'bethani', 'gnc', 'restur', 'ait', 'nostrum', 'yah', 'revanch', 'jessenia', 'underwear', 'speci', 'shopp', 'command', 'penney', 'reclin', 'philli', 'chek', 'parkour', 'magasin', 'sentirs', 'aqui', 'ulta', 'recordando', 'aura', 'fwi', 'ppace', 'espacio', 'void', 'finder', 'mejorado', 'cleab', 'cours', 'beba', 'charley', 'retire', 'commercial', 'autumn', 'mai', 'pedestrian', 'gro', 'andar', 'alarma', 'vitmin', 'superbowl', 'mn', 'conductor', 'mimick', 'navid', 'amplio', 'basico', 'regard', 'purs', 'payless', 'hollist', 'foxhil', 'predominantli', 'conveniencia', 'calient', 'almo', 'trabajador', 'airlin', 'got', 'carisimo', 'prejudic', 'signup', 'britney', 'fenomen', 'villag', 'buenaso', 'divertido', 'evolv', 'crenshaw', 'opcion', 'mangolian', 'estoy', 'cazadora', 'cerrada', 'odditi', 'kept', 'parki', 'yeyyy', 'unples', 'rideshar', 'theatr', 'useful', 'encantado', 'bryant', 'varieda', 'opposit', 'vista', 'completo', 'suficient', 'hobb', 'temporada', 'stupidli', 'boutiqu', 'eopl', 'fled', 'boycott', 'cooupl', 'terrac', 'spaceou', 'directori', 'erreichen', 'deno', 'conjest', 'trist', 'sient', 'viel', 'relev', 'slate', 'resturaunt', 'circus', 'leas', 'chimichuri', 'ontario', 'sheik', 'cinnabon', 'desol', 'repurpos', 'univers', 'makl', 'rex', 'melodrama', 'peepz', 'swapmeet', 'bra', 'abusando', 'parqueo', 'macguffin', 'hicimo', 'verbal', 'retro', 'bastant', 'dino', 'apex', 'alarm', 'shower', 'hyena', 'debit', 'lateon', 'licens', 'raro', 'nostalgia', 'recognit', 'hyper', 'prueben', 'firc', 'pueden', 'cn', 'han', 'farmer', 'meg', 'greay', 'seast', 'sone', 'adolesc', 'aah', 'tercer', 'preferido', 'itent', 'ross', 'galleria', 'resistir', 'viendo', 'fant', 'jd', 'recomiedo', 'precosa', 'cheeto', 'och', 'angi', 'everyplac', 'cologn', 'lancom', 'disparag', 'brothaz', 'nordstom', 'brea', 'nino', 'futurist', 'vuitton', 'rey', 'appetit', 'oth', 'merchant', 'bounci', 'mallrat', 'endgam', 'youll', 'dizzl', 'bolsillo', 'intercours', 'gadget', 'compramo', 'cotidiana', 'stroll', 'gustaba', 'inflaci', 'hipper', 'thiugh', 'tambien', 'sex', 'todav', 'puctur', 'nicht', 'perder', 'anch', 'eleven', 'pupusa', 'continui', 'mervyn', 'gender', 'chido', 'wetzel', 'subido', 'vien', 'hawthorn', 'caminar', 'circumv', 'dentro', 'turner', 'harras', 'regreso', 'comerci', 'outdat', 'eiuuu', 'parc', 'sexi', 'cinnabun', 'director', 'visitantea', 'restroo', 'salez', 'givin', 'evryon', 'boa', 'famer', 'cushi', 'fad', 'harass', 'divercion', 'cpk', 'bcuz', 'hookup', 'loung', 'kuwait', 'galer', 'wretzal', 'ist', 'eveyth', 'binform', 'llegar', 'mantengamo', 'vel', 'mayss', 'rapist', 'redirect', 'altima', 'bryan', 'vicki', 'pensar', 'regresar', 'viniendo', 'qui', 'armando', 'trato', 'servisio', 'thyu', 'csr', 'llanta', 'cambiar', 'dejar', 'otra', 'baja', 'vengo', 'plz', 'sevic', 'presioy', 'recomi', 'lavar', 'pelvic', 'maybach', 'pint', 'cd', 'agarradera', 'bn', 'quebraron', 'reconmend', 'dirt', 'touchless', 'gettin', 'ashtray', 'recomieindo', 'stunna', 'garantizado', 'beggar', 'juan', 'lmao', 'selo', 'estaba', 'mat', 'mixtap', 'gloss', 'lambo', 'aun', 'carwash', 'conocido', 'slauson', 'hav', 'discharg', 'elaboran', 'lavado', 'respondieeon', 'diciendo', 'yale', 'scrub', 'fir', 'thermo', 'carro', 'travajo', 'thaithailand', 'mild', 'admittedli', 'devastatingli', 'affabl', 'kao', 'unimprov', 'hai', 'nomin', 'ew', 'arguabl', 'terrin', 'stoll', 'papaya', 'conciou', 'baltimor', 'penang', 'hainanes', 'fanat', 'kai', 'smili', 'lifeless', 'redeem', 'delishh', 'lesser', 'enchant', 'glutin', 'glassi', 'hanker', 'yummyy', 'environment', 'portland', 'proclaim', 'wateri', 'bakersfield', 'grandpa', 'massman', 'quinoa', 'umami', 'shareabl', 'aftertast', 'panang', 'pregnanc', 'gai', 'greendal', 'campu', 'addtion', 'ngele', 'bogu', 'esl', 'mudah', 'percentag', 'unansw', 'kalustian', 'usc', 'cans', 'inadequ', 'unstabl', 'paintbal', 'judith', 'pertin', 'falsa', 'campus', 'lac', 'metro', 'southwest', 'dwindl', 'prerequisit', 'trailblaz', 'belajar', 'roster', 'muse', 'font', 'physcolog', 'habr', 'faction', 'graduat', 'vuelta', 'travers', 'ini', 'studi', 'porcentaj', 'notabl', 'egre', 'mlk', 'fiction', 'mceveti', 'professor', 'nap', 'adjunct', 'counselor', 'ssn', 'cradl', 'northeast', 'racquet', 'improvenrnt', 'weirdli', 'admiss', 'smc', 'unsympathet', 'telli', 'mutcho', 'parient', 'futbol', 'medrano', 'marrag', 'fui', 'eng', 'crackhead', 'kampu', 'anza', 'piccard', 'fm', 'berat', 'hollomb', 'decreas', 'imform', 'hep', 'credito', 'gpa', 'leyva', 'pronto', 'melros', 'clown', 'intermitt', 'ens', 'shifless', 'birth', 'jr', 'algebra', 'mute', 'dumbass', 'aba', 'sedgi', 'string', 'raffl', 'sentenc', 'janitor', 'sime', 'inabl', 'bacteri', 'disagre', 'mudahan', 'tastic', 'responsilbilti', 'drank', 'citizenship', 'okamara', 'onr', 'walkabl', 'affect', 'counsel', 'dropout', 'embodi', 'tuition', 'internship', 'blind', 'powerbank', 'librarian', 'ratemyprofessor', 'junior', 'ucla', 'pelo', 'pr', 'blank', 'elac', 'cuento', 'saya', 'publish', 'futil', 'bluetooth', 'cansa', 'scholarship', 'demograph', 'petutti', 'collag', 'ce', 'newspap', 'vulner', 'lang', 'mam', 'rudli', 'xo', 'archiv', 'cast', 'offlin', 'espero', 'sporad', 'mental', 'enrol', 'microbiolog', 'oportunidad', 'hanukkah', 'hare', 'fend', 'passport', 'bisa', 'magzhan', 'classroom', 'broadcast', 'tali', 'guitar', 'cinematographi', 'wth', 'feloni', 'librari', 'career', 'gentelman', 'pal', 'marriag', 'csun', 'offens', 'reve', 'astronomi', 'winni', 'journalist', 'uc', 'sandi', 'mutcha', 'flashlight', 'coach', 'bertha', 'semest', 'fye', 'councler', 'viciou', 'hs', 'asistencia', 'pcc', 'fierro', 'registrar', 'subject', 'vermont', 'scof', 'sanchez', 'oss', 'eras', 'pike', 'evil', 'mal', 'classwork', 'flourish', 'notari', 'salimzhanov', 'colegio', 'bukowski', 'tomar', 'journal', 'flyer', 'walzer', 'csu', 'saca', 'speaker', 'stimul', 'dare', 'estudiant', 'enclas', 'sharaga', 'kinesiolog', 'antibacteri', 'chester', 'bookstor', 'martial', 'practicar', 'transferr', 'herd', 'penal', 'problema', 'grati', 'verteran', 'coll', 'wlac', 'net', 'xima', 'lavc', 'lissovoy', 'bureaucrat', 'hart', 'transcript', 'freshmen', 'examen', 'visto', 'toma', 'crimin', 'ged', 'serio', 'withdraw', 'lacc', 'holder', 'deadlin', 'scool', 'chemistri', 'collegian', 'unescort', 'piano', 'aswom', 'asen', 'pinki', 'thyroid', 'clickabl', 'gangster', 'remodelacion', 'frienli', 'cambian', 'lotto', 'luci', 'chequ', 'carrero', 'parqueadero', 'cerveza', 'renev', 'refrescar', 'hicieron', 'classi', 'ana', 'acquisit', 'vodka', 'firebal', 'mf', 'praic', 'sto', 'licor', 'llll', 'quedo', 'tahachapi', 'arkansa', 'conrad', 'fantist', 'applebe', 'plank', 'kri', 'helen', 'oric', 'ruth', 'puke', 'stray', 'pitcher', 'sizzl', 'damp', 'reali', 'ined', 'equival', 'diarrhea', 'sink', 'travesti', 'iik', 'patronag', 'brainless', 'stem', 'rustic', 'placd', 'pasadena', 'grader', 'experic', 'sirlion', 'histor', 'cockroach', 'cashew', 'bloodi', 'cor', 'houston', 'stockyard', 'audac', 'ale', 'sizzler', 'pea', 'iur', 'stalker', 'conge', 'stew', 'mgr', 'carpaccio', 'starchi', 'mignonett', 'wagyu', 'cajun', 'aioli', 'disintegr', 'shuck', 'elong', 'relajado', 'fteet', 'uni', 'promenad', 'acquir', 'freedom', 'ktown', 'windi', 'scalibut', 'tartar', 'chilean', 'devin', 'duroc', 'brini', 'downgrad', 'dab', 'hh', 'leed', 'garnish', 'gow', 'shu', 'locatio', 'dimsum', 'vomit', 'fung', 'horseradish', 'breakdown', 'gastro', 'risotto', 'concierg', 'seabass', 'foe', 'chimichurri', 'koreatown', 'umi', 'emc', 'overpow', 'chutney', 'forr', 'unfresh', 'glaze', 'shashimi', 'bento', 'apprentic', 'ninja', 'chavarria', 'terri', 'ecel', 'flattop', 'tightli', 'von', 'brule', 'criticizm', 'drawback', 'ichiban', 'mirin', 'compact', 'bullcrap', 'rudi', 'creme', 'ayc', 'soba', 'miso', 'chapter', 'mist', 'stevi', 'indulg', 'exceptionari', 'sadel', 'mmmmm', 'shld', 'steve', 'stuffi', 'newsom', 'foothil', 'morsel', 'envioment', 'dz', 'homefri', 'pam', 'buisi', 'cucamonga', 'archibald', 'dictat', 'absentmind', 'sirloin', 'swiss', 'gr', 'darl', 'exquisita', 'marlen', 'ae', 'bff', 'five', 'thooo', 'gomermet', 'oft', 'phx', 'biscut', 'owen', 'delisi', 'unclean', 'setvic', 'dee', 'foid', 'creamer', 'filler', 'moodi', 'tucson', 'omellet', 'placr', 'mailer', 'fooood', 'waitr', 'prob', 'radar', 'eel', 'albacor', 'emili', 'domest', 'mug', 'satiat', 'absolutley', 'afort', 'instant', 'comido', 'triest', 'happenst', 'edinama', 'kabocha', 'couisin', 'worrisom', 'edemam', 'alwaay', 'peor', 'jammin', 'diria', 'fux', 'molo', 'fontana', 'foodm', 'fishi', 'shushi', 'goyza', 'wifey', 'topper', 'amateur', 'summa', 'spar', 'spook', 'blahh', 'sioso', 'averagli', 'costli', 'diablo', 'enadam', 'slowish', 'siento', 'grassi', 'bastard', 'christ', 'isbol', 'softbal', 'bruin', 'furri', 'squetbol', 'jesu', 'luz', 'goddaught', 'hoop', 'descansar', 'dur', 'peic', 'shrub', 'evento', 'lurk', 'cautionari', 'playstat', 'pasa', 'juego', 'yuck', 'squet', 'conversar', 'exe', 'buzz', 'encerrado', 'ilov', 'traigan', 'bol', 'picnick', 'ase', 'divertir', 'jugando', 'getto', 'rxswrldwide', 'kiddoss', 'vez', 'statement', 'jugar', 'speend', 'groom', 'sportsmanship', 'shade', 'nene', 'ise', 'daylight', 'afyernoon', 'pd', 'tener', 'barrio', 'divertirs', 'hideaway', 'defec', 'bleacher', 'rato', 'cuando', 'hack', 'enjoin', 'grrr', 'parqu', 'cigarett', 'bloomington', 'comrad', 'druggi', 'helicopt', 'tranquila', 'camarada', 'leagu', 'corico', 'overtim', 'bangin', 'diarhea', 'hd', 'chipsand', 'nunca', 'caldo', 'estado', 'pocoy', 'possion', 'quisieron', 'carita', 'menudo', 'aut', 'scimp', 'waa', 'pinchi', 'tanta', 'demasiado', 'barstow', 'buch', 'cruda', 'rosamond', 'sd', 'upperf', 'dedicaci', 'masa', 'worl', 'ssso', 'supwr', 'minc', 'quemada', 'champurrado', 'loguar', 'latin', 'suxk', 'definitivament', 'greattt', 'riquisimo', 'llevar', 'utah', 'dumbshit', 'ntica', 'pierda', 'grisli', 'ped', 'gustaron', 'bieno', 'notanpicosa', 'iba', 'pedimo', 'inventaron', 'saucer', 'beig', 'caucasian', 'amor', 'tacoss', 'victorvil', 'vuelvo', 'servis', 'apon', 'prisa', 'unedit', 'basura', 'cottonwood', 'hesperia', 'grasoso', 'chorreaba', 'tastless', 'furiou', 'bullhead', 'unseason', 'movilidad', 'hace', 'siper', 'yhe', 'sala', 'stomachach', 'hablar', 'liquid', 'klub', 'opci', 'suavecita', 'alpastor', 'atacor', 'righteou', 'sonni', 'mmmmmm', 'taqueroa', 'cara', 'orchata', 'husi', 'buritto', 'ambulant', 'exreamli', 'aora', 'preheat', 'aguac', 'inconfund', 'vieja', 'reaalli', 'porquendon', 'ther', 'cocinada', 'drench', 'handendli', 'dispensari', 'pac', 'dayli', 'regalada', 'sope', 'brouhi', 'charro', 'pedi', 'linda', 'saddest', 'unsanitari', 'consumpt', 'tirar', 'grasa', 'pide', 'bombski', 'nightfal', 'limpieza', 'detent', 'estan', 'mexi', 'eatin', 'foil', 'cabeza', 'langua', 'tue', 'daytim', 'gristl', 'sencillamant', 'iso', 'younguy', 'tweeeeeeeker', 'beefi', 'carna', 'revuelto', 'probado', 'miy', 'hra', 'meeeaaaxico', 'tripa', 'zuco', 'foo', 'castaneada', 'pout', 'clone', 'sason', 'asado', 'gracerio', 'chainsaw', 'choix', 'delect', 'sewag', 'edad', 'defenetli', 'munchi', 'respeto', 'wowww', 'baaabbbyyi', 'cuarto', 'papa', 'decepcion', 'ltima', 'tacoa', 'wpuld', 'marisco', 'dulc', 'alwaysess', 'fodder', 'boozin', 'huevo', 'dyo', 'coriand', 'shepherd', 'gordita', 'rapida', 'commend', 'eatoutsid', 'yummmmi', 'nervio', 'probando', 'provecho', 'enchilosa', 'madr', 'rins', 'adobada', 'radish', 'cabesa', 'soupi', 'worsdt', 'goon', 'noma', 'carni', 'rivera', 'tradicion', 'lech', 'trabajan', 've', 'brunch', 'she', 'dishwat', 'chiquito', 'tacosss', 'remak', 'ponerl', 'comadr', 'dfinay', 'ejacul', 'yummay', 'dicen', 'expectth', 'gooda', 'defenit', 'handmad', 'lengua', 'laat', 'bernardino', 'alberto', 'unmistak', 'mp', 'alazon', 'apresurada', 'sore', 'restauran', 'numero', 'gordo', 'jajja', 'roja', 'cobrar', 'ml', 'doradito', 'originalment', 'tuve', 'medieron', 'supermercado', 'xico', 'raza', 'cobraron', 'ver', 'tacosssss', 'baliero', 'equin', 'begun', 'resol', 'sadvertis', 'glu', 'demis', 'bellevil', 'sleek', 'glue', 'buff', 'afterward', 'heel', 'creas', 'germani', 'karenan', 'ug', 'eyelet', 'corral', 'waterproof', 'agl', 'rehabilit', 'blundston', 'corp', 'buf', 'judgement', 'allen', 'rocker', 'chairman', 'rambler', 'ecco', 'ariat', 'chunki', 'spif', 'ultra', 'manufacut', 'liner', 'esatto', 'chagrin', 'betula', 'nushu', 'spammer', 'mayari', 'daytona', 'instinct', 'compliant', 'scuf', 'midsol', 'sedona', 'loafer', 'wingtip', 'shoelac', 'ireland', 'dearli', 'leather', 'tlc', 'helm', 'microfib', 'dualpro', 'veterinari', 'birk', 'crepe', 'filson', 'fraction', 'berlin', 'welt', 'union', 'sham', 'ferragamo', 'husbandd', 'nu', 'birkenstock', 'strap', 'endur', 'chukka', 'wildland', 'wrote', 'finn', 'restitch', 'thrift', 'craftsmen', 'chippewa', 'unwis', 'monoton', 'saddl', 'allevi', 'thoroughgood', 'cork', 'baduard', 'oversea', 'firefight', 'qc', 'nushos', 'shoddi', 'profici', 'pice', 'rework', 'recondit', 'allig', 'haix', 'spank', 'patina', 'baak', 'thourogood', 'nusho', 'heal', 'suppress', 'carhartt', 'marten', 'trask', 'toronto', 'zipper', 'levit', 'workmen', 'adhes', 'moc', 'buckl', 'logger', 'drab', 'tulsa', 'rejuven', 'sustain', 'dire', 'recraft', 'octob', 'paddock', 'patent', 'hopeless', 'shook', 'hog', 'critiqu', 'vibram', 'unknow', 'residu', 'footwar', 'tension', 'edmond', 'ripoff', 'sew', 'gortex', 'accustom', 'airet', 'ken', 'misphisto', 'sheen', 'toebox', 'contrast', 'peel', 'ican', 'orthot', 'polyurethan', 'shoemak', 'airiot', 'cowboy', 'footb', 'karl', 'ballet', 'olga', 'transform', 'rd', 'restich', 'torn', 'thorogood', 'outsol', 'gtx', 'gloxi', 'stovepip', 'bate', 'lint', 'workhog', 'render', 'mephisto', 'shoemen', 'neopren', 'hander', 'rmr', 'stylish', 'viridian', 'notwithstand', 'sig', 'panama', 'holster', 'usp', 'infantri', 'robust', 'hammer', 'neglig', 'feder', 'wesson', 'civilian', 'magnum', 'chp', 'acp', 'mod', 'shotgun', 'flatsid', 'velcro', 'pistol', 'cheetah', 'drawn', 'lord', 'sider', 'republ', 'xd', 'ammend', 'romeo', 'mag', 'idpa', 'reinforc', 'ccw', 'jaramilla', 'midway', 'carpent', 'kirk', 'ron', 'marv', 'shill', 'notebook', 'glock', 'lightweight', 'weapon', 'handgun', 'forti', 'barrel', 'carrier', 'sharper', 'elbow', 'acker', 'lighten', 'trusti', 'unsnap', 'akar', 'loosen', 'revolv', 'fold', 'slick', 'handcuff', 'outlast', 'xr', 'iwb', 'cuff', 'ammo', 'synthet', 'cz', 'armi', 'snubbi', 'augi', 'pouch', 'bulg', 'conceal', 'diad', 'speedload', 'aker', 'retent', 'gunbelt', 'television', 'unisex', 'gaurd', 'descompuesta', 'olorosa', 'rise', 'fittest', 'funcionan', 'sweetest', 'handkerchief', 'maquina', 'anda', 'sentado', 'contesta', 'limpiando', 'odor', 'inconvenient', 'encargada', 'estancia', 'eslo', 'laundromat', 'stool', 'llaman', 'queda', 'vend', 'abarrotado', 'loader', 'loadabl', 'tolerant', 'ocasion', 'secruiti', 'bnbwash', 'smelt', 'fml', 'sillon', 'disponibilidad', 'dispensador', 'currenc', 'mashin', 'loom', 'srri', 'tenerlo', 'shortcut', 'drier', 'gunk', 'bleach', 'secadora', 'cajon', 'complac', 'armchair', 'deterg', 'caretak', 'bettrr', 'trabajadora', 'ermoso', 'lavada', 'chula', 'mori', 'cuenta', 'armageddon', 'ww', 'descuidando', 'secada', 'lavadora', 'orlando', 'nager', 'doughnut', 'ara', 'dispens', 'secar', 'twelv', 'ergo', 'funciona', 'masaj', 'golf', 'suavizant', 'impos', 'everythung', 'dimpl', 'upkeep', 'secado', 'plafe', 'nin', 'disfrut', 'lavaba', 'buesques', 'stank', 'marcador', 'inseguridad', 'ppr', 'imperi', 'poquito', 'parlanchina', 'bpara', 'metich', 'gasolina', 'input', 'barata', 'illiter', 'chicano', 'cuidar', 'mismo', 'sucio', 'credenti', 'manejan', 'comodo', 'importa', 'bbmp', 'chevron', 'aparenta', 'insecur', 'mujer', 'dispon', 'delo', 'credenci', 'ubicada', 'importo', 'comparacion', 'manejar', 'mostr', 'grin', 'alrededor', 'cree', 'gritona', 'salio', 'apesar', 'marca', 'nuestro', 'incompetent', 'capacidad', 'devolvieron', 'nesecidad', 'descuidado', 'chuche', 'milanesa', 'tostiloco', 'completament', 'ai', 'sensat', 'lier', 'raspado', 'mesa', 'cottag', 'poniendo', 'antihigi', 'elot', 'fruteria', 'loin', 'tambi', 'chamango', 'hablando', 'volver', 'tijuana', 'goood', 'chilango', 'natural', 'jericalla', 'rancia', 'gooooood', 'lomo', 'granola', 'mostrador', 'comiendo', 'bamo', 'calcetin', 'milanes', 'preparo', 'unhygien', 'chumango', 'muchacha', 'loma', 'peorcita', 'drummer', 'sonris', 'preach', 'ministri', 'skateboard', 'grief', 'worship', 'biblic', 'itsi', 'dorothi', 'wizard', 'bibl', 'toni', 'godli', 'fellowship', 'actress', 'longboard', 'houmur', 'morano', 'excllent', 'rekey', 'mailbox', 'relaibl', 'thamk', 'hyundai', 'ignit', 'recommem', 'disclos', 'cisco', 'highlhighli', 'swindl', 'unreal', 'gt', 'rx', 'chrysler', 'servicecam', 'qx', 'ceremoni', 'tenecula', 'casino', 'sienna', 'tauru', 'xb', 'temecula', 'lockout', 'rekeymi', 'agai', 'acadia', 'fsst', 'pwrfect', 'crysler', 'effic', 'scion', 'efford', 'dakota', 'cameri', 'convienet', 'maxima', 'quickto', 'titan', 'minivan', 'tecnician', 'mazda', 'screwdriv', 'bmw', 'harveson', 'commmun', 'ranger', 'bing', 'pechanga', 'fob', 'fro', 'sevis', 'chevrolet', 'condominium', 'infin', 'locksmith', 'reprogram', 'fo', 'cring', 'crawli', 'yrsold', 'heaven', 'spew', 'infest', 'wayn', 'jarrod', 'lbg', 'treatmemt', 'respray', 'faucet', 'ivi', 'subsequ', 'foundat', 'esperanza', 'unnot', 'recur', 'sahm', 'murrieta', 'reachabl', 'panic', 'extermin', 'antagon', 'jimmi', 'crawler', 'thornton', 'cameo', 'nip', 'inund', 'ian', 'wildomar', 'hawk', 'influx', 'nero', 'pesti', 'casualti', 'creep', 'argentin', 'vengeanc', 'critter', 'erad', 'brent', 'nest', 'terminex', 'townhom', 'pest', 'returnen', 'displeas', 'insect', 'standbi', 'backyard', 'cl', 'indio', 'bankruptci', 'escondido', 'artum', 'furher', 'gorgeou', 'amg', 'solutuon', 'reveal', 'artemi', 'arterm', 'slaughter', 'unreport', 'oceansid', 'ny', 'throughli', 'carmax', 'oll', 'wildli', 'temporarili', 'poway', 'persuad', 'benz', 'appx', 'coup', 'nm', 'profecion', 'upsal', 'explicaci', 'airport', 'tthe', 'hurdl', 'exspier', 'nj', 'ls', 'cobalt', 'workspac', 'cruse', 'artem', 'satidfi', 'mb', 'fx', 'stope', 'longshot', 'abner', 'artom', 'nationwid', 'sc', 'gl', 'automobil', 'cayman', 'bodywork', 'secondari', 'clich', 'amarillo', 'audi', 'gs', 'backflip', 'debt', 'amidst', 'pristin', 'dewey', 'batterton', 'bri', 'forecast', 'upcharg', 'citizen', 'sanford', 'travi', 'anguiano', 'lennox', 'pendent', 'steadili', 'ancient', 'intal', 'herman', 'yoiung', 'barba', 'appris', 'disposit', 'mar', 'ion', 'trait', 'conform', 'eastlak', 'circuit', 'surg', 'layman', 'booti', 'courteoiu', 'yokel', 'jaun', 'mybad', 'mindset', 'inevit', 'dg', 'azad', 'ade', 'recomnend', 'riback', 'priceless', 'manufactu', 'griffi', 'outag', 'rajid', 'justin', 'gilbert', 'snuff', 'tnx', 'brummitt', 'ere', 'amp', 'actui', 'icomfort', 'majid', 'umbrella', 'restart', 'sprinkler', 'pkg', 'expalin', 'beneath', 'serviceman', 'conclud', 'heatwav', 'ramona', 'maintenac', 'actionair', 'manual', 'vacketta', 'duct', 'nanci', 'ductwork', 'telephon', 'actio', 'larri', 'chavez', 'briefli', 'unneed', 'tarp', 'hade', 'copper', 'tyler', 'checklist', 'tedd', 'exremli', 'raphael', 'sr', 'actionac', 'witb', 'keft', 'firman', 'eduardo', 'aurturo', 'attic', 'insoect', 'honesi', 'spearhead', 'yearli', 'arturo', 'drywal', 'vent', 'inland', 'overload', 'staller', 'impair', 'willi', 'hafezihaghani', 'rez', 'burdett', 'erwin', 'workman', 'trace', 'hmmmm', 'marley', 'perez', 'lui', 'sarcast', 'rybeck', 'affirm', 'handler', 'thingi', 'blower', 'vers', 'defer', 'decept', 'antoin', 'ppe', 'monit', 'figueroa', 'explai', 'alwaysveri', 'doiseau', 'afer', 'mumbl', 'allerg', 'smash', 'yumola', 'oop', 'mira', 'clarita', 'virginia', 'sharon', 'mif', 'limead', 'brunett', 'datil', 'chubbi', 'aditon', 'dink', 'cedar', 'yuma', 'hadni', 'unfair', 'smoki', 'bianca', 'smokehous', 'lovvvv', 'meatbal', 'clairemont', 'perplex', 'contest', 'stubway', 'rinki', 'sub', 'smokier', 'firtst', 'submarina', 'meati', 'fireman', 'firehous', 'shouldv', 'wellb', 'migrain', 'arcan', 'petrifi', 'trina', 'psa', 'masquerad', 'knowledgabel', 'brighter', 'fischer', 'endear', 'blanch', 'upclos', 'ipad', 'unpreced', 'swd', 'debbi', 'inflam', 'botox', 'whiter', 'greeneri', 'doze', 'hygenist', 'jolla', 'ann', 'tmj', 'splint', 'sara', 'warmli', 'henri', 'souza', 'wink', 'resolut', 'discern', 'sosa', 'lifelong', 'ganu', 'nurtur', 'well', 'clinch', 'cantwel', 'debi', 'louis', 'gumlin', 'kat', 'anxious', 'sooth', 'juat', 'leah', 'swag', 'diminish', 'consent', 'mitig', 'balm', 'scardi', 'porcelain', 'breezi', 'prodig', 'bree', 'joani', 'effortlessli', 'sw', 'squeaki', 'aleesa', 'cynde', 'bestdentistev', 'evan', 'subtl', 'pacient', 'vacher', 'straighten', 'safest', 'alisa', 'deb', 'brighten', 'consumm', 'jenn', 'jarman', 'lifer', 'praktisch', 'bekommt', 'exyra', 'touristen', 'booklet', 'einen', 'nota', 'ganz', 'cwc', 'pasear', 'rnia', 'cti', 'explicaron', 'luftpump', 'informativ', 'amena', 'outskirt', 'atencioso', 'thislac', 'jeglich', 'werkzeug', 'zudem', 'gibt', 'playa', 'servicepoint', 'sehr', 'pacif', 'outlin', 'nfte', 'tanya', 'ausk', 'mit', 'mapa', 'radfahr', 'pat', 'folheto', 'unoccup', 'fechada', 'mcmcdonald', 'metropoli', 'sleezi', 'jardin', 'particualrli', 'artsi', 'terminando', 'configur', 'neet', 'uncl', 'tourism', 'torpedo', 'figurin', 'centrico', 'lundin', 'pendleton', 'slack', 'littl', 'spectacularli', 'petco', 'depoi', 'zum', 'libr', 'dilapid', 'beacus', 'jcpenni', 'gemco', 'moperi', 'grey', 'newish', 'grassroot', 'isidro', 'skee', 'changel', 'pcr', 'cunstruct', 'applesauc', 'jcpenney', 'embarrass', 'footrest', 'hatworld', 'pandora', 'evac', 'der', 'wochentag', 'baddd', 'crusad', 'footlock', 'mernaid', 'underway', 'celular', 'vile', 'reckless', 'osid', 'growth', 'maui', 'gute', 'joven', 'absoulutli', 'architect', 'jan', 'gteat', 'bail', 'wacano', 'rerat', 'platic', 'thli', 'goldberg', 'froyo', 'vcheckcb', 'aber', 'tween', 'colour', 'earl', 'retailor', 'yane', 'resutr', 'modament', 'despis', 'recreativo', 'headway', 'comeback', 'handsom', 'hedionda', 'ludicr', 'irepair', 'fossil', 'luch', 'raiser', 'idevic', 'youwould', 'remodelaci', 'burlington', 'colleagu', 'uninterest', 'jw', 'port', 'gehen', 'clobber', 'traen', 'gamer', 'advail', 'wir', 'mermaid', 'upward', 'mauna', 'stadium', 'compro', 'auf', 'skool', 'refit', 'srtvoce', 'intrest', 'cionar', 'zara', 'heheh', 'multipli', 'pyke', 'facelift', 'recorr', 'apocalypt', 'baggi', 'cubr', 'activist', 'dvd', 'marathon', 'visitava', 'dsl', 'horton', 'dingi', 'ome', 'franticli', 'cinepoli', 'breweri', 'macey', 'solana', 'stufff', 'hin', 'muita', 'gangbang', 'aunt', 'nop', 'regal', 'bvb', 'thwhole', 'playgroung', 'tahiti', 'pof', 'ltere', 'makeu', 'plasa', 'rubio', 'horrid', 'outra', 'eyesor', 'uneasi', 'wealth', 'helado', 'moa', 'mosquito', 'olden', 'possui', 'ordentlich', 'usb', 'bodyguard', 'holdiday', 'brink', 'cbad', 'resurrect', 'breathtak', 'lamp', 'unrent', 'openingo', 'survey', 'aqua', 'discounti', 'goododo', 'vape', 'shortag', 'revit', 'plywood', 'oppenheim', 'eject', 'yup', 'harbor', 'coastal', 'boca', 'astra', 'smorgasborg', 'comimo', 'recorrerlo', 'agresiva', 'kayle', 'commerc', 'sweeten', 'skylit', 'blahhh', 'meddl', 'bonker', 'handbag', 'francesca', 'cricket', 'dodgi', 'fleec', 'tne', 'ehh', 'wetzl', 'fa', 'championship', 'eeri', 'buster', 'nordi', 'rube', 'angebot', 'arrest', 'enviorn', 'ainda', 'inappropri', 'eeee', 'vac', 'scifi', 'geni', 'scandal', 'bee', 'monton', 'vener', 'acho', 'jeep', 'preteen', 'torrid', 'evermet', 'beachi', 'pedro', 'bloomingdal', 'werd', 'marco', 'pongan', 'wieder', 'climat', 'armenian', 'loa', 'limbo', 'litig', 'kamikaz', 'remold', 'despu', 'od', 'bothersum', 'underdevelop', 'tempo', 'index', 'pagoda', 'siendo', 'pardon', 'westfiel', 'contingencia', 'steampunk', 'sadden', 'bouji', 'regenc', 'yardhous', 'abierta', 'bcbg', 'jedenfal', 'aquarium', 'jcp', 'toman', 'weirdo', 'aparcar', 'hiw', 'andando', 'uma', 'besucht', 'perpetu', 'wannab', 'detroit', 'comic', 'definitley', 'stairway', 'ymmmmmm', 'dfr', 'peirc', 'gawk', 'harvard', 'navidad', 'visitamo', 'velour', 'reflexolog', 'wokcano', 'abat', 'estacionamento', 'megusta', 'endeth', 'iay', 'unsavori', 'luna', 'fewer', 'tonzqu', 'pave', 'fireston', 'reebok', 'lengthi', 'fand', 'lagoon', 'upkept', 'yardous', 'rodel', 'crate', 'mo', 'smear', 'pacifica', 'einkaufen', 'pretzl', 'lux', 'opportunit', 'xan', 'ich', 'salon', 'mismatch', 'discolor', 'wasteland', 'costruct', 'cubierto', 'ugliest', 'zombie', 'reno', 'ela', 'nuisanc', 'lure', 'waren', 'tipo', 'crian', 'stark', 'departamental', 'ficar', 'vario', 'undergo', 'cb', 'redecor', 'feito', 'eveybodi', 'munch', 'schlecht', 'icomida', 'beachwalk', 'cilment', 'colorido', 'panara', 'gooddo', 'abomin', 'campaign', 'shiek', 'chloth', 'ser', 'blood', 'facad', 'estupendo', 'loiter', 'variada', 'calsbad', 'payer', 'maravilloso', 'puro', 'infrastructur', 'eather', 'parker', 'decorar', 'knick', 'humili', 'demasiada', 'adentro', 'snackfood', 'yeh', 'peruvian', 'columbian', 'giftwrap', 'contratar', 'lexi', 'salvadoarian', 'deplet', 'earbud', 'fallbrook', 'stationari', 'yamero', 'ecuadorian', 'polo', 'peleaban', 'notodo', 'miser', 'snub', 'larga', 'coronaviru', 'junkfood', 'seqerian', 'trinket', 'dollartre', 'abia', 'hail', 'balloon', 'hotb', 'lalinia', 'breanna', 'standoffish', 'batato', 'denero', 'helium', 'mercanc', 'uncertain', 'knack', 'smirk', 'kimchi', 'contempl', 'kimche', 'flamebroil', 'charboil', 'keto', 'ribblet', 'broiler', 'broccoli', 'probiot', 'reasob', 'yamadaya', 'milki', 'proce', 'karat', 'oc', 'alo', 'mochi', 'stater', 'exuber', 'sweeter', 'taro', 'overseason', 'firnedli', 'macha', 'loooooveee', 'sweetea', 'lyche', 'kryptonit', 'westminst', 'android', 'tee', 'aww', 'tootea', 'fruitea', 'smidgen', 'storm', 'tastea', 'ecsteasi', 'bubba', 'platinum', 'omfg', 'matcha', 'runni', 'calabrian', 'buratta', 'shaker', 'weari', 'howdi', 'arugula', 'bitchi', 'ident', 'prosciutto', 'earthi', 'anchovi', 'unassign', 'hb', 'baller', 'aficionado', 'itun', 'pizooki', 'ricotta', 'loooovvv', 'geek', 'booster', 'ecstaci', 'softserv', 'vinegaret', 'disjoint', 'woodfir', 'apricot', 'ocspca', 'provolon', 'spike', 'flake', 'aroj', 'datenight', 'crouton', 'charcuteri', 'zoe', 'burrata', 'margherita', 'dickish', 'omin', 'cesar', 'snob', 'stroganoff', 'bolognes', 'roadtrip', 'shave', 'youngster', 'corkag', 'ipa', 'costa', 'pollen', 'pieolog', 'blaze', 'nutella', 'knot', 'sur', 'overbear', 'balsam', 'cauliflow', 'purrrfect', 'flatbread', 'silverwear', 'variabl', 'fundrais', 'waaaay', 'artisan', 'clay', 'speakeasi', 'gossip', 'anythimg', 'pitfir', 'vocalist', 'stripper', 'spreader', 'reprimand', 'scammi', 'songwrit', 'pilaf', 'partit', 'nespresso', 'mkt', 'duncan', 'hamilton', 'slider', 'berta', 'cevichi', 'kraft', 'smidg', 'martini', 'knoll', 'guitarist', 'sting', 'romant', 'blackout', 'laguna', 'chela', 'goddess', 'midler', 'classless', 'albertson', 'oeuvr', 'denier', 'umm', 'hastili', 'deafen', 'fitter', 'whilst', 'moscow', 'bett', 'mgmt', 'curtain', 'hickori', 'reek', 'plumber', 'mispercept', 'immediatli', 'sewer', 'envelop', 'endang', 'hor', 'compos', 'rebrand', 'niguel', 'maskless', 'martin', 'chkg', 'prude', 'composur', 'gilberto', 'alvarez', 'anneka', 'tpm', 'raul', 'michelin', 'nhan', 'savvi', 'domin', 'misguid', 'stica', 'warner', 'shaun', 'fixabl', 'leek', 'haircut', 'springdal', 'julian', 'huntington', 'jessi', 'punctur', 'elat', 'custmer', 'remount', 'rebal', 'volvo', 'jair', 'erin', 'personalizado', 'trunk', 'sidewal', 'idaho', 'freeee', 'damm', 'gabriel', 'bridgeston', 'odomet', 'aircheck', 'indiferencia', 'tmp', 'luego', 'yucca', 'bistec', 'marico', 'pablo', 'livelihood', 'choro', 'chorillana', 'edibl', 'platano', 'macho', 'talon', 'blunder', 'jugo', 'peru', 'simegusto', 'tigr', 'chaufa', 'defitn', 'puruvian', 'differn', 'souo', 'deliou', 'chupe', 'mistook', 'ach', 'sevich', 'maracuya', 'pobr', 'prcing', 'siomara', 'sorpresa', 'crystal', 'prepara', 'mejorar', 'totali', 'salrado', 'espectacular', 'amargo', 'malform', 'downey', 'mirada', 'stafg', 'dilut', 'plaintain', 'hhuummm', 'cardin', 'huancaina', 'harli', 'overal', 'picado', 'underpr', 'morada', 'incr', 'cola', 'usal', 'discust', 'plrntiful', 'esmero', 'sop', 'frito', 'tastier', 'calificaci', 'masomeno', 'siregresootravez', 'atmosph', 'peruana', 'rwcomiendo', 'finali', 'mario', 'ourfriend', 'riquisima', 'llama', 'chicharron', 'chicha', 'milder', 'avo', 'plato', 'flovor', 'whittier', 'sica', 'gind', 'ble', 'crumbl', 'accolad', 'thankful', 'overcom', 'siquiera', 'mollusk', 'valelapena', 'saltiado', 'butteri', 'bud', 'negra', 'pescado', 'cameron', 'alerg', 'zesti', 'pida', 'michelada', 'funi', 'peruano', 'ahora', 'unkempt', 'mmmm', 'shitti', 'delisiosa', 'basten', 'lompoc', 'salteado', 'jalea', 'recocido', 'incomplet', 'alana', 'insuper', 'paycheck', 'lemoni', 'lahuacaena', 'acid', 'deliciozo', 'salatado', 'parihuela', 'platino', 'anterior', 'inca', 'conoc', 'traer', 'mettl', 'camar', 'sima', 'botana', 'inka', 'dimens', 'jampack', 'abuela', 'rocoto', 'kernel', 'bado', 'dej', 'vivo', 'mixto', 'lwave', 'rokoto', 'craveabl', 'saz', 'llegan', 'ov', 'junto', 'razon', 'criolla', 'agaun', 'competencia', 'aji', 'eyleen', 'calamar', 'cumbria', 'tano', 'barrunto', 'saltado', 'chica', 'convencida', 'tallarin', 'clove', 'saute', 'squid', 'ambientaci', 'brasa', 'cocinado', 'revel', 'nee', 'cristal', 'octopu', 'modelo', 'acept', 'soooonn', 'retardo', 'me', 'speedili', 'inviron', 'rapid', 'unproport', 'crabcak', 'complementari', 'nite', 'mellissa', 'cita', 'janett', 'unimagin', 'biola', 'experinc', 'scampi', 'marcano', 'jazz', 'singer', 'ka', 'pegge', 'carol', 'unorigin', 'versac', 'milo', 'frutti', 'mastro', 'mahi', 'attenit', 'marsala', 'candid', 'classiest', 'malibu', 'sourdough', 'sinatra', 'aventador', 'greeter', 'sreve', 'wowser', 'kentucki', 'fresno', 'summari', 'derbi', 'fettuccini', 'enlarg', 'keg', 'eyebal', 'tovhav', 'fettuccin', 'sbar', 'jambalaya', 'cole', 'roscran', 'saxophon', 'suberb', 'brandi', 'jeannett', 'cotta', 'heather', 'serverd', 'pensient', 'prepackag', 'avarag', 'atenti', 'northwood', 'lamborghini', 'tiramisu', 'alfredo', 'slaw', 'marbliz', 'lt', 'evey', 'lamirada', 'blous', 'restsur', 'glendal', 'marr', 'dorm', 'perpar', 'panna', 'busser', 'matur', 'saxophonist', 'imposit', 'carpool', 'serivc', 'skewer', 'rehears', 'acommad', 'giftcard', 'curs', 'appit', 'eventhough', 'norwalk', 'musician', 'awfuli', 'stator', 'underseason', 'sefood', 'splendid', 'ramdom', 'burnett', 'swordfish', 'versatil', 'mister', 'sax', 'polar', 'peppercorn', 'candlelight', 'parmesan', 'multitud', 'acceseri', 'bong', 'hookah', 'backwoodz', 'blunt', 'wayyy', 'forbid', 'saterday', 'knuckl', 'tje', 'freshen', 'aint', 'dispos', 'selction', 'iwould', 'goldmin', 'amsterdam', 'smoker', 'tobbaco', 'hottest', 'uninvit', 'vapor', 'portia', 'avenu', 'tabaco', 'defent', 'beaker', 'hooka', 'disengag', 'samantha', 'whereee', 'omggggg', 'custim', 'vipe', 'christoph', 'dusappiint', 'szako', 'hubo', 'dijieron', 'suffic', 'dora', 'curtesi', 'socio', 'factli', 'personifi', 'warrenti', 'regres', 'honost', 'opera', 'causaba', 'sedan', 'diagnosi', 'pagu', 'benni', 'exolor', 'summeri', 'xterra', 'ignoramu', 'heartedli', 'hoist', 'thompson', 'summar', 'wranger', 'ningun', 'dolar', 'affrod', 'oxygen', 'tc', 'cierto', 'wrint', 'purrfect', 'cheroke', 'outland', 'reproduc', 'unflinchingli', 'thourogh', 'goleta', 'timexperiebce', 'proven', 'upstand', 'gracious', 'ventura', 'patriot', 'madison', 'comb', 'rochel', 'mater', 'succinctli', 'healthili', 'rembolso', 'cx', 'solucionaron', 'caleb', 'credibl', 'wrx', 'aproximadament', 'sirvio', 'vigil', 'depict', 'countless', 'contactless', 'jackson', 'machan', 'pulli', 'guru', 'loaner', 'condizioni', 'fanta', 'unappreci', 'ayudaron', 'lastnight', 'jumbo', 'gigovi', 'curli', 'vrri', 'trow', 'thoe', 'clotn', 'sobrino', 'jib', 'hasnt', 'preciso', 'att', 'encargadillo', 'corrrect', 'mngr', 'chese', 'speek', 'vara', 'mui', 'interno', 'jerk', 'ninut', 'rdene', 'hoy', 'caddi', 'nombr', 'hija', 'lovin', 'lonch', 'midday', 'burgar', 'amburguesa', 'unqualifi', 'rigjt', 'amburgesa', 'tenia', 'agarrar', 'bck', 'ingl', 'panino', 'tardo', 'aves', 'snabbmatskedja', 'miedo', 'gooood', 'falto', 'cae', 'hamburgu', 'until', 'tooken', 'taker', 'figer', 'recuerdo', 'popper', 'paciencia', 'underpaid', 'besonder', 'vato', 'tuvieron', 'tacos', 'sandwitch', 'hive', 'hungari', 'burgerladen', 'frog', 'jent', 'ber', 'consumir', 'lento', 'agarro', 'terryaki', 'hamburguesa', 'espa', 'desl', 'givm', 'conmigo', 'kgogi', 'schnellen', 'erano', 'aq', 'sculptur', 'guey', 'modrat', 'vergleichbar', 'jip', 'ein', 'accomid', 'mildew', 'overdon', 'otfi']\n"
     ]
    }
   ],
   "source": [
    "tokenizer = RegexpTokenizer(r\"[a-zA-Z]+\")\n",
    "# Iterate over all business reviews and perform tokenizati\n",
    "for business_id, reviews in Temp_review_dictionary.items():\n",
    "    tokenized_reviews = []  # To store tokenized reviews for each business\n",
    "    for review in reviews:\n",
    "        # Tokenize\n",
    "        tokens = tokenizer.tokenize(review)\n",
    "        tokenized_reviews.append(tokens)\n",
    "    \n",
    "    # Update the review_dictionary with tokenized reviews\n",
    "    Temp_review_dictionary[business_id] = tokenized_reviews\n",
    "review_dictionary = {}\n",
    "\n",
    "# Flatten the list of tokenized words for each business\n",
    "for review_id, word_list in Temp_review_dictionary.items():\n",
    "    flattened_list = list(chain.from_iterable(word_list))\n",
    "    review_dictionary[review_id] = flattened_list\n",
    "# review_dictionary\n",
    "\n",
    "# Load the context-independent stopwords from a file    \n",
    "with open('stopwords_en.txt', 'r') as f:\n",
    "    stopwords = set(f.read().splitlines())\n",
    "# Remove context-independent stopwords from the dictionary\n",
    "for id, flattened_tokens in review_dictionary.items():\n",
    "    filtered_tokens = []\n",
    "    for word in flattened_tokens:\n",
    "        if word not in stopwords:\n",
    "            filtered_tokens.append(word)# Remove context-independent stopwords from the dictionary\n",
    "    review_dictionary[id] = filtered_tokens\n",
    "\n",
    "# Calculate document frequency for each word\n",
    "doc_freq = FreqDist()\n",
    "for wordList in review_dictionary.values():\n",
    "    unique_words = set(wordList)\n",
    "    for word in unique_words:\n",
    "        doc_freq[word] += 1\n",
    "# Identify context-dependent stopwords that appear in more than 95% of the businesses\n",
    "threshold = 0.95 * len(review_dictionary)\n",
    "context_dependent_stopwords = [word for word, count in doc_freq.items() if count > threshold]\n",
    "print(context_dependent_stopwords)\n",
    "# Remove context-dependent stopwords from the dictionary\n",
    "for id, flattened_tokens in review_dictionary.items():\n",
    "    filtered_tokens = []\n",
    "    for word in flattened_tokens:\n",
    "        if word not in context_dependent_stopwords:\n",
    "            filtered_tokens.append(word)\n",
    "\n",
    "    review_dictionary[id] = filtered_tokens\n",
    "\n",
    "stemmer = PorterStemmer()\n",
    "# Stem each word in the dictionary\n",
    "for id, flattened_tokens in review_dictionary.items():\n",
    "    stemmed_tokens = []\n",
    "    for word in flattened_tokens:\n",
    "        stemmed_word = stemmer.stem(word)\n",
    "        stemmed_tokens.append(stemmed_word)\n",
    "    # Update the dictionary with stemmed tokens\n",
    "    review_dictionary[id] = stemmed_tokens\n",
    "# Recalculate document frequency after stemming\n",
    "doc_freq = FreqDist()\n",
    "for wordList in review_dictionary.values():\n",
    "    unique_words = set(wordList)\n",
    "    for word in unique_words:\n",
    "        doc_freq[word] += 1\n",
    "# Identify rare words that appear in less than 5% of the businesses\n",
    "threshold = 0.05 * len(review_dictionary)\n",
    "rare_words = [word for word, count in doc_freq.items() if count < threshold]\n",
    "print(rare_words)\n",
    "# Remove rare words from the dictionary\n",
    "for id, flattened_tokens in review_dictionary.items():\n",
    "    filtered_tokens = []\n",
    "    for word in flattened_tokens:\n",
    "        if word not in rare_words:\n",
    "            filtered_tokens.append(word)\n",
    "    review_dictionary[id] = filtered_tokens\n",
    "\n",
    "filtered_review_dictionary = {}\n",
    "# Remove tokens with a length of fewer than 3 characters\n",
    "for id, flattened_tokens in review_dictionary.items():\n",
    "    filtered_tokens = [word for word in flattened_tokens if len(word) >= 3]\n",
    "    filtered_review_dictionary[id] = filtered_tokens\n",
    "# Final processed dictionary\n",
    "review_dictionary = filtered_review_dictionary"
   ]
  },
  {
   "cell_type": "markdown",
   "metadata": {
    "id": "ZqZos1q6lDEf"
   },
   "source": [
    "The above operation results in a dictionary with PID representing keys and a single string for all reviews of the day concatenated to each other. ..."
   ]
  },
  {
   "cell_type": "code",
   "execution_count": 6,
   "metadata": {},
   "outputs": [],
   "source": [
    "concatenated_review_dictionary = {}\n",
    "for pid, tokens in review_dictionary.items():\n",
    "    concatenated_review_dictionary[pid] = ' '.join(tokens)"
   ]
  },
  {
   "cell_type": "markdown",
   "metadata": {
    "id": "mVqFfwwMlDEg"
   },
   "source": [
    "At this stage, all reviews for each PID are tokenized and are stored as a value in the new dictionary (separetely for each day).\n",
    "\n",
    "-------------------------------------"
   ]
  },
  {
   "cell_type": "markdown",
   "metadata": {
    "id": "XmaGJYIJlDEl"
   },
   "source": [
    "<div class=\"alert alert-block alert-success\">\n",
    "    \n",
    "## 5. Writing Output Files <a class=\"anchor\" name=\"write\"></a>"
   ]
  },
  {
   "cell_type": "markdown",
   "metadata": {
    "id": "wjMBqRetlDEl"
   },
   "source": [
    "files need to be generated:\n",
    "* Vocabulary list\n",
    "* Sparse matrix (count_vectors)\n",
    "This is performed in the following sections."
   ]
  },
  {
   "cell_type": "markdown",
   "metadata": {
    "id": "Fc6tQ4ljlDEm"
   },
   "source": [
    "<div class=\"alert alert-block alert-warning\">\n",
    "    \n",
    "### 5.1. Vocabulary List <a class=\"anchor\" name=\"write-vocab\"></a>"
   ]
  },
  {
   "cell_type": "markdown",
   "metadata": {
    "id": "SDlbpGYilDEm"
   },
   "source": [
    "List of vocabulary should also be written to a file, sorted alphabetically, with their reference codes in front of them. This file also refers to the sparse matrix in the next file. For this purpose, This code identifies the top 200 bigrams using Pointwise Mutual Information (PMI) and combines them with unigrams from the tokenized reviews to create a vocabulary. The vocabulary is then sorted alphabetically, each word is assigned an index, and the result is saved to 181_vocab.txt."
   ]
  },
  {
   "cell_type": "code",
   "execution_count": 7,
   "metadata": {
    "id": "Y6OUXHlxlDEm"
   },
   "outputs": [],
   "source": [
    "\n",
    "# Set up bigram measures and find top 200 bigrams using PMI\n",
    "bigram_measures = nltk.collocations.BigramAssocMeasures()\n",
    "# Convert the dictionary values (tokenized reviews) to a list for processing\n",
    "tokenized_reviews = list(review_dictionary.values())\n",
    "# Create a BigramCollocationFinder to find the most frequent bigrams in the tokenized reviews\n",
    "finder = BigramCollocationFinder.from_documents(tokenized_reviews)\n",
    "top_200_bigrams = finder.nbest(bigram_measures.pmi, 200)\n",
    "#reference from chatGPT\n",
    "collocated_bigrams = [' '.join(bigram) for bigram in top_200_bigrams]\n",
    "# Create vocabulary from unigrams and top bigrams, then save to a file\n",
    "unigrams = set(chain.from_iterable(review_dictionary.values()))\n",
    "# Combine unigrams and collocated bigrams, then sort them to create the final vocabulary list\n",
    "vocab = sorted(list(unigrams) + collocated_bigrams)\n",
    "with open(\"181_vocab.txt\", \"w\") as vocab_file:\n",
    "    for index, word in enumerate(vocab):\n",
    "        vocab_file.write(f\"{word}:{index}\\n\")"
   ]
  },
  {
   "cell_type": "markdown",
   "metadata": {
    "id": "YkGH81YFlDEn"
   },
   "source": [
    "<div class=\"alert alert-block alert-warning\">\n",
    "    \n",
    "### 5.2. Sparse Matrix <a class=\"anchor\" name=\"write-sparseMat\"></a>"
   ]
  },
  {
   "cell_type": "markdown",
   "metadata": {
    "id": "EtxqUAwmlDEn"
   },
   "source": [
    "For writing sparse matrix for a paper, we firstly calculate the frequency of words for that paper ...."
   ]
  },
  {
   "cell_type": "code",
   "execution_count": 8,
   "metadata": {
    "id": "__n1fdIqlDEn"
   },
   "outputs": [],
   "source": [
    "# Initialize a CountVectorizer using the previously created vocabulary\n",
    "vectorizer = CountVectorizer(vocabulary=vocab)\n",
    "# Combine tokens for each review into a single string to prepare for vectorization\n",
    "reviews_as_text = [' '.join(tokens) for tokens in review_dictionary.values()]\n",
    "X = vectorizer.transform(reviews_as_text)\n",
    "\n",
    "# 获取每个业务 ID 的顺序列表，以确保 ID 与评论文本一一对应\n",
    "business_ids = list(review_dictionary.keys())\n",
    "# Open a file to write the sparse matrix data\n",
    "with open(f\"181_countvec.txt\", \"w\") as countvec_file:\n",
    "    for i, business_id in enumerate(business_ids):\n",
    "        row = X[i].tocoo()  # Convert the sparse matrix row to COOrdinate format\n",
    "        # Create a list of token indices and their frequencies in the format \"index:frequency\"\n",
    "        tokens_freq = [f\"{col}:{val}\" for col, val in zip(row.col, row.data)]\n",
    "        # Create a line with the business ID followed by the token frequencies, separated by commas\n",
    "        line = f\"{business_id}, \" + \", \".join(tokens_freq) + \"\\n\"\n",
    "        countvec_file.write(line)"
   ]
  },
  {
   "cell_type": "markdown",
   "metadata": {
    "id": "mUFQU-QXlDEn"
   },
   "source": [
    "-------------------------------------"
   ]
  },
  {
   "cell_type": "markdown",
   "metadata": {
    "id": "AWjri6x_lDEn"
   },
   "source": [
    "<div class=\"alert alert-block alert-success\">\n",
    "    \n",
    "## 6. Summary <a class=\"anchor\" name=\"summary\"></a>"
   ]
  },
  {
   "cell_type": "markdown",
   "metadata": {
    "id": "RXAprlSblDEn"
   },
   "source": [
    "....."
   ]
  },
  {
   "cell_type": "markdown",
   "metadata": {},
   "source": [
    "This script processes business reviews by loading data from a JSON file, filtering reviews for businesses with at least 70 reviews, and performing text preprocessing steps such as tokenization, stopword removal, stemming, and filtering of rare and short words. It then identifies the top 200 bigrams using PMI, combines them with unigrams to create a vocabulary, and saves this vocabulary to a file. Finally, the script vectorizes the reviews using CountVectorizer and writes the sparse matrix representation of the review data, mapped to business IDs, to an output file."
   ]
  },
  {
   "cell_type": "markdown",
   "metadata": {
    "id": "HFXYKxO8lDEn"
   },
   "source": [
    "-------------------------------------"
   ]
  },
  {
   "cell_type": "markdown",
   "metadata": {
    "id": "HppxDtWNlDEn"
   },
   "source": [
    "<div class=\"alert alert-block alert-success\">\n",
    "    \n",
    "## 7. References <a class=\"anchor\" name=\"Ref\"></a>"
   ]
  },
  {
   "cell_type": "markdown",
   "metadata": {
    "id": "PCkWr-M1lDEo"
   },
   "source": [
    "[1] Pandas dataframe.drop_duplicates(), https://www.geeksforgeeks.org/python-pandas-dataframe-drop_duplicates/, Accessed 13/08/2022.\n",
    "We use ChatGPT to help us improve text expression, correct grammar, provide assignment step suggestions, offer code advice, debug code, and check and enhance regular expressions.https://chatgpt.com/\n",
    "\n"
   ]
  },
  {
   "cell_type": "markdown",
   "metadata": {
    "id": "mp9O-a1UlDEo"
   },
   "source": [
    "## --------------------------------------------------------------------------------------------------------------------------"
   ]
  }
 ],
 "metadata": {
  "colab": {
   "name": "task2_xxxxxxx.ipynb",
   "provenance": []
  },
  "kernelspec": {
   "display_name": "Python 3",
   "language": "python",
   "name": "python3"
  },
  "language_info": {
   "codemirror_mode": {
    "name": "ipython",
    "version": 3
   },
   "file_extension": ".py",
   "mimetype": "text/x-python",
   "name": "python",
   "nbconvert_exporter": "python",
   "pygments_lexer": "ipython3",
   "version": "3.10.9"
  },
  "toc": {
   "base_numbering": 1,
   "nav_menu": {},
   "number_sections": true,
   "sideBar": true,
   "skip_h1_title": false,
   "title_cell": "Table of Contents",
   "title_sidebar": "Contents",
   "toc_cell": false,
   "toc_position": {},
   "toc_section_display": true,
   "toc_window_display": true
  }
 },
 "nbformat": 4,
 "nbformat_minor": 1
}
