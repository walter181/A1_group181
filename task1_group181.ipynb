{
 "cells": [
  {
   "cell_type": "markdown",
   "metadata": {
    "id": "QCbAmQ47iqK4"
   },
   "source": [
    "<div class=\"alert alert-block alert-success\">\n",
    "    \n",
    "# FIT5196 Task 1 in Assessment 1\n",
    "#### Student Name: Deshui Yu\n",
    "#### Student ID: 34253599\n",
    "\n",
    "Date: 21/08/2024\n",
    "\n",
    "\n",
    "Environment: Python xxxx\n",
    "\n",
    "Libraries used:\n",
    "* re (for regular expression, installed and imported) \n",
    "* pandas (for data manipulation) \n",
    "    \n",
    "</div>"
   ]
  },
  {
   "cell_type": "markdown",
   "metadata": {
    "id": "IjBFqYK4iqK5"
   },
   "source": [
    "<div class=\"alert alert-block alert-danger\">\n",
    "    \n",
    "## Table of Contents\n",
    "\n",
    "</div>    \n",
    "\n",
    "[1. Introduction](#Intro) <br>\n",
    "[2. Importing Libraries](#libs) <br>\n",
    "[3. Examining Patent Files](#examine) <br>\n",
    "[4. Loading and Parsing Files](#load) <br>\n",
    "$\\;\\;\\;\\;$[4.1. Defining Regular Expressions](#Reg_Exp) <br>\n",
    "$\\;\\;\\;\\;$[4.2. Reading Files](#Read) <br>\n",
    "$\\;\\;\\;\\;$[4.3. Whatever else](#latin) <br>\n",
    "[5. Writing to CSV/JSON File](#write) <br>\n",
    "$\\;\\;\\;\\;$[5.1. Verification - using the sample files](#test_xml) <br>\n",
    "[6. Summary](#summary) <br>\n",
    "[7. References](#Ref) <br>"
   ]
  },
  {
   "cell_type": "markdown",
   "metadata": {
    "id": "AcbqK3KliqK6"
   },
   "source": [
    "-------------------------------------"
   ]
  },
  {
   "cell_type": "markdown",
   "metadata": {
    "id": "pEFdSCIUiqK6"
   },
   "source": [
    "<div class=\"alert alert-block alert-warning\">\n",
    "\n",
    "## 1.  Introduction  <a class=\"anchor\" name=\"Intro\"></a>\n",
    "    \n",
    "</div>"
   ]
  },
  {
   "cell_type": "markdown",
   "metadata": {
    "id": "cGg4-8VSiqK6"
   },
   "source": [
    "This assessment regards extracting data from semi-sctuctured text files. The dataset contained 500 `.txt` files which included various information about user reviews. In particular, ...."
   ]
  },
  {
   "cell_type": "markdown",
   "metadata": {
    "id": "p6Ql-W6BiqK7"
   },
   "source": [
    "-------------------------------------"
   ]
  },
  {
   "cell_type": "markdown",
   "metadata": {
    "id": "hnctlBF6iqK7"
   },
   "source": [
    "<div class=\"alert alert-block alert-warning\">\n",
    "    \n",
    "## 2.  Importing Libraries  <a class=\"anchor\" name=\"libs\"></a>\n",
    " </div>"
   ]
  },
  {
   "cell_type": "markdown",
   "metadata": {
    "id": "dQOLlwmAiqK7"
   },
   "source": [
    "The packages to be used in this assessment are imported in the following. They are used to fulfill the following tasks:\n",
    "\n",
    "* **re:** to define and use regular expressions\n",
    "* **pandas:** ...\n",
    "* ..."
   ]
  },
  {
   "cell_type": "code",
   "execution_count": 14,
   "metadata": {
    "id": "mKGO6FAXiqK7"
   },
   "outputs": [],
   "source": [
    "import re\n",
    "import pandas\n",
    "# My assignment is running locally, and I have already downloaded the data to my local system, so I don't need to link to Google Drive.\n",
    "# from google.colab import drive\n",
    "# drive.mount('/content/drive')"
   ]
  },
  {
   "cell_type": "markdown",
   "metadata": {
    "id": "3DEWD9qIiqK8"
   },
   "source": [
    "-------------------------------------"
   ]
  },
  {
   "cell_type": "markdown",
   "metadata": {
    "collapsed": true,
    "id": "Z814ttFYiqK8"
   },
   "source": [
    "<div class=\"alert alert-block alert-warning\">\n",
    "\n",
    "## 3.  Examining Raw Data <a class=\"anchor\" name=\"examine\"></a>\n",
    "\n",
    " </div>"
   ]
  },
  {
   "cell_type": "markdown",
   "metadata": {
    "id": "4YVIqb_miqK8"
   },
   "source": [
    "First of all, ...."
   ]
  },
  {
   "cell_type": "markdown",
   "metadata": {
    "id": "Gp3TG3fyiqK9"
   },
   "source": [
    "Having examined the file content, the following observations were made:\n",
    "\n"
   ]
  },
  {
   "cell_type": "markdown",
   "metadata": {
    "id": "fBEASWLfiqK-"
   },
   "source": [
    "-------------------------------------"
   ]
  },
  {
   "cell_type": "markdown",
   "metadata": {
    "collapsed": true,
    "id": "iDoVeDSHiqK-"
   },
   "source": [
    "<div class=\"alert alert-block alert-warning\"> \n",
    "\n",
    "## 4.  Loading and Parsing Files <a class=\"anchor\" name=\"load\"></a>\n",
    "\n",
    "</div>"
   ]
  },
  {
   "cell_type": "markdown",
   "metadata": {
    "id": "z24HaN8hiqK-"
   },
   "source": [
    "In this section, the files are parsed and processed. First of all, appropriate regular expressions are defined to extract desired information when reading the files. ...."
   ]
  },
  {
   "cell_type": "markdown",
   "metadata": {
    "id": "gQ0tuwvZiqK-"
   },
   "source": [
    "-------------------------------------"
   ]
  },
  {
   "cell_type": "markdown",
   "metadata": {
    "id": "rApp_Ic9iqK-"
   },
   "source": [
    "<div class=\"alert alert-block alert-info\">\n",
    "    \n",
    "### 4.1. Defining Regular Expressions <a class=\"anchor\" name=\"Reg_Exp\"></a>"
   ]
  },
  {
   "cell_type": "markdown",
   "metadata": {
    "id": "knauV0VViqK-"
   },
   "source": [
    "Defining correct regular expressions is crucial in extracting desired information from the text efficiently. ..."
   ]
  },
  {
   "cell_type": "code",
   "execution_count": 15,
   "metadata": {},
   "outputs": [],
   "source": [
    "import pandas as pd\n",
    "\n",
    "# the file path\n",
    "text_path = './student_group181'\n",
    "\n",
    "all_text_data = \"\"\n",
    "\n",
    "# 文件名列表\n",
    "file_names = [\n",
    "    'group181_0.txt', 'group181_1.txt', 'group181_2.txt', 'group181_3.txt', \n",
    "    'group181_4.txt', 'group181_5.txt', 'group181_6.txt', 'group181_7.txt', \n",
    "    'group181_8.txt', 'group181_9.txt', 'group181_10.txt', 'group181_11.txt',\n",
    "    'group181_12.txt', 'group181_13.txt', 'group181_14.txt'\n",
    "]\n",
    "\n",
    "# 逐个读取每个文件\n",
    "for file_name in file_names:\n",
    "    file_path = f\"{text_path}/{file_name}\"\n",
    "    with open(file_path, 'r', encoding='utf-8') as file:\n",
    "        content = file.read()\n",
    "        all_text_data += content  # 将内容拼接起来\n",
    "        \n",
    "split_txt = '?xml version=\"1.0\" encoding=\"UTF-8\"?>'\n",
    "final_split= '</dataset><record>|<dataset><record>'\n",
    "\n",
    "#通过split_txt，把内容切分成不同文件的部分\n",
    "folder_text = all_text_data.split(split_txt)\n",
    "# #删除第一个的空数值\n",
    "if folder_text[0] == \"\":\n",
    "    folder_text.pop(0)\n",
    "\n",
    "#建立一个list，使用for循环便利folder_text，按照每个用户进行分割储存\n",
    "final_split_text = []\n",
    "for text in folder_text:\n",
    "    slipted_info = re.split(final_split,text)\n",
    "    final_split_text.extend(slipted_info)\n",
    "    "
   ]
  },
  {
   "cell_type": "code",
   "execution_count": 16,
   "metadata": {},
   "outputs": [],
   "source": [
    "user_id_expression = r\"<[^>]*?ser[^>]*?>\\s*(\\d{21})\\s*<[^>]*?/[^>]*?ser[^>]*?>\"\n",
    "\n",
    "time_expression = r\"(?:<.{1,3}ime\\s*/?>\\s*|<.{0,2}[Dd]ate\\s*/?>\\s*)(\\d+)(?:\\s*<\\s*/\\s*.{1,3}ime\\s*/?>|<\\s*/\\s*.{0,2}[Dd]ate\\s*/?>)\"\n",
    "\n",
    "#这里我没有修改(就加入了一个大小写，需要再次修改)\n",
    "rate_expression = r\"(?:<.{0,2}[Rr]ate>\\s*)(\\d+)(?:<.{0,2}[Rr]ate>)\"\n",
    "rateing_expression = r\"(?:<.{0,2}[Rr]ating>\\s*)(\\d+)(?:<.{0,2}[Rr]ating>)\"\n",
    "\n",
    "text_expression = r\"(?:<.{0,3}[Tt]ext>\\s*)(.*?)(?:<.{0,3}[Tt]ext>)\"\n",
    "review_expression = r\"(?:<.{0,2}[Rr]eview>\\s*)(.*?)(?:<.{0,2}[Rr]eview>)\"\n",
    "name_expression = r\"(?:<.{0,7}[Nn]ame>\\s*)(.*?)(?:<.{0,7}[Nn]ame\\s*>)\"\n",
    "# #改了一些，可以在修改\n",
    "response_expression = r\"(?:<.{0,3}[Rr]esp.{0,4}>\\s*)(.*?)(?:<.{0,3}[Rr]esp.{0,4}>)\"\n",
    "picture_expression = r\"(?:<.{0,2}[Pp]ic.{1,5}>\\s*)(.*?)(?:<.{0,2}[Pp]ic.{1,5}>)\"\n",
    "\n",
    "gmap_id_expression=r\"(?:<.{0,2}[Gg]map.{1,3}>\\s*)(.*?)(?:<.{0,2}[Gg]map.{1,3}>)\""
   ]
  },
  {
   "cell_type": "code",
   "execution_count": 17,
   "metadata": {},
   "outputs": [
    {
     "data": {
      "text/plain": [
       "4716"
      ]
     },
     "execution_count": 17,
     "metadata": {},
     "output_type": "execute_result"
    }
   ],
   "source": [
    "# 测试0.txt数据\n",
    "try_date = folder_text[0]\n",
    "text_date = []\n",
    "test_user_id_pattern = re.compile(r\"<[^>]*?ser[^>]*?>\\s*(\\d{21})\\s*<[^>]*?/[^>]*?ser[^>]*?>\", re.DOTALL)\n",
    "test_user_id_matches = test_user_id_pattern.findall(try_date)\n",
    "text_date.extend(test_user_id_matches)\n",
    "len(text_date)\n"
   ]
  },
  {
   "cell_type": "code",
   "execution_count": 18,
   "metadata": {},
   "outputs": [
    {
     "name": "stdout",
     "output_type": "stream",
     "text": [
      "44697\n"
     ]
    }
   ],
   "source": [
    "rate_pattern = re.compile(rate_expression, re.DOTALL)\n",
    "rateing_pattern = re.compile(rateing_expression, re.DOTALL)\n",
    "rate_list = []\n",
    "for i in final_split_text:\n",
    "    time = rate_pattern.findall(i)\n",
    "    if not time:\n",
    "        time = rateing_pattern.findall(i)\n",
    "    \n",
    "    rate_list.extend(time)\n",
    "    \n",
    "print(len(rate_list))\n"
   ]
  },
  {
   "cell_type": "code",
   "execution_count": 72,
   "metadata": {},
   "outputs": [
    {
     "name": "stderr",
     "output_type": "stream",
     "text": [
      "C:\\Users\\51196\\AppData\\Local\\Temp\\ipykernel_32092\\3423422888.py:71: FutureWarning: The behavior of 'to_datetime' with 'unit' when parsing strings is deprecated. In a future version, strings will be parsed as datetime strings, matching the behavior without a 'unit'. To retain the old behavior, explicitly cast ints or floats to numeric type before calling to_datetime.\n",
      "  text_datafram['time'] = pd.to_datetime(text_datafram['time'], unit ='ms', utc = True)\n"
     ]
    },
    {
     "data": {
      "text/html": [
       "<div>\n",
       "<style scoped>\n",
       "    .dataframe tbody tr th:only-of-type {\n",
       "        vertical-align: middle;\n",
       "    }\n",
       "\n",
       "    .dataframe tbody tr th {\n",
       "        vertical-align: top;\n",
       "    }\n",
       "\n",
       "    .dataframe thead th {\n",
       "        text-align: right;\n",
       "    }\n",
       "</style>\n",
       "<table border=\"1\" class=\"dataframe\">\n",
       "  <thead>\n",
       "    <tr style=\"text-align: right;\">\n",
       "      <th></th>\n",
       "      <th>user_id</th>\n",
       "      <th>name</th>\n",
       "      <th>time</th>\n",
       "      <th>rating</th>\n",
       "      <th>text</th>\n",
       "      <th>pics</th>\n",
       "      <th>resp</th>\n",
       "      <th>gmap_id</th>\n",
       "      <th>if_pic</th>\n",
       "      <th>if_response</th>\n",
       "    </tr>\n",
       "  </thead>\n",
       "  <tbody>\n",
       "    <tr>\n",
       "      <th>0</th>\n",
       "      <td>103499789493991350231</td>\n",
       "      <td>Alyson Hoffman</td>\n",
       "      <td>2021-06-01 04:57:49</td>\n",
       "      <td>5.0</td>\n",
       "      <td>Booked last minute rentals here over Memorial ...</td>\n",
       "      <td>None</td>\n",
       "      <td>None</td>\n",
       "      <td>0x808e6a7f6b666d4f:0xfd9214abe1df3a4d</td>\n",
       "      <td>N</td>\n",
       "      <td>N</td>\n",
       "    </tr>\n",
       "    <tr>\n",
       "      <th>1</th>\n",
       "      <td>105404622065259965715</td>\n",
       "      <td>OnlyOneEarth</td>\n",
       "      <td>2021-03-21 07:59:56</td>\n",
       "      <td>5.0</td>\n",
       "      <td>When I went into Epicenter Cycling, I was look...</td>\n",
       "      <td>[{'url': ['https://lh5.googleusercontent.com/p...</td>\n",
       "      <td>{'time': 1616349255531, 'text': \"We're so happ...</td>\n",
       "      <td>0x808e6a7f6b666d4f:0xfd9214abe1df3a4d</td>\n",
       "      <td>Y</td>\n",
       "      <td>Y</td>\n",
       "    </tr>\n",
       "    <tr>\n",
       "      <th>2</th>\n",
       "      <td>118347770680889723845</td>\n",
       "      <td>matthew thomson</td>\n",
       "      <td>2021-04-11 15:44:41</td>\n",
       "      <td>5.0</td>\n",
       "      <td>Amazing selection of Trek bikes! We were told ...</td>\n",
       "      <td>None</td>\n",
       "      <td>{'time': 1622404153725, 'text': \"Thanks for ta...</td>\n",
       "      <td>0x808e6a7f6b666d4f:0xfd9214abe1df3a4d</td>\n",
       "      <td>N</td>\n",
       "      <td>Y</td>\n",
       "    </tr>\n",
       "    <tr>\n",
       "      <th>3</th>\n",
       "      <td>109541606733835908756</td>\n",
       "      <td>Becky B</td>\n",
       "      <td>2021-03-15 15:42:06</td>\n",
       "      <td>5.0</td>\n",
       "      <td>Absolutely flawless experience ordering, sizin...</td>\n",
       "      <td>[{'url': ['https://lh5.googleusercontent.com/p...</td>\n",
       "      <td>{'time': 1616264680468, 'text': 'Thank you so ...</td>\n",
       "      <td>0x808e6a7f6b666d4f:0xfd9214abe1df3a4d</td>\n",
       "      <td>Y</td>\n",
       "      <td>Y</td>\n",
       "    </tr>\n",
       "    <tr>\n",
       "      <th>4</th>\n",
       "      <td>108792737827746934756</td>\n",
       "      <td>Tiffany Klitzke</td>\n",
       "      <td>2021-02-02 18:00:03</td>\n",
       "      <td>5.0</td>\n",
       "      <td>All of the employees were so friendly and help...</td>\n",
       "      <td>None</td>\n",
       "      <td>{'time': 1614824613439, 'text': \"Thank you so ...</td>\n",
       "      <td>0x808e6a7f6b666d4f:0xfd9214abe1df3a4d</td>\n",
       "      <td>N</td>\n",
       "      <td>Y</td>\n",
       "    </tr>\n",
       "    <tr>\n",
       "      <th>...</th>\n",
       "      <td>...</td>\n",
       "      <td>...</td>\n",
       "      <td>...</td>\n",
       "      <td>...</td>\n",
       "      <td>...</td>\n",
       "      <td>...</td>\n",
       "      <td>...</td>\n",
       "      <td>...</td>\n",
       "      <td>...</td>\n",
       "      <td>...</td>\n",
       "    </tr>\n",
       "    <tr>\n",
       "      <th>44692</th>\n",
       "      <td>112497754617102655494</td>\n",
       "      <td>Bernard Janov</td>\n",
       "      <td>2020-05-21 18:56:48</td>\n",
       "      <td>5.0</td>\n",
       "      <td>None</td>\n",
       "      <td>None</td>\n",
       "      <td>None</td>\n",
       "      <td>0x80dbfe36c3b7a2c7:0x8e10768a0238d2b9</td>\n",
       "      <td>N</td>\n",
       "      <td>N</td>\n",
       "    </tr>\n",
       "    <tr>\n",
       "      <th>44693</th>\n",
       "      <td>112173222860157032040</td>\n",
       "      <td>Ernest Ikei</td>\n",
       "      <td>2019-06-07 00:44:22</td>\n",
       "      <td>5.0</td>\n",
       "      <td>None</td>\n",
       "      <td>None</td>\n",
       "      <td>None</td>\n",
       "      <td>0x80dbfe36c3b7a2c7:0x8e10768a0238d2b9</td>\n",
       "      <td>N</td>\n",
       "      <td>N</td>\n",
       "    </tr>\n",
       "    <tr>\n",
       "      <th>44694</th>\n",
       "      <td>105511521957721541111</td>\n",
       "      <td>Randall Rolfe</td>\n",
       "      <td>2020-09-01 23:44:36</td>\n",
       "      <td>5.0</td>\n",
       "      <td>None</td>\n",
       "      <td>None</td>\n",
       "      <td>{'time': 1613606949222, 'text': 'Thank you, Ra...</td>\n",
       "      <td>0x80dbfe36c3b7a2c7:0x8e10768a0238d2b9</td>\n",
       "      <td>N</td>\n",
       "      <td>Y</td>\n",
       "    </tr>\n",
       "    <tr>\n",
       "      <th>44695</th>\n",
       "      <td>104981526115446298575</td>\n",
       "      <td>Donna Nagel</td>\n",
       "      <td>2020-10-15 19:59:21</td>\n",
       "      <td>5.0</td>\n",
       "      <td>None</td>\n",
       "      <td>None</td>\n",
       "      <td>{'time': 1613605845348, 'text': 'Thank you for...</td>\n",
       "      <td>0x80dbfe36c3b7a2c7:0x8e10768a0238d2b9</td>\n",
       "      <td>N</td>\n",
       "      <td>Y</td>\n",
       "    </tr>\n",
       "    <tr>\n",
       "      <th>44696</th>\n",
       "      <td>113663712050490880120</td>\n",
       "      <td>Irenio Macagba</td>\n",
       "      <td>2020-09-26 16:02:32</td>\n",
       "      <td>5.0</td>\n",
       "      <td>None</td>\n",
       "      <td>None</td>\n",
       "      <td>{'time': 1615227790162, 'text': 'Thank you, Ir...</td>\n",
       "      <td>0x80dbfe36c3b7a2c7:0x8e10768a0238d2b9</td>\n",
       "      <td>N</td>\n",
       "      <td>Y</td>\n",
       "    </tr>\n",
       "  </tbody>\n",
       "</table>\n",
       "<p>44697 rows × 10 columns</p>\n",
       "</div>"
      ],
      "text/plain": [
       "                     user_id             name                 time  rating  \\\n",
       "0      103499789493991350231   Alyson Hoffman  2021-06-01 04:57:49     5.0   \n",
       "1      105404622065259965715     OnlyOneEarth  2021-03-21 07:59:56     5.0   \n",
       "2      118347770680889723845  matthew thomson  2021-04-11 15:44:41     5.0   \n",
       "3      109541606733835908756          Becky B  2021-03-15 15:42:06     5.0   \n",
       "4      108792737827746934756  Tiffany Klitzke  2021-02-02 18:00:03     5.0   \n",
       "...                      ...              ...                  ...     ...   \n",
       "44692  112497754617102655494    Bernard Janov  2020-05-21 18:56:48     5.0   \n",
       "44693  112173222860157032040      Ernest Ikei  2019-06-07 00:44:22     5.0   \n",
       "44694  105511521957721541111    Randall Rolfe  2020-09-01 23:44:36     5.0   \n",
       "44695  104981526115446298575      Donna Nagel  2020-10-15 19:59:21     5.0   \n",
       "44696  113663712050490880120   Irenio Macagba  2020-09-26 16:02:32     5.0   \n",
       "\n",
       "                                                    text  \\\n",
       "0      Booked last minute rentals here over Memorial ...   \n",
       "1      When I went into Epicenter Cycling, I was look...   \n",
       "2      Amazing selection of Trek bikes! We were told ...   \n",
       "3      Absolutely flawless experience ordering, sizin...   \n",
       "4      All of the employees were so friendly and help...   \n",
       "...                                                  ...   \n",
       "44692                                               None   \n",
       "44693                                               None   \n",
       "44694                                               None   \n",
       "44695                                               None   \n",
       "44696                                               None   \n",
       "\n",
       "                                                    pics  \\\n",
       "0                                                   None   \n",
       "1      [{'url': ['https://lh5.googleusercontent.com/p...   \n",
       "2                                                   None   \n",
       "3      [{'url': ['https://lh5.googleusercontent.com/p...   \n",
       "4                                                   None   \n",
       "...                                                  ...   \n",
       "44692                                               None   \n",
       "44693                                               None   \n",
       "44694                                               None   \n",
       "44695                                               None   \n",
       "44696                                               None   \n",
       "\n",
       "                                                    resp  \\\n",
       "0                                                   None   \n",
       "1      {'time': 1616349255531, 'text': \"We're so happ...   \n",
       "2      {'time': 1622404153725, 'text': \"Thanks for ta...   \n",
       "3      {'time': 1616264680468, 'text': 'Thank you so ...   \n",
       "4      {'time': 1614824613439, 'text': \"Thank you so ...   \n",
       "...                                                  ...   \n",
       "44692                                               None   \n",
       "44693                                               None   \n",
       "44694  {'time': 1613606949222, 'text': 'Thank you, Ra...   \n",
       "44695  {'time': 1613605845348, 'text': 'Thank you for...   \n",
       "44696  {'time': 1615227790162, 'text': 'Thank you, Ir...   \n",
       "\n",
       "                                     gmap_id if_pic if_response  \n",
       "0      0x808e6a7f6b666d4f:0xfd9214abe1df3a4d      N           N  \n",
       "1      0x808e6a7f6b666d4f:0xfd9214abe1df3a4d      Y           Y  \n",
       "2      0x808e6a7f6b666d4f:0xfd9214abe1df3a4d      N           Y  \n",
       "3      0x808e6a7f6b666d4f:0xfd9214abe1df3a4d      Y           Y  \n",
       "4      0x808e6a7f6b666d4f:0xfd9214abe1df3a4d      N           Y  \n",
       "...                                      ...    ...         ...  \n",
       "44692  0x80dbfe36c3b7a2c7:0x8e10768a0238d2b9      N           N  \n",
       "44693  0x80dbfe36c3b7a2c7:0x8e10768a0238d2b9      N           N  \n",
       "44694  0x80dbfe36c3b7a2c7:0x8e10768a0238d2b9      N           Y  \n",
       "44695  0x80dbfe36c3b7a2c7:0x8e10768a0238d2b9      N           Y  \n",
       "44696  0x80dbfe36c3b7a2c7:0x8e10768a0238d2b9      N           Y  \n",
       "\n",
       "[44697 rows x 10 columns]"
      ]
     },
     "execution_count": 72,
     "metadata": {},
     "output_type": "execute_result"
    }
   ],
   "source": [
    "user_id_list = []\n",
    "gmap_id_list = []\n",
    "time_list = []\n",
    "date_list = []\n",
    "rate_list = []\n",
    "review_list = []\n",
    "response_list = []\n",
    "picture_list = []\n",
    "name_list = []\n",
    "\n",
    "user_id_pattern = re.compile(user_id_expression, re.DOTALL)\n",
    "gmap_id_pattern = re.compile(gmap_id_expression, re.DOTALL)\n",
    "time_pattern = re.compile(time_expression, re.DOTALL)\n",
    "\n",
    "rate_pattern = re.compile(rate_expression, re.DOTALL)\n",
    "rateing_pattern = re.compile(rateing_expression, re.DOTALL)\n",
    "\n",
    "text_pattern = re.compile(text_expression, re.DOTALL)\n",
    "review_pattern = re.compile(review_expression, re.DOTALL)\n",
    "\n",
    "response_pattern = re.compile(response_expression, re.DOTALL)\n",
    "picture_pattern = re.compile(picture_expression, re.DOTALL)\n",
    "name_pattern = re.compile(name_expression,re.DOTALL)\n",
    "\n",
    "\n",
    "#处理现在总的list数据，通过正则表达式提取需要的数据\n",
    "for text in final_split_text:\n",
    "     \n",
    "     user_id_matches = user_id_pattern.findall(text)\n",
    "     user_id_list.extend(user_id_matches)\n",
    "     \n",
    "     gmap_id_matches = gmap_id_pattern.findall(text)\n",
    "     gmap_id_list.extend(gmap_id_matches)\n",
    "     \n",
    "     time_matches = time_pattern.findall(text)\n",
    "     time_list.extend(time_matches)\n",
    "     \n",
    "     rate_matches = rate_pattern.findall(text)\n",
    "     if not rate_matches:\n",
    "        rate_matches = rateing_pattern.findall(text)\n",
    "     rate_list.extend(rate_matches)\n",
    "     \n",
    "     review_matches = review_pattern.findall(text)\n",
    "     if not review_matches:\n",
    "        review_matches = text_pattern.findall(text)\n",
    "     review_list.extend(review_matches)\n",
    "     \n",
    "     response_matches = response_pattern.findall(text)\n",
    "     response_list.extend(response_matches)\n",
    "     \n",
    "     picture_matches = picture_pattern.findall(text)\n",
    "     picture_list.extend(picture_matches)\n",
    "     \n",
    "     \n",
    "     name_matches = name_pattern.findall(text)\n",
    "     name_list.extend(name_matches)\n",
    "\n",
    "text_datafram = pd.DataFrame({\n",
    "    'user_id': user_id_list,\n",
    "    'name':name_list,\n",
    "    'time': time_list,\n",
    "    'rating': rate_list,\n",
    "    'text': review_list,\n",
    "    'pics': picture_list,\n",
    "    'resp': response_list,\n",
    "    'gmap_id': gmap_id_list\n",
    "})\n",
    "\n",
    "text_datafram = text_datafram[['user_id', 'name', 'time', 'rating', 'text', 'pics', 'resp','gmap_id']]\n",
    "\n",
    "text_datafram['time'] = pd.to_datetime(text_datafram['time'], unit ='ms', utc = True)\n",
    "text_datafram['time'] = text_datafram['time'].dt.strftime(\"%Y-%m-%d %H:%M:%S\")\n",
    "\n",
    "text_datafram = text_datafram.replace('None', None)\n",
    "if_pic = []\n",
    "if_response = []\n",
    "for index, row in text_datafram.iterrows():\n",
    "    # 如果 'pics' 列为 None，添加 'N'，否则添加 'Y'\n",
    "    if row['pics'] is None:\n",
    "        if_pic.append('N')\n",
    "    else:\n",
    "        if_pic.append('Y')\n",
    "    \n",
    "    # 如果 'resp' 列为 None，添加 'N'，否则添加 'Y'\n",
    "    if row['resp'] is None:\n",
    "        if_response.append('N')\n",
    "    else:\n",
    "        if_response.append('Y')\n",
    "text_datafram['if_pic'] = if_pic\n",
    "text_datafram['if_response'] = if_response\n",
    "\n",
    "text_datafram['rating'] = text_datafram['rating'].astype(float)\n",
    "text_datafram"
   ]
  },
  {
   "cell_type": "code",
   "execution_count": 73,
   "metadata": {},
   "outputs": [
    {
     "name": "stdout",
     "output_type": "stream",
     "text": [
      "<class 'pandas.core.frame.DataFrame'>\n",
      "Index: 46479 entries, 0 to 44696\n",
      "Data columns (total 10 columns):\n",
      " #   Column       Non-Null Count  Dtype  \n",
      "---  ------       --------------  -----  \n",
      " 0   user_id      46479 non-null  object \n",
      " 1   name         46479 non-null  object \n",
      " 2   time         46479 non-null  object \n",
      " 3   rating       46479 non-null  float64\n",
      " 4   text         24738 non-null  object \n",
      " 5   pics         896 non-null    object \n",
      " 6   resp         4788 non-null   object \n",
      " 7   gmap_id      46479 non-null  object \n",
      " 8   if_pic       46479 non-null  object \n",
      " 9   if_response  46479 non-null  object \n",
      "dtypes: float64(1), object(9)\n",
      "memory usage: 3.9+ MB\n",
      "None\n"
     ]
    },
    {
     "data": {
      "text/html": [
       "<div>\n",
       "<style scoped>\n",
       "    .dataframe tbody tr th:only-of-type {\n",
       "        vertical-align: middle;\n",
       "    }\n",
       "\n",
       "    .dataframe tbody tr th {\n",
       "        vertical-align: top;\n",
       "    }\n",
       "\n",
       "    .dataframe thead th {\n",
       "        text-align: right;\n",
       "    }\n",
       "</style>\n",
       "<table border=\"1\" class=\"dataframe\">\n",
       "  <thead>\n",
       "    <tr style=\"text-align: right;\">\n",
       "      <th></th>\n",
       "      <th>user_id</th>\n",
       "      <th>name</th>\n",
       "      <th>time</th>\n",
       "      <th>rating</th>\n",
       "      <th>text</th>\n",
       "      <th>pics</th>\n",
       "      <th>resp</th>\n",
       "      <th>gmap_id</th>\n",
       "      <th>if_pic</th>\n",
       "      <th>if_response</th>\n",
       "    </tr>\n",
       "  </thead>\n",
       "  <tbody>\n",
       "    <tr>\n",
       "      <th>0</th>\n",
       "      <td>117547450879418399308</td>\n",
       "      <td>Elizabeth Santiago</td>\n",
       "      <td>2021-01-27 14:22:58</td>\n",
       "      <td>2.0</td>\n",
       "      <td>Extremely inhumane...that's how these people m...</td>\n",
       "      <td>None</td>\n",
       "      <td>None</td>\n",
       "      <td>0x80ea6992ca7cd91f:0xb0a098c869f2e8eb</td>\n",
       "      <td>N</td>\n",
       "      <td>N</td>\n",
       "    </tr>\n",
       "    <tr>\n",
       "      <th>1</th>\n",
       "      <td>105343328635393398077</td>\n",
       "      <td>michael britt</td>\n",
       "      <td>2021-02-12 19:17:37</td>\n",
       "      <td>1.0</td>\n",
       "      <td>This guy with tattos on both arms was extremel...</td>\n",
       "      <td>None</td>\n",
       "      <td>None</td>\n",
       "      <td>0x80ea6992ca7cd91f:0xb0a098c869f2e8eb</td>\n",
       "      <td>N</td>\n",
       "      <td>N</td>\n",
       "    </tr>\n",
       "    <tr>\n",
       "      <th>2</th>\n",
       "      <td>110224938425929427087</td>\n",
       "      <td>Jerome “Ray Cyrus” Vonloodwig</td>\n",
       "      <td>2021-01-14 19:56:47</td>\n",
       "      <td>1.0</td>\n",
       "      <td>If you are forced to come here for worksman co...</td>\n",
       "      <td>None</td>\n",
       "      <td>None</td>\n",
       "      <td>0x80ea6992ca7cd91f:0xb0a098c869f2e8eb</td>\n",
       "      <td>N</td>\n",
       "      <td>N</td>\n",
       "    </tr>\n",
       "    <tr>\n",
       "      <th>3</th>\n",
       "      <td>111601567646818950873</td>\n",
       "      <td>Karla Huling</td>\n",
       "      <td>2020-10-07 17:20:37</td>\n",
       "      <td>1.0</td>\n",
       "      <td>HORRIBLE CLINIC. DO NOOOT GO HERE! I REPEAT DO...</td>\n",
       "      <td>None</td>\n",
       "      <td>None</td>\n",
       "      <td>0x80ea6992ca7cd91f:0xb0a098c869f2e8eb</td>\n",
       "      <td>N</td>\n",
       "      <td>N</td>\n",
       "    </tr>\n",
       "    <tr>\n",
       "      <th>4</th>\n",
       "      <td>100829865257284707673</td>\n",
       "      <td>Moore Family</td>\n",
       "      <td>2021-02-26 21:10:26</td>\n",
       "      <td>1.0</td>\n",
       "      <td>If i could leave a 0 stars for this place I wo...</td>\n",
       "      <td>None</td>\n",
       "      <td>None</td>\n",
       "      <td>0x80ea6992ca7cd91f:0xb0a098c869f2e8eb</td>\n",
       "      <td>N</td>\n",
       "      <td>N</td>\n",
       "    </tr>\n",
       "    <tr>\n",
       "      <th>...</th>\n",
       "      <td>...</td>\n",
       "      <td>...</td>\n",
       "      <td>...</td>\n",
       "      <td>...</td>\n",
       "      <td>...</td>\n",
       "      <td>...</td>\n",
       "      <td>...</td>\n",
       "      <td>...</td>\n",
       "      <td>...</td>\n",
       "      <td>...</td>\n",
       "    </tr>\n",
       "    <tr>\n",
       "      <th>44692</th>\n",
       "      <td>112497754617102655494</td>\n",
       "      <td>Bernard Janov</td>\n",
       "      <td>2020-05-21 18:56:48</td>\n",
       "      <td>5.0</td>\n",
       "      <td>None</td>\n",
       "      <td>None</td>\n",
       "      <td>None</td>\n",
       "      <td>0x80dbfe36c3b7a2c7:0x8e10768a0238d2b9</td>\n",
       "      <td>N</td>\n",
       "      <td>N</td>\n",
       "    </tr>\n",
       "    <tr>\n",
       "      <th>44693</th>\n",
       "      <td>112173222860157032040</td>\n",
       "      <td>Ernest Ikei</td>\n",
       "      <td>2019-06-07 00:44:22</td>\n",
       "      <td>5.0</td>\n",
       "      <td>None</td>\n",
       "      <td>None</td>\n",
       "      <td>None</td>\n",
       "      <td>0x80dbfe36c3b7a2c7:0x8e10768a0238d2b9</td>\n",
       "      <td>N</td>\n",
       "      <td>N</td>\n",
       "    </tr>\n",
       "    <tr>\n",
       "      <th>44694</th>\n",
       "      <td>105511521957721541111</td>\n",
       "      <td>Randall Rolfe</td>\n",
       "      <td>2020-09-01 23:44:36</td>\n",
       "      <td>5.0</td>\n",
       "      <td>None</td>\n",
       "      <td>None</td>\n",
       "      <td>{'time': 1613606949222, 'text': 'Thank you, Ra...</td>\n",
       "      <td>0x80dbfe36c3b7a2c7:0x8e10768a0238d2b9</td>\n",
       "      <td>N</td>\n",
       "      <td>Y</td>\n",
       "    </tr>\n",
       "    <tr>\n",
       "      <th>44695</th>\n",
       "      <td>104981526115446298575</td>\n",
       "      <td>Donna Nagel</td>\n",
       "      <td>2020-10-15 19:59:21</td>\n",
       "      <td>5.0</td>\n",
       "      <td>None</td>\n",
       "      <td>None</td>\n",
       "      <td>{'time': 1613605845348, 'text': 'Thank you for...</td>\n",
       "      <td>0x80dbfe36c3b7a2c7:0x8e10768a0238d2b9</td>\n",
       "      <td>N</td>\n",
       "      <td>Y</td>\n",
       "    </tr>\n",
       "    <tr>\n",
       "      <th>44696</th>\n",
       "      <td>113663712050490880120</td>\n",
       "      <td>Irenio Macagba</td>\n",
       "      <td>2020-09-26 16:02:32</td>\n",
       "      <td>5.0</td>\n",
       "      <td>None</td>\n",
       "      <td>None</td>\n",
       "      <td>{'time': 1615227790162, 'text': 'Thank you, Ir...</td>\n",
       "      <td>0x80dbfe36c3b7a2c7:0x8e10768a0238d2b9</td>\n",
       "      <td>N</td>\n",
       "      <td>Y</td>\n",
       "    </tr>\n",
       "  </tbody>\n",
       "</table>\n",
       "<p>46479 rows × 10 columns</p>\n",
       "</div>"
      ],
      "text/plain": [
       "                     user_id                           name  \\\n",
       "0      117547450879418399308             Elizabeth Santiago   \n",
       "1      105343328635393398077                  michael britt   \n",
       "2      110224938425929427087  Jerome “Ray Cyrus” Vonloodwig   \n",
       "3      111601567646818950873                   Karla Huling   \n",
       "4      100829865257284707673                   Moore Family   \n",
       "...                      ...                            ...   \n",
       "44692  112497754617102655494                  Bernard Janov   \n",
       "44693  112173222860157032040                    Ernest Ikei   \n",
       "44694  105511521957721541111                  Randall Rolfe   \n",
       "44695  104981526115446298575                    Donna Nagel   \n",
       "44696  113663712050490880120                 Irenio Macagba   \n",
       "\n",
       "                      time  rating  \\\n",
       "0      2021-01-27 14:22:58     2.0   \n",
       "1      2021-02-12 19:17:37     1.0   \n",
       "2      2021-01-14 19:56:47     1.0   \n",
       "3      2020-10-07 17:20:37     1.0   \n",
       "4      2021-02-26 21:10:26     1.0   \n",
       "...                    ...     ...   \n",
       "44692  2020-05-21 18:56:48     5.0   \n",
       "44693  2019-06-07 00:44:22     5.0   \n",
       "44694  2020-09-01 23:44:36     5.0   \n",
       "44695  2020-10-15 19:59:21     5.0   \n",
       "44696  2020-09-26 16:02:32     5.0   \n",
       "\n",
       "                                                    text  pics  \\\n",
       "0      Extremely inhumane...that's how these people m...  None   \n",
       "1      This guy with tattos on both arms was extremel...  None   \n",
       "2      If you are forced to come here for worksman co...  None   \n",
       "3      HORRIBLE CLINIC. DO NOOOT GO HERE! I REPEAT DO...  None   \n",
       "4      If i could leave a 0 stars for this place I wo...  None   \n",
       "...                                                  ...   ...   \n",
       "44692                                               None  None   \n",
       "44693                                               None  None   \n",
       "44694                                               None  None   \n",
       "44695                                               None  None   \n",
       "44696                                               None  None   \n",
       "\n",
       "                                                    resp  \\\n",
       "0                                                   None   \n",
       "1                                                   None   \n",
       "2                                                   None   \n",
       "3                                                   None   \n",
       "4                                                   None   \n",
       "...                                                  ...   \n",
       "44692                                               None   \n",
       "44693                                               None   \n",
       "44694  {'time': 1613606949222, 'text': 'Thank you, Ra...   \n",
       "44695  {'time': 1613605845348, 'text': 'Thank you for...   \n",
       "44696  {'time': 1615227790162, 'text': 'Thank you, Ir...   \n",
       "\n",
       "                                     gmap_id if_pic if_response  \n",
       "0      0x80ea6992ca7cd91f:0xb0a098c869f2e8eb      N           N  \n",
       "1      0x80ea6992ca7cd91f:0xb0a098c869f2e8eb      N           N  \n",
       "2      0x80ea6992ca7cd91f:0xb0a098c869f2e8eb      N           N  \n",
       "3      0x80ea6992ca7cd91f:0xb0a098c869f2e8eb      N           N  \n",
       "4      0x80ea6992ca7cd91f:0xb0a098c869f2e8eb      N           N  \n",
       "...                                      ...    ...         ...  \n",
       "44692  0x80dbfe36c3b7a2c7:0x8e10768a0238d2b9      N           N  \n",
       "44693  0x80dbfe36c3b7a2c7:0x8e10768a0238d2b9      N           N  \n",
       "44694  0x80dbfe36c3b7a2c7:0x8e10768a0238d2b9      N           Y  \n",
       "44695  0x80dbfe36c3b7a2c7:0x8e10768a0238d2b9      N           Y  \n",
       "44696  0x80dbfe36c3b7a2c7:0x8e10768a0238d2b9      N           Y  \n",
       "\n",
       "[46479 rows x 10 columns]"
      ]
     },
     "execution_count": 73,
     "metadata": {},
     "output_type": "execute_result"
    }
   ],
   "source": [
    "from datetime import datetime\n",
    "\n",
    "xls_path = \"./student_group181/group181.xlsx\"\n",
    "\n",
    "xls = pd.ExcelFile(xls_path)\n",
    "all_sheets = pd.read_excel(xls_path, sheet_name=None)\n",
    "cleaned_sheets = []\n",
    "for sheet_name, df in all_sheets.items():\n",
    "    # 去除空的行\n",
    "    df = df.dropna(how='all')\n",
    "    # 去除空的列\n",
    "    df = df.dropna(axis=1, how='all')\n",
    "    # 仅在DataFrame有数据时，添加到清理后的列表中\n",
    "    if not df.empty:\n",
    "        cleaned_sheets.append(df)\n",
    "\n",
    "# 将所有清理后的DataFrame合并为一个\n",
    "xls_data = pd.concat(cleaned_sheets, ignore_index=True)\n",
    "xls_data = xls_data[['user_id', 'name', 'time', 'rating', 'text', 'pics', 'resp','gmap_id']]\n",
    "#转化时间格式\n",
    "xls_data['time'] = pd.to_datetime(xls_data['time'], unit ='ms', utc = True)\n",
    "#将time列格式化为字符串格式\n",
    "xls_data['time'] = xls_data['time'].dt.strftime(\"%Y-%m-%d %H:%M:%S\")\n",
    "\n",
    "xls_data['pics'] = xls_data['pics'].where(pd.notna(xls_data['pics']), None)\n",
    "xls_data['resp'] = xls_data['resp'].where(pd.notna(xls_data['resp']), None)\n",
    "\n",
    "if_pic_xls = []\n",
    "if_response_xls = []\n",
    "for index, row in xls_data.iterrows():\n",
    "    # 如果 'pics' 列为 None，添加 'N'，否则添加 'Y'\n",
    "    if row['pics'] is None:\n",
    "        if_pic_xls.append('N')\n",
    "    else:\n",
    "        if_pic_xls.append('Y')\n",
    "    \n",
    "    # 如果 'resp' 列为 None，添加 'N'，否则添加 'Y'\n",
    "    if row['resp'] is None:\n",
    "        if_response_xls.append('N')\n",
    "    else:\n",
    "        if_response_xls.append('Y')\n",
    "\n",
    "xls_data['if_pic'] = if_pic_xls\n",
    "xls_data['if_response'] = if_response_xls\n",
    "\n",
    "xls_data\n",
    "\n",
    "combined_data = pd.concat([xls_data, text_datafram], axis=0)\n",
    "print(combined_data.info())\n",
    "\n",
    "combined_data\n"
   ]
  },
  {
   "cell_type": "code",
   "execution_count": null,
   "metadata": {},
   "outputs": [
    {
     "data": {
      "text/plain": [
       "['<time>',\n",
       " '<//time>',\n",
       " '< /time>',\n",
       " '< time>',\n",
       " '<//Time>',\n",
       " '< Time>',\n",
       " '<Time>',\n",
       " '</Time>',\n",
       " '</time>',\n",
       " '< /Time>']"
      ]
     },
     "execution_count": 72,
     "metadata": {},
     "output_type": "execute_result"
    }
   ],
   "source": [
    "attributes_pattern = re.compile(\"<.{1,10}>\")\n",
    "attributes = attributes_pattern.findall(all_text_data)\n",
    "\n",
    "list_values = list(set(attributes))\n",
    "\n",
    "date_attributes = []\n",
    "for attr in list_values:\n",
    "  if 'date' in attr.lower():\n",
    "    date_attributes.append(attr)\n",
    "\n",
    "# date_attributes\n",
    "\n",
    "\n",
    "time_attributes = []\n",
    "for attr in list_values:\n",
    "  if 'time' in attr.lower():\n",
    "    time_attributes.append(attr)\n",
    "\n",
    "time_attributes\n"
   ]
  },
  {
   "cell_type": "code",
   "execution_count": null,
   "metadata": {},
   "outputs": [
    {
     "name": "stdout",
     "output_type": "stream",
     "text": [
      "                 user_id             name           time rating  \\\n",
      "0  103499789493991350231   Alyson Hoffman  1622523469987      5   \n",
      "1  105404622065259965715     OnlyOneEarth  1616313596636      5   \n",
      "2  118347770680889723845  matthew thomson  1618155881302      5   \n",
      "3  109541606733835908756          Becky B  1615822926221      5   \n",
      "4  108792737827746934756  Tiffany Klitzke  1612288803586      5   \n",
      "\n",
      "                                                text  \\\n",
      "0  Booked last minute rentals here over Memorial ...   \n",
      "1  When I went into Epicenter Cycling, I was look...   \n",
      "2  Amazing selection of Trek bikes! We were told ...   \n",
      "3  Absolutely flawless experience ordering, sizin...   \n",
      "4  All of the employees were so friendly and help...   \n",
      "\n",
      "                                                pics  \\\n",
      "0                                               None   \n",
      "1  [{'url': ['https://lh5.googleusercontent.com/p...   \n",
      "2                                               None   \n",
      "3  [{'url': ['https://lh5.googleusercontent.com/p...   \n",
      "4                                               None   \n",
      "\n",
      "                                                resp  \\\n",
      "0                                               None   \n",
      "1  {'time': 1616349255531, 'text': \"We're so happ...   \n",
      "2  {'time': 1622404153725, 'text': \"Thanks for ta...   \n",
      "3  {'time': 1616264680468, 'text': 'Thank you so ...   \n",
      "4  {'time': 1614824613439, 'text': \"Thank you so ...   \n",
      "\n",
      "                                 gmap_id  \n",
      "0  0x808e6a7f6b666d4f:0xfd9214abe1df3a4d  \n",
      "1  0x808e6a7f6b666d4f:0xfd9214abe1df3a4d  \n",
      "2  0x808e6a7f6b666d4f:0xfd9214abe1df3a4d  \n",
      "3  0x808e6a7f6b666d4f:0xfd9214abe1df3a4d  \n",
      "4  0x808e6a7f6b666d4f:0xfd9214abe1df3a4d  \n",
      "<class 'pandas.core.frame.DataFrame'>\n",
      "RangeIndex: 44697 entries, 0 to 44696\n",
      "Data columns (total 8 columns):\n",
      " #   Column   Non-Null Count  Dtype \n",
      "---  ------   --------------  ----- \n",
      " 0   user_id  44697 non-null  object\n",
      " 1   name     44697 non-null  object\n",
      " 2   time     44697 non-null  object\n",
      " 3   rating   44697 non-null  object\n",
      " 4   text     44697 non-null  object\n",
      " 5   pics     44697 non-null  object\n",
      " 6   resp     44697 non-null  object\n",
      " 7   gmap_id  44697 non-null  object\n",
      "dtypes: object(8)\n",
      "memory usage: 2.7+ MB\n",
      "None\n",
      "<class 'pandas.core.frame.DataFrame'>\n",
      "RangeIndex: 44697 entries, 0 to 44696\n",
      "Data columns (total 8 columns):\n",
      " #   Column   Non-Null Count  Dtype \n",
      "---  ------   --------------  ----- \n",
      " 0   user_id  44697 non-null  object\n",
      " 1   name     44697 non-null  object\n",
      " 2   time     44697 non-null  object\n",
      " 3   rating   44697 non-null  object\n",
      " 4   text     44697 non-null  object\n",
      " 5   pics     44697 non-null  object\n",
      " 6   resp     44697 non-null  object\n",
      " 7   gmap_id  44697 non-null  object\n",
      "dtypes: object(8)\n",
      "memory usage: 2.7+ MB\n",
      "None\n"
     ]
    }
   ],
   "source": [
    "print(text_datafram.head())\n",
    "print(text_datafram.info())\n",
    "print(text_datafram.info())"
   ]
  },
  {
   "cell_type": "markdown",
   "metadata": {
    "id": "YTqmBHIKiqK_"
   },
   "source": [
    "These patterns are used in the next step when reading the files."
   ]
  },
  {
   "cell_type": "markdown",
   "metadata": {
    "id": "gZ-njkJciqK_"
   },
   "source": [
    "-------------------------------------"
   ]
  },
  {
   "cell_type": "markdown",
   "metadata": {
    "id": "QGcAMvmhiqK_"
   },
   "source": [
    "<div class=\"alert alert-block alert-info\">\n",
    "    \n",
    "### 4.2. Reading Files <a class=\"anchor\" name=\"Read\"></a>"
   ]
  },
  {
   "cell_type": "markdown",
   "metadata": {
    "id": "llC5D5M3iqK_"
   },
   "source": [
    "In this step, all files are read and parsed. "
   ]
  },
  {
   "cell_type": "markdown",
   "metadata": {
    "id": "G-brytUfiqLA"
   },
   "source": [
    "Let's take a look at the first ten elements of the lists generated. We can see that ids, reviews,etc. are parsed and stored correctly."
   ]
  },
  {
   "cell_type": "markdown",
   "metadata": {
    "id": "MD-LSS76iqLA"
   },
   "source": [
    "-------------------------------------"
   ]
  },
  {
   "cell_type": "markdown",
   "metadata": {
    "id": "ZtwS6ttqiqLA"
   },
   "source": [
    "<div class=\"alert alert-block alert-info\">\n",
    "    \n",
    "### 4.3. Whatever else <a class=\"anchor\" name=\"latin\"></a>"
   ]
  },
  {
   "cell_type": "markdown",
   "metadata": {
    "id": "8IJ63oV9iqLA"
   },
   "source": [
    "the rest of your methodology"
   ]
  },
  {
   "cell_type": "markdown",
   "metadata": {
    "id": "7g9k9Fb8iqLB"
   },
   "source": [
    "-------------------------------------"
   ]
  },
  {
   "cell_type": "markdown",
   "metadata": {
    "collapsed": true,
    "id": "KVwmp1LfiqLE"
   },
   "source": [
    "<div class=\"alert alert-block alert-warning\"> \n",
    "\n",
    "## 5.  Writing to JSON File <a class=\"anchor\" name=\"write\"></a>\n",
    "\n",
    "</div>"
   ]
  },
  {
   "cell_type": "markdown",
   "metadata": {
    "id": "tFHcHFPGiqLE"
   },
   "source": [
    "...."
   ]
  },
  {
   "cell_type": "markdown",
   "metadata": {
    "id": "i0WT10TJiqLE"
   },
   "source": [
    "-------------------------------------"
   ]
  },
  {
   "cell_type": "markdown",
   "metadata": {
    "collapsed": true,
    "id": "3XcaJBATiqLE"
   },
   "source": [
    "<div class=\"alert alert-block alert-info\">\n",
    "    \n",
    "### 5.1. Verification of the Generated JSON File <a class=\"anchor\" name=\"test_xml\"></a>"
   ]
  },
  {
   "cell_type": "markdown",
   "metadata": {
    "id": "cO8vwKqkiqLF"
   },
   "source": [
    "<div class=\"alert alert-block alert-warning\"> \n",
    "\n",
    "## 6. Summary <a class=\"anchor\" name=\"summary\"></a>\n",
    "\n",
    "</div>"
   ]
  },
  {
   "cell_type": "markdown",
   "metadata": {
    "id": "jEg_xQdXiqLF"
   },
   "source": [
    "...."
   ]
  },
  {
   "cell_type": "markdown",
   "metadata": {
    "id": "20RDw_JDiqLF"
   },
   "source": [
    "-------------------------------------"
   ]
  },
  {
   "cell_type": "markdown",
   "metadata": {
    "id": "4QdX7ozQiqLF"
   },
   "source": [
    "...."
   ]
  },
  {
   "cell_type": "markdown",
   "metadata": {
    "id": "TnASfTmniqLF"
   },
   "source": [
    "-------------------------------------"
   ]
  },
  {
   "cell_type": "markdown",
   "metadata": {
    "id": "Li7bchX9iqLF"
   },
   "source": [
    "<div class=\"alert alert-block alert-warning\"> \n",
    "\n",
    "## 7. References <a class=\"anchor\" name=\"Ref\"></a>\n",
    "\n",
    "</div>"
   ]
  },
  {
   "cell_type": "markdown",
   "metadata": {
    "id": "TkWuWC3NiqLF"
   },
   "source": [
    "\n",
    "\n",
    "[1]<a class=\"anchor\" name=\"ref-2\"></a> Why do I need to add DOTALL to python regular expression to match new line in raw string, https://stackoverflow.com/questions/22610247, Accessed 30/08/2022.\n",
    "\n",
    "....\n"
   ]
  },
  {
   "cell_type": "markdown",
   "metadata": {
    "id": "dVyuz4LciqLG"
   },
   "source": [
    "## --------------------------------------------------------------------------------------------------------------------------"
   ]
  }
 ],
 "metadata": {
  "colab": {
   "name": "task1_xxxxxxx.ipynb",
   "provenance": []
  },
  "kernelspec": {
   "display_name": "Python 3",
   "language": "python",
   "name": "python3"
  },
  "language_info": {
   "codemirror_mode": {
    "name": "ipython",
    "version": 3
   },
   "file_extension": ".py",
   "mimetype": "text/x-python",
   "name": "python",
   "nbconvert_exporter": "python",
   "pygments_lexer": "ipython3",
   "version": "3.12.4"
  },
  "toc": {
   "base_numbering": 1,
   "nav_menu": {},
   "number_sections": true,
   "sideBar": true,
   "skip_h1_title": false,
   "title_cell": "Table of Contents",
   "title_sidebar": "Contents",
   "toc_cell": false,
   "toc_position": {},
   "toc_section_display": true,
   "toc_window_display": false
  }
 },
 "nbformat": 4,
 "nbformat_minor": 1
}
