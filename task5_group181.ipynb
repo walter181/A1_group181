{
  "cells": [
    {
      "cell_type": "markdown",
      "metadata": {
        "id": "QeEvzui7SJCq"
      },
      "source": [
        "# TASK 5 - Development History"
      ]
    },
    {
      "cell_type": "markdown",
      "metadata": {
        "id": "p2WD1VpZSSzy"
      },
      "source": [
        "##Task 1\n",
        "### Date: 03/01/2023\n",
        "\n",
        "Today, we went through the assignment specification, and started exploring task 1 data.\n",
        "\n",
        "#### contribution:\n",
        "\n",
        " Group member 1:\n",
        "- understood the data structure by exploring data via xxxx. Identified data pattern XYZ\n",
        "\n",
        " Group member 2:\n",
        "- understood the data structure by exploring data via xxxx. Identified data pattern XYZ\n",
        "\n",
        "#### proof\n",
        "(**If devevelopment was not done in google colab**\n",
        " provide some screenshots)\n",
        "### Date 05/01/2023\n",
        "Today, we started reading the data by python and extracted the key fields we needed. We loaded the extracted information into a pandas.\n",
        "####Contribution:\n",
        "\n",
        " Group member 1:\n",
        "- Reading and loading data\n",
        "\n",
        " Group member 2:\n",
        "- Documentation.\n",
        "\n",
        "####Proof\n",
        "(**If devevelopment was not done in google colab**\n",
        " provide some screenshots)\n",
        "\n",
        "### Date 06/01/2023\n",
        "Today, we realised we needed to remove xml special characters from the text. We also performed some pandas dataframe manipulations to calculate the property counts\n",
        "####Contribution\n",
        " Group member 1:\n",
        "- xml special characters removal\n",
        "\n",
        " Group member 2:\n",
        "- calculated the property count\n",
        "\n",
        "####Proof\n",
        "(**If devevelopment was not done in google colab**\n",
        " provide some screenshots)\n",
        "\n",
        "###Google Colab Workbook Link\n",
        "\n",
        "link\n"
      ]
    }
  ],
  "metadata": {
    "colab": {
      "provenance": []
    },
    "kernelspec": {
      "display_name": "Python 3",
      "name": "python3"
    },
    "language_info": {
      "name": "python"
    }
  },
  "nbformat": 4,
  "nbformat_minor": 0
}
