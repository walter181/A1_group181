{
  "cells": [
    {
      "cell_type": "markdown",
      "metadata": {
        "id": "QeEvzui7SJCq"
      },
      "source": [
        "# TASK 5 - Development History"
      ]
    },
    {
      "cell_type": "markdown",
      "metadata": {
        "id": "p2WD1VpZSSzy"
      },
      "source": [
        "#### Our group used Visual Studio Code as our editor, and we worked in a local file environment (we downloaded the shared data and files from Google Drive). We used GitHub to manage our code and collaborate effectively. Below is the link to our GitHub repository.\n",
        "\n",
        "https://github.com/walter181/A1_group181\n",
        "\n",
        "##Task 1\n",
        "### Date: 23/08/2024\n",
        "\n",
        "Today, We worked together to complete task1. The output files pass the tutor's test file for task1.\n",
        "\n",
        "#### contribution:\n",
        "\n",
        " Group member 1:Deshui Yu\n",
        "- Done regular expression cooperation with Liangjing Yang, and I have done Txt file parsing and excel file parsing part.\n",
        "- Export the files together and complete the tests.\n",
        " Group member 2: Liangjing Yang\n",
        "- Done regular expression cooperation with Deshui Yu, and I have done Further process the extracted text from Step 1 part.\n",
        "- Export the files together and complete the tests.\n",
        "#### proof\n",
        "(**If devevelopment was not done in google colab**\n",
        "![the task 1 finished history](../A1_group181/History_Picture/task1.jpg)\n",
        "\n",
        "### Date 26/08/2024\n",
        "Today, I completed the task2 part and passed the test file of the tutor (after my Liangjing Yang discussed task2, I was mainly responsible for it).\n",
        "####Contribution:\n",
        "\n",
        " Group member 1:Deshui Yu\n",
        "- Completed Task 2 according to the requirements outlined in the assignment document, using the content from the applied course materials. I successfully finished the Text Extraction, generated the unigram and bigram lists, and output them as vocab.txt. I also generated the sparse numerical representation and output it as countvec.txt, and the files passed the tests.\n",
        "\n",
        " Group member 2:Liangjing Yang\n",
        "- Liangjing Yang joined the discussion and we talked about the code and debugging bugs together.\n",
        "\n",
        "####Proof\n",
        "(**If devevelopment was not done in google colab**\n",
        " ![the task 2 finished history](../A1_group181/History_Picture/task2.jpg)\n",
        "\n",
        "### Date 29/08/2023\n",
        "Today, we finished task3 and recorded the presentation video together.(after our discussed task3, Liangjing Yang was mainly responsible for it).\n",
        "####Contribution\n",
        " Group member 1:Deshui Yu\n",
        "- Participate in discussions and give suggestions, then record a video together.\n",
        "\n",
        " Group member 2:Liangjing Yang\n",
        "- Liangjing Yang primarily completed Task 3, focusing on analyzing and understanding the sample data, understanding the auxiliary dataset (metadata), and data analysis. We also recorded the video together.\n",
        "\n",
        "####Proof\n",
        "(**If devevelopment was not done in google colab**\n",
        " ![the task 3 finished history](../A1_group181/History_Picture/task3.jpg)\n",
        " ![the finished picture](../A1_group181/History_Picture/finish.png)\n",
        "###git hub commit history picture\n",
        " ![the git history](../A1_group181/History_Picture/git_history1.png)\n",
        "  ![the git history](../A1_group181/History_Picture/git_history2.png)\n"
      ]
    }
  ],
  "metadata": {
    "colab": {
      "provenance": []
    },
    "kernelspec": {
      "display_name": "Python 3",
      "name": "python3"
    },
    "language_info": {
      "name": "python"
    }
  },
  "nbformat": 4,
  "nbformat_minor": 0
}
